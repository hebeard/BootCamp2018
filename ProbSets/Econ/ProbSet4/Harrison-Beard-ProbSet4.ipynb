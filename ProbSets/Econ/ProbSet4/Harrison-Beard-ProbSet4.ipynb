{
 "cells": [
  {
   "cell_type": "markdown",
   "metadata": {},
   "source": [
    "# DSGE Models."
   ]
  },
  {
   "cell_type": "markdown",
   "metadata": {},
   "source": [
    "_Received help from and worked with at least the following people:_\n",
    "\n",
    "_Kendra Robbins, Cache Ellsworth, Alberto Quaini, Tim Munday, Matt Brown._\n",
    "\n",
    "_Thank you to everyone who helped. This was by far the hardest problem set._\n",
    "\n",
    "_The problem set is unfortunately incomplete. I ran into too many problems with debugging to be able to solve in time._"
   ]
  },
  {
   "cell_type": "code",
   "execution_count": 91,
   "metadata": {},
   "outputs": [
    {
     "name": "stdout",
     "output_type": "stream",
     "text": [
      "Collecting dolo\n",
      "\u001b[?25l  Downloading https://files.pythonhosted.org/packages/f0/98/25bf74a1c38cbf43cd46371d4c9b657e41e615e2674ae2c1cc1ade5eab56/dolo-0.4.9.5.tar.gz (109kB)\n",
      "\u001b[K    100% |████████████████████████████████| 112kB 2.8MB/s ta 0:00:01\n",
      "\u001b[?25hRequirement already satisfied: pyyaml in /anaconda3/lib/python3.6/site-packages (from dolo) (3.12)\n",
      "Requirement already satisfied: numba in /anaconda3/lib/python3.6/site-packages (from dolo) (0.38.0)\n",
      "Requirement already satisfied: numpy in /anaconda3/lib/python3.6/site-packages (from dolo) (1.14.3)\n",
      "Requirement already satisfied: numexpr in /anaconda3/lib/python3.6/site-packages (from dolo) (2.6.5)\n",
      "Requirement already satisfied: sympy in /anaconda3/lib/python3.6/site-packages (from dolo) (1.1.1)\n",
      "Requirement already satisfied: pandas in /anaconda3/lib/python3.6/site-packages (from dolo) (0.23.0)\n",
      "Collecting interpolation (from dolo)\n",
      "  Downloading https://files.pythonhosted.org/packages/28/8c/59971442d45d8796486480f86f7db84dfa43021e2c4b707866f5b8051c3b/interpolation-0.1.6.tar.gz\n",
      "Collecting ruamel.yaml (from dolo)\n",
      "\u001b[?25l  Downloading https://files.pythonhosted.org/packages/92/48/150c0a25fc76a56487b6ab749f2452bb7e352517ece893a8fe0e62cc7c22/ruamel.yaml-0.15.44-cp36-cp36m-macosx_10_9_x86_64.whl (231kB)\n",
      "\u001b[K    100% |████████████████████████████████| 235kB 3.3MB/s ta 0:00:01\n",
      "\u001b[?25hRequirement already satisfied: llvmlite>=0.23.0dev0 in /anaconda3/lib/python3.6/site-packages (from numba->dolo) (0.23.1)\n",
      "Requirement already satisfied: python-dateutil>=2.5.0 in /anaconda3/lib/python3.6/site-packages (from pandas->dolo) (2.7.3)\n",
      "Requirement already satisfied: pytz>=2011k in /anaconda3/lib/python3.6/site-packages (from pandas->dolo) (2018.4)\n",
      "Requirement already satisfied: six>=1.5 in /anaconda3/lib/python3.6/site-packages (from python-dateutil>=2.5.0->pandas->dolo) (1.11.0)\n",
      "Building wheels for collected packages: dolo, interpolation\n",
      "  Running setup.py bdist_wheel for dolo ... \u001b[?25ldone\n",
      "\u001b[?25h  Stored in directory: /Users/hbeard/Library/Caches/pip/wheels/35/ec/6f/c6ad075a089bb59c1f175406d08c9ea75c1e96344ebaf03914\n",
      "  Running setup.py bdist_wheel for interpolation ... \u001b[?25ldone\n",
      "\u001b[?25h  Stored in directory: /Users/hbeard/Library/Caches/pip/wheels/30/87/4c/9fc62ec4ebebb9e3885d383acf7c45a0f84a4b3f616821f9e9\n",
      "Successfully built dolo interpolation\n",
      "Installing collected packages: interpolation, ruamel.yaml, dolo\n",
      "Successfully installed dolo-0.4.9.5 interpolation-0.1.6 ruamel.yaml-0.15.44\n"
     ]
    }
   ],
   "source": [
    "!pip install dolo"
   ]
  },
  {
   "cell_type": "code",
   "execution_count": 5,
   "metadata": {},
   "outputs": [],
   "source": [
    "import numpy as np\n",
    "import math\n",
    "import scipy\n",
    "import scipy.optimize as opt\n",
    "import matplotlib\n",
    "from matplotlib import pyplot as plt\n",
    "from mpl_toolkits.mplot3d import Axes3D\n",
    "from rouwen import rouwen\n",
    "from LinApp_Deriv import LinApp_Deriv\n",
    "from LinApp_FindSS import LinApp_FindSS\n",
    "from LinApp_Solve import LinApp_Solve\n",
    "from dolo import *"
   ]
  },
  {
   "cell_type": "markdown",
   "metadata": {},
   "source": [
    "## Exercise 1."
   ]
  },
  {
   "cell_type": "markdown",
   "metadata": {},
   "source": [
    "First, we guess the policy function as \n",
    "\n",
    "$$\n",
    "\\begin{eqnarray*}\n",
    "k_{t+1} &=& \\Phi(k_t, z_t) \\\\\n",
    "&=& A\\mathrm e ^{z_t} k_t ^\\alpha \n",
    "\\end{eqnarray*}\n",
    "$$\n",
    "\n",
    "for some $A$. Plugging back into the Euler Equation,\n",
    "\n",
    "$$\n",
    "\\frac 1 {\\mathrm e ^{z_t} k_t ^\\alpha - k_{t+1}} = \\beta \\cdot \\mathbb E _t \\left[ \\frac {\\alpha \\mathrm e ^{z_{t+1}} k_{t+1}^{\\alpha-1}}{\\mathrm e ^{z_{t+1}} k_{t+1} ^\\alpha - k_{t+2}} \\right],\n",
    "$$\n",
    "\n",
    "so\n",
    "\n",
    "$$\n",
    "\\begin{eqnarray*}\n",
    "\\frac 1 {\\mathrm e ^{z_t} k_t ^\\alpha (1-A)} &=& \\frac 1 {\\mathrm e ^{z_t} k_t ^\\alpha - A \\mathrm e ^{z_t} k_t ^\\alpha }\\\\\n",
    "&=& \\beta \\cdot \\mathbb E _t \\left[ \\frac {\\alpha \\mathrm e ^{z_{t+1}} k_{t+1} ^{\\alpha -1}}{\\mathrm e ^{z_{t+1}} k_{t+1} ^\\alpha - k_{t+2}} \\right]\\\\\n",
    "&=& \\beta \\cdot \\left( \\frac {\\alpha \\mathrm e ^{\\rho z_t} (A\\mathrm e ^{z_t} k_t ^\\alpha ) ^{\\alpha-1}}{\\mathrm e ^{\\rho z_t} (A\\mathrm e ^{z_t} k_t ^\\alpha ) ^\\alpha (1-A)} \\right)\\\\\n",
    "&=& \\frac {\\alpha \\beta}{A\\mathrm e ^{z_t} k_t ^\\alpha (1-A)},\n",
    "\\end{eqnarray*}\n",
    "$$\n",
    "\n",
    "yielding\n",
    "\n",
    "$$\n",
    "1=\\frac {\\alpha \\beta } {A},\n",
    "$$\n",
    "\n",
    "i.e.,\n",
    "\n",
    "$$\n",
    "A=\\alpha\\beta .\n",
    "$$"
   ]
  },
  {
   "cell_type": "markdown",
   "metadata": {},
   "source": [
    "## Exercise 2."
   ]
  },
  {
   "cell_type": "markdown",
   "metadata": {},
   "source": [
    "Our market-clearing conditions are\n",
    "\n",
    "$$\n",
    "\\begin{eqnarray*}\n",
    "\\ell_t&=&L_t,\\\\\n",
    "k_t&=&K_t,\\\\\n",
    "w_t&=&W_t,\n",
    "\\end{eqnarray*}\n",
    "$$\n",
    "\n",
    "and\n",
    "\n",
    "$$\n",
    "r_t=R_t.\n",
    "$$\n",
    "\n",
    "Assuming balanced fiscal budget,\n",
    "\n",
    "$$\n",
    "T_t = \\tau \\cdot \\left( w_t \\ell_t + k_t \\cdot \\left( r_t -\\delta \\right) \\right),\n",
    "$$\n",
    "\n",
    "and the law of motion\n",
    "\n",
    "$$\n",
    "z_t = (1-\\rho_z) \\bar z + \\rho_z z_{t-1} + \\varepsilon _t ^z,\n",
    "$$\n",
    "\n",
    "for the IID stochastic shocks $\\varepsilon_t^z$ with mean $0$ and variance $\\sigma_z^2$.\n",
    "\n",
    "Characterizing Equations:\n",
    "\n",
    "$$\n",
    "\\begin{eqnarray*}\n",
    "c_t &=& (1-\\tau) \\cdot \\left( w_t \\ell_t + k_t \\cdot \\left( r_t -\\delta \\right) \\right) + k_t + T_t - k_{t+1}, \\\\\n",
    "\\frac 1 {c_t} &=& \\beta \\cdot \\mathbb E _t \\left[ \\frac 1 {c_{t+1}} \\cdot \\left( (r_{t+1} - \\delta) \\cdot (1-\\tau) +1 \\right) \\right],\\\\\n",
    "\\frac a {1-\\ell_t} &=& \\frac 1 {c_t} \\cdot w_t \\cdot (1-\\tau), \\\\ \n",
    "r_t &=& \\alpha \\mathrm e ^{z_t} \\left( \\frac {\\ell_t} {k_t} \\right) ^{1-\\alpha},\\\\\n",
    "w_t &=& (1-\\alpha) \\mathrm e ^{z_t} \\left( \\frac {k_t} {\\ell_t} \\right) ^\\alpha.\n",
    "\\end{eqnarray*}\n",
    "$$"
   ]
  },
  {
   "cell_type": "markdown",
   "metadata": {},
   "source": [
    "## Exercise 3."
   ]
  },
  {
   "cell_type": "markdown",
   "metadata": {},
   "source": [
    "Our market-clearing conditions are\n",
    "\n",
    "$$\n",
    "\\begin{eqnarray*}\n",
    "\\ell_t&=&L_t,\\\\\n",
    "k_t&=&K_t,\\\\\n",
    "w_t&=&W_t,\n",
    "\\end{eqnarray*}\n",
    "$$\n",
    "\n",
    "and\n",
    "\n",
    "$$\n",
    "r_t=R_t.\n",
    "$$\n",
    "\n",
    "Assuming balanced fiscal budget,\n",
    "\n",
    "$$\n",
    "T_t = \\tau \\cdot \\left( w_t \\ell_t + k_t \\cdot \\left( r_t -\\delta \\right) \\right),\n",
    "$$\n",
    "\n",
    "and the law of motion\n",
    "\n",
    "$$\n",
    "z_t = (1-\\rho_z) \\bar z + \\rho_z z_{t-1} + \\varepsilon _t ^z,\n",
    "$$\n",
    "\n",
    "for the IID stochastic shocks $\\varepsilon_t^z$ with mean $0$ and variance $\\sigma_z^2$.\n",
    "\n",
    "Characterizing Equations:\n",
    "\n",
    "$$\n",
    "\\begin{eqnarray*}\n",
    "c_t &=& (1-\\tau) \\cdot \\left( w_t \\ell_t + k_t \\cdot \\left( r_t -\\delta \\right) \\right) + k_t + T_t - k_{t+1}, \\\\\n",
    "\\frac 1 {c_t^\\gamma} &=& \\beta \\cdot \\mathbb E _t \\left[ \\frac 1 {c_{t+1}^\\gamma} \\cdot \\left( (r_{t+1} - \\delta) \\cdot (1-\\tau) +1 \\right) \\right],\\\\\n",
    "\\frac a {1-\\ell_t} &=& \\frac 1 {c_t^\\gamma} \\cdot w_t \\cdot (1-\\tau), \\\\ \n",
    "r_t &=& \\alpha \\mathrm e ^{z_t} \\left( \\frac {\\ell_t} {k_t} \\right) ^{1-\\alpha},\\\\\n",
    "w_t &=& (1-\\alpha) \\mathrm e ^{z_t} \\left( \\frac {k_t} {\\ell_t} \\right) ^\\alpha.\n",
    "\\end{eqnarray*}\n",
    "$$"
   ]
  },
  {
   "cell_type": "markdown",
   "metadata": {},
   "source": [
    "## Exercise 4."
   ]
  },
  {
   "cell_type": "markdown",
   "metadata": {},
   "source": [
    "Our market-clearing conditions are\n",
    "\n",
    "$$\n",
    "\\begin{eqnarray*}\n",
    "\\ell_t&=&L_t,\\\\\n",
    "k_t&=&K_t,\\\\\n",
    "w_t&=&W_t,\n",
    "\\end{eqnarray*}\n",
    "$$\n",
    "\n",
    "and\n",
    "\n",
    "$$\n",
    "r_t=R_t.\n",
    "$$\n",
    "\n",
    "Assuming balanced fiscal budget,\n",
    "\n",
    "$$\n",
    "T_t = \\tau \\cdot \\left( w_t \\ell_t + k_t \\cdot \\left( r_t -\\delta \\right) \\right),\n",
    "$$\n",
    "\n",
    "and the law of motion\n",
    "\n",
    "$$\n",
    "z_t = (1-\\rho_z) \\bar z + \\rho_z z_{t-1} + \\varepsilon _t ^z,\n",
    "$$\n",
    "\n",
    "for the IID stochastic shocks $\\varepsilon_t^z$ with mean $0$ and variance $\\sigma_z^2$.\n",
    "\n",
    "Characterizing Equations:\n",
    "\n",
    "$$\n",
    "\\begin{eqnarray*}\n",
    "c_t &=& (1-\\tau) \\cdot \\left( w_t \\ell_t + k_t \\cdot \\left( r_t -\\delta \\right) \\right) + k_t + T_t - k_{t+1}, \\\\\n",
    "\\frac 1 {c_t^\\gamma} &=& \\beta \\cdot \\mathbb E _t \\left[ \\frac 1 {c_{t+1}^\\gamma} \\cdot \\left( (r_{t+1} - \\delta) \\cdot (1-\\tau) +1 \\right) \\right],\\\\\n",
    "\\frac a {\\left(1-\\ell_t\\right)^\\xi} &=& \\frac 1 {c_t^\\gamma} \\cdot w_t \\cdot (1-\\tau), \\\\ \n",
    "r_t &=& \\alpha k_t ^ {\\eta-1} \\mathrm e ^{z_t} \\left[ \\alpha k_t ^\\eta + (1-\\alpha ) \\ell_t ^\\eta \\right] ^{\\frac 1 \\eta -1},\\\\\n",
    "w_t &=& (1-\\alpha) \\ell_t ^{\\eta-1} \\mathrm e ^{z_t} \\left[ \\alpha k_t ^\\eta +(1-\\alpha)\\ell_t ^\\eta \\right] ^{\\frac 1 \\eta -1}.\n",
    "\\end{eqnarray*}\n",
    "$$"
   ]
  },
  {
   "cell_type": "markdown",
   "metadata": {},
   "source": [
    "## Exercise 5."
   ]
  },
  {
   "cell_type": "markdown",
   "metadata": {},
   "source": [
    "Our market-clearing conditions are\n",
    "\n",
    "$$\n",
    "\\begin{eqnarray*}\n",
    "\\ell_t&=&L_t,\\\\\n",
    "k_t&=&K_t,\\\\\n",
    "w_t&=&W_t,\n",
    "\\end{eqnarray*}\n",
    "$$\n",
    "\n",
    "and\n",
    "\n",
    "$$\n",
    "r_t=R_t.\n",
    "$$\n",
    "\n",
    "Assuming balanced fiscal budget,\n",
    "\n",
    "$$\n",
    "T_t = \\tau \\cdot \\left( w_t \\ell_t + k_t \\cdot \\left( r_t -\\delta \\right) \\right),\n",
    "$$\n",
    "\n",
    "and the law of motion\n",
    "\n",
    "$$\n",
    "z_t = (1-\\rho_z) \\bar z + \\rho_z z_{t-1} + \\varepsilon _t ^z,\n",
    "$$\n",
    "\n",
    "for the IID stochastic shocks $\\varepsilon_t^z$ with mean $0$ and variance $\\sigma_z^2$.\n",
    "\n",
    "Characterizing Equations:\n",
    "\n",
    "$$\n",
    "\\begin{eqnarray*}\n",
    "c_t &=& (1-\\tau) \\cdot \\left( w_t \\ell_t + k_t \\cdot \\left( r_t -\\delta \\right) \\right) + k_t + T_t - k_{t+1}, \\\\\n",
    "\\frac 1 {c_t^\\gamma} &=& \\beta \\cdot \\mathbb E _t \\left[ \\frac 1 {c_{t+1}^\\gamma} \\cdot \\left( (r_{t+1} - \\delta) \\cdot (1-\\tau) +1 \\right) \\right].\n",
    "\\end{eqnarray*}\n",
    "$$"
   ]
  },
  {
   "cell_type": "markdown",
   "metadata": {},
   "source": [
    "$\\ell_t =1$, so we have\n",
    "\n",
    "$$\n",
    "\\begin{eqnarray*}\n",
    "r_t &=& \\alpha \\left( \\frac {\\mathrm e ^{z_t} \\ell_t}{k_t} \\right)^{1-\\alpha}\\\\\n",
    "w_t &=& (1-\\alpha) \\mathrm e ^{z_t} \\left( \\frac {k_t}{\\mathrm e ^{z_t}}\\right)^\\alpha.\n",
    "\\end{eqnarray*}\n",
    "$$\n",
    "\n",
    "Note that $\\mathrm e ^{\\bar z} = \\mathrm e ^0 =1$ so\n",
    "\n",
    "$$\n",
    "\\begin{eqnarray*}\n",
    "\\bar c &=& \\bar w +(\\bar r -\\delta)\\bar k \\\\\n",
    "\\frac 1 {\\bar c ^\\gamma} &=& \\beta \\cdot\\frac 1 {\\bar c ^\\gamma} \\left[ \\left( \\bar r -\\delta \\right) (1-\\tau) +1 \\right] \\\\\n",
    "\\bar r &=& \\alpha \\left( \\frac 1 {\\bar k} \\right) ^{1-\\alpha} \\\\\n",
    "\\bar w &=& (1-\\alpha) \\cdot \\left(\\bar k \\right) ^\\alpha.\n",
    "\\end{eqnarray*}\n",
    "$$"
   ]
  },
  {
   "cell_type": "markdown",
   "metadata": {},
   "source": [
    "Solving for $\\bar r$,\n",
    "\n",
    "$$\n",
    "\\begin{eqnarray*}\n",
    "\\bar r &=& \\delta + \\frac{1 - \\beta}{\\beta \\cdot (1 - \\tau)} \\\\\n",
    "&=& \\frac{1 - \\beta + \\delta \\cdot \\beta(1 - \\tau)}{\\beta \\cdot(1 - \\tau)}.\n",
    "\\end{eqnarray*}\n",
    "$$\n",
    "\n",
    "Solving for $\\bar k $,\n",
    "\n",
    "$$\n",
    "\\begin{eqnarray*}\n",
    "\\bar k &=& \\left( \\frac \\alpha {\\bar r} \\right) ^{\\frac 1 {1 - \\alpha}} , \\\\\n",
    "&=& \\left( \\frac {\\alpha \\cdot \\beta\\cdot\\left(1 -\\tau\\right)}{1 - \\beta + \\delta \\cdot \\beta \\cdot \\left(1 - \\tau\\right)} \\right) ^{\\frac 1 {1 - \\alpha}}.\n",
    "\\end{eqnarray*}\n",
    "$$\n",
    "\n",
    "Solving for $\\bar w$,\n",
    "\n",
    "$$\n",
    "\\begin{eqnarray*}\n",
    "\\bar w &=& (1 - \\alpha) \\cdot  \\bar{k} ^\\alpha , \\\\\n",
    "&=& (1 - \\alpha)\\cdot\\left(\\frac{\\alpha \\cdot \\beta\\cdot\\left(1 -\\tau\\right)}{1 - \\beta + \\delta \\cdot \\beta\\cdot (1 -\\tau)} \\right)^{\\frac \\alpha {1 - \\alpha}}. \n",
    "\\end{eqnarray*}\n",
    "$$\n",
    "\n",
    "Finally,\n",
    "\n",
    "$$ \n",
    "\\begin{eqnarray*}\n",
    "\\bar c &=& \\bar w + (\\bar r - \\delta) \\bar k, \\\\\n",
    "\\bar Y &=& \\bar{k} ^\\alpha, \\\\\n",
    "\\bar I &=& \\delta \\cdot \\bar k .\n",
    "\\end{eqnarray*}\n",
    "$$"
   ]
  },
  {
   "cell_type": "code",
   "execution_count": 15,
   "metadata": {},
   "outputs": [],
   "source": [
    "def def_params():\n",
    "    γ = 2.5\n",
    "    β = 0.98\n",
    "    α = 0.40\n",
    "    δ = 0.10\n",
    "    z_ss = 0\n",
    "    τ = 0.05\n",
    "    return (γ,β,α,δ,z_ss,τ)"
   ]
  },
  {
   "cell_type": "code",
   "execution_count": 22,
   "metadata": {},
   "outputs": [],
   "source": [
    "def problem1_5_1(params):\n",
    "    γ, β, α, δ, z_ss, τ = params\n",
    "    print(\" •  r:\", δ+(1-β)/(β*(1-τ)),\"\\n\",\n",
    "          \"•  k:\", (α/(δ+(1-β)/(β*(1-τ))))**(1/(1-α)),\"\\n\",\n",
    "          \"•  w:\", (1-α)*((α/(δ+(1-β)/(β*(1-τ))))**(1/(1-α)))**α,\"\\n\",\n",
    "          \"•  c:\", (((1-α)*((α/(δ+(1-β)/(β*(1-τ))))**(1/(1-α)))**α)+\n",
    "                    ((δ+(1-β)/(β*(1-τ)))-δ)*((α/(δ+(1-β)/(β*(1-τ))))**(1/(1-α)))),\"\\n\",\n",
    "          \"•  Y:\", ((α/(δ+(1-β)/(β*(1-τ))))**(1/(1-α)))**α,\"\\n\",\n",
    "          \"•  I:\", δ*((α/(δ+(1-β)/(β*(1-τ))))**(1/(1-α)))\n",
    "         )"
   ]
  },
  {
   "cell_type": "code",
   "execution_count": 23,
   "metadata": {},
   "outputs": [
    {
     "name": "stdout",
     "output_type": "stream",
     "text": [
      " •  r: 0.1214822771213749 \n",
      " •  k: 7.287497950692987 \n",
      " •  w: 1.3279527683513055 \n",
      " •  c: 1.4845048188495438 \n",
      " •  Y: 2.2132546139188425 \n",
      " •  I: 0.7287497950692987\n"
     ]
    }
   ],
   "source": [
    "problem1_5_1(def_params())"
   ]
  },
  {
   "cell_type": "markdown",
   "metadata": {},
   "source": [
    "Characterizing Equations for SS:"
   ]
  },
  {
   "cell_type": "markdown",
   "metadata": {},
   "source": [
    "\n",
    "$$\n",
    "\\begin{eqnarray*}\n",
    "\\bar c &=& \\bar w + \\left(\\bar r - \\delta\\right)\\cdot \\bar k \\\\\n",
    "\\frac 1 {\\bar {c}^\\gamma} &=& \\beta \\cdot \\frac 1 {\\bar {c}^\\gamma} \\cdot \\left(\\left(\\bar r -\\delta\\right)\\cdot (1 - \\tau) + 1\\right) \\\\\n",
    "\\bar r &=& \\alpha \\left(\\frac 1 {\\bar k}\\right)^{1 - \\alpha} \\\\\n",
    "\\bar w &=& (1 - \\alpha) \\cdot \\left(\\bar k\\right)^\\alpha. \\\\\n",
    "\\end{eqnarray*}\n",
    "$$\n",
    "\n"
   ]
  },
  {
   "cell_type": "code",
   "execution_count": 29,
   "metadata": {},
   "outputs": [],
   "source": [
    "def problem1_5_2(x,*args):\n",
    "    γ, β, α, δ, z_ss, τ = args\n",
    "    k,l=x[0],1\n",
    "    return (1/((((1-α)*np.exp(z_ss)*((k/np.exp(z_ss))**α))*l+((α*((l*np.exp(z_ss)/k)**(1-α)))-δ)*k)**γ)\n",
    "            -(β/((((1-α)*np.exp(z_ss)*((k/np.exp(z_ss))**α))*l+((α*((l*np.exp(z_ss)/k)**(1-α)))-δ)*k)**γ))\n",
    "            *((1-τ)*((α*((l*np.exp(z_ss)/k)**(1-α)))-δ)+1))"
   ]
  },
  {
   "cell_type": "code",
   "execution_count": 31,
   "metadata": {},
   "outputs": [],
   "source": [
    "def problem1_5_3():\n",
    "    \n",
    "    γ, β, α, δ, z_ss, τ = def_params()\n",
    "    \n",
    "    k_0 = 7\n",
    "    k = opt.fsolve(problem1_5_2, k_0, args=def_params())\n",
    "    \n",
    "    print(\" •  r:\",α*((np.exp(z_ss)/k)**(1-α)),\"\\n\",\n",
    "          \"•  k:\",k,\"\\n\",\n",
    "          \"•  w:\",(1-α)*k**α,\"\\n\",\n",
    "          \"•  c:\",((1-α)*k**α)+((α*((np.exp(z_ss)/k)**(1-α)))-δ)*k,\"\\n\",\n",
    "          \"•  Y:\",k**α,\"\\n\",\n",
    "          \"•  I:\",δ*k\n",
    "         )"
   ]
  },
  {
   "cell_type": "code",
   "execution_count": 32,
   "metadata": {},
   "outputs": [
    {
     "name": "stdout",
     "output_type": "stream",
     "text": [
      " •  r: [0.12148228] \n",
      " •  k: [7.28749795] \n",
      " •  w: [1.32795277] \n",
      " •  c: [1.48450482] \n",
      " •  Y: [2.21325461] \n",
      " •  I: [0.7287498]\n"
     ]
    }
   ],
   "source": [
    "problem1_5_3()"
   ]
  },
  {
   "cell_type": "markdown",
   "metadata": {},
   "source": [
    "## Exercise 6."
   ]
  },
  {
   "cell_type": "markdown",
   "metadata": {},
   "source": [
    "Our market-clearing conditions are\n",
    "\n",
    "$$\n",
    "\\begin{eqnarray*}\n",
    "\\ell_t&=&L_t,\\\\\n",
    "k_t&=&K_t,\\\\\n",
    "w_t&=&W_t,\n",
    "\\end{eqnarray*}\n",
    "$$\n",
    "\n",
    "and\n",
    "\n",
    "$$\n",
    "r_t=R_t.\n",
    "$$\n",
    "\n",
    "With a balanced fiscal budget,\n",
    "\n",
    "$$\n",
    "T_t = \\tau \\cdot \\left( w_t \\ell_t + k_t \\cdot \\left( r_t -\\delta \\right) \\right),\n",
    "$$\n",
    "\n",
    "and the law of motion\n",
    "\n",
    "$$\n",
    "z_t = (1-\\rho_z) \\bar z + \\rho_z z_{t-1} + \\varepsilon _t ^z,\n",
    "$$\n",
    "\n",
    "for the IID stochastic shocks $\\varepsilon_t^z$ with mean $0$ and variance $\\sigma_z^2$.\n",
    "\n",
    "Characterizing Equations:\n",
    "\n",
    "$$\n",
    "\\begin{eqnarray*}\n",
    "c_t &=& (1-\\tau) \\cdot \\left( w_t \\ell_t + k_t \\cdot \\left( r_t -\\delta \\right) \\right) + k_t + T_t - k_{t+1}, \\\\\n",
    "\\frac 1 {c_t^\\gamma} &=& \\beta \\cdot \\mathbb E _t \\left[ \\frac 1 {c_{t+1}^\\gamma} \\cdot \\left( (r_{t+1} - \\delta) \\cdot (1-\\tau) +1 \\right) \\right], \\\\\n",
    "\\frac a {\\left(1-\\ell_t\\right)^\\xi} &=& \\frac 1 {c_t^\\gamma} \\cdot w_t \\cdot (1-\\tau), \\\\ \n",
    "r_t &=& \\alpha \\cdot \\mathrm e ^{z_t} \\cdot \\left( \\frac {\\mathrm e ^{z_t} \\ell_t} {k_t} \\right) ^{1-\\alpha},\\\\\n",
    "w_t &=& (1-\\alpha) \\cdot \\mathrm e ^{z_t} \\cdot \\left( \\frac {k_t} {\\mathrm e ^{z_t} \\ell_t} \\right) ^\\alpha.\n",
    "\\end{eqnarray*}\n",
    "$$"
   ]
  },
  {
   "cell_type": "markdown",
   "metadata": {},
   "source": [
    "In the steady state, we have\n",
    "\n",
    "$$\n",
    "\\begin{eqnarray*}\n",
    "\\bar c  &=& \\bar w + (\\bar r \\bar \\ell - \\delta) \\bar k \\\\\n",
    "\\frac 1 {\\bar{c}^\\gamma} &=& \\beta \\cdot {\\frac 1 {\\bar{c}^\\gamma} \\cdot \\left((\\bar r -\\delta)\\cdot (1 - \\tau) + 1\\right)} \\\\\n",
    "\\frac a {\\left(1 - \\bar{\\ell}\\right)^\\xi} &=& \\frac 1 {\\bar{c}^\\gamma} \\cdot \\bar w \\cdot (1 - \\tau) \\\\ \n",
    "\\bar r &=& \\alpha \\mathrm e ^{\\bar z} \\left(\\frac{\\bar \\ell \\mathrm e ^{\\bar z}}{\\bar k}\\right) ^{1 - \\alpha} \\\\\n",
    "\\bar w &=& (1 - \\alpha) \\cdot \\left(\\frac{\\bar k}{\\bar \\ell \\mathrm e ^{\\bar z}}\\right)^\\alpha\n",
    "\\end{eqnarray*}\n",
    "$$"
   ]
  },
  {
   "cell_type": "code",
   "execution_count": 36,
   "metadata": {},
   "outputs": [],
   "source": [
    "def def_params():\n",
    "    γ = 2.5\n",
    "    β = 0.98\n",
    "    α = 0.40\n",
    "    δ = 0.10\n",
    "    z_ss = 0\n",
    "    τ = 0.05\n",
    "    a = 0.5\n",
    "    ξ = 1.5\n",
    "    return (γ,β,α,δ,z_ss,τ,a,ξ)"
   ]
  },
  {
   "cell_type": "code",
   "execution_count": 40,
   "metadata": {},
   "outputs": [],
   "source": [
    "def problem1_6_1(x, *args):\n",
    "    \n",
    "    γ, β, α, δ, z_ss, τ, a, ξ = args\n",
    "    k,l = x[0],x[1]\n",
    "\n",
    "    return np.array([\n",
    "        \n",
    "        ((((1-α)*np.exp(z_ss)*((k/(l*np.exp(z_ss)))**α))*l+((α*((l*np.exp(z_ss)/k)**(1-α)))-δ)*k)**(-γ))\n",
    "        -β*((((1-α)*np.exp(z_ss)*((k/(l*np.exp(z_ss)))**α))*l+((α*((l*np.exp(z_ss)/k)**(1-α)))-δ)*k)**(-γ))\n",
    "        *((1-τ)*((α*((l*np.exp(z_ss)/k)**(1-α)))-δ)+1),\n",
    "        \n",
    "        ((1-α)*np.exp(z_ss)*((k/(l*np.exp(z_ss)))**α))*(1-τ)*((((1-α)*np.exp(z_ss)*((k/(l*np.exp(z_ss)))**α))*l+\n",
    "        ((α*((l*np.exp(z_ss)/k)**(1-α)))-δ)*k)**(-γ))-a*((1-l)**(-ξ))\n",
    "        \n",
    "    ])"
   ]
  },
  {
   "cell_type": "code",
   "execution_count": 41,
   "metadata": {},
   "outputs": [],
   "source": [
    "def problem1_6_2():\n",
    "    \n",
    "    γ, β, α, δ, z_ss, τ, a, ξ = def_params()\n",
    "\n",
    "    x_0 = np.array([6,.9])\n",
    "    x = opt.fsolve(problem1_6_1, x_0, args=def_params())\n",
    "\n",
    "    k,l = x[0], x[1]\n",
    "    \n",
    "    print(\" •  r:\",α*((l*np.exp(z_ss)/k)**(1-α)),\"\\n\",\n",
    "          \"•  k:\",k,\"\\n\",\n",
    "          \"•  l:\",l,\"\\n\",\n",
    "          \"•  w:\",(1-α)*k**α,\"\\n\",\n",
    "          \"•  c:\",((1-α)*k**α)+((α*((l*np.exp(z_ss)/k)**(1-α)))-δ)*k,\"\\n\",\n",
    "          \"•  Y:\",k**α,\"\\n\",\n",
    "          \"•  I:\",δ*k\n",
    "         )"
   ]
  },
  {
   "cell_type": "code",
   "execution_count": 42,
   "metadata": {},
   "outputs": [
    {
     "name": "stdout",
     "output_type": "stream",
     "text": [
      " •  r: 0.12148227712243087 \n",
      " •  k: 4.225229026716722 \n",
      " •  l: 0.5797914531661921 \n",
      " •  w: 1.0678035300339088 \n",
      " •  c: 1.1585710708915762 \n",
      " •  Y: 1.779672550056515 \n",
      " •  I: 0.4225229026716722\n"
     ]
    }
   ],
   "source": [
    "problem1_6_2()"
   ]
  },
  {
   "cell_type": "markdown",
   "metadata": {},
   "source": [
    "# Linearization Methods."
   ]
  },
  {
   "cell_type": "markdown",
   "metadata": {},
   "source": [
    "## Exercise 1."
   ]
  },
  {
   "cell_type": "markdown",
   "metadata": {},
   "source": [
    "We have that\n",
    "\n",
    "$$ \n",
    "\\begin{eqnarray*}\n",
    "F &=& \\frac{\\alpha \\bar {K}^{\\alpha - 1}} {\\bar {K}^\\alpha - \\bar K}, \\\\\n",
    "G &=& - \\left(\\frac{\\alpha \\bar {K}^{\\alpha - 1} \\cdot \\left(\\alpha + \\bar {K}^{\\alpha - 1}\\right)} {\\bar {K}^\\alpha - \\bar K}\\right), \\\\\n",
    "H &=& \\frac{\\alpha^2 \\bar {K}^{2\\cdot(\\alpha - 1)}} {\\bar {K}^\\alpha - \\bar K}, \\\\\n",
    "L &=& - \\left(\\frac{\\alpha \\bar {K}^{2\\cdot(\\alpha - 1)}} {\\bar {K}^\\alpha - \\bar K}\\right), \\\\\n",
    "M &=& \\frac{\\alpha^2 \\bar {K}^{2\\cdot(\\alpha - 1)}} {\\bar {K}^\\alpha - \\bar K}.\n",
    "\\end{eqnarray*}\n",
    "$$\n",
    "\n",
    "From above, $A = \\alpha\\beta$, $\\bar K = A^{\\frac 1 {1 - \\alpha}}$. And,\n",
    "\n",
    "$$ \n",
    "\\begin{eqnarray*}\n",
    "N &=& \\rho, \\\\\n",
    "P &=&  \\frac{-G \\pm\\sqrt{G^2 - 4FH}} {2F}, \\\\\n",
    "Q &=& - \\left(\\frac{LN + M} {FN + FP +G}\\right).\n",
    "\\end{eqnarray*}\n",
    "$$"
   ]
  },
  {
   "cell_type": "code",
   "execution_count": 11,
   "metadata": {},
   "outputs": [],
   "source": [
    "def def_params():\n",
    "    \n",
    "    α = 0.35\n",
    "    β = 0.98\n",
    "    ρ = 0.95\n",
    "    σ = 0.02\n",
    "    \n",
    "    return α,β,ρ,σ"
   ]
  },
  {
   "cell_type": "code",
   "execution_count": 12,
   "metadata": {},
   "outputs": [],
   "source": [
    "def problem2_1_1(ret=False):\n",
    "    \n",
    "    α,β,ρ,σ = def_params()\n",
    "\n",
    "    A = α*β\n",
    "    K_ss = A**(1/(1-α))\n",
    "    F = (α*K_ss**(α-1))/(K_ss**α-K_ss)\n",
    "    G = -1*(α*K_ss**(α-1)*(α+K_ss**(α-1)))/(K_ss**α-K_ss)\n",
    "    H = (α**2*K_ss**(2*(α-1)))/(K_ss**α-K_ss)\n",
    "    L = -1*(α*K_ss**(2*α-1))/(K_ss**α-K_ss)\n",
    "    M = (α**2*K_ss**(2*(α-1)))/(K_ss**α-K_ss)\n",
    "    N = ρ\n",
    "    P = (-1*G-math.sqrt(G**2-4*F*H))/(2*F)\n",
    "    Q = -1*(L*N+M)/(F*N+F*P+G)\n",
    "    \n",
    "    if ret:\n",
    "        return (A,K_ss,F,G,H,L,M,N,P,Q)\n",
    "\n",
    "    print(\n",
    "        \" •  F:\",F,\"\\n\",\n",
    "        \"•  G:\",G,\"\\n\",\n",
    "        \"•  H:\",H,\"\\n\",\n",
    "        \"•  L:\",L,\"\\n\",\n",
    "        \"•  M:\",M,\"\\n\",\n",
    "        \"•  N:\",N,\"\\n\",\n",
    "        \"•  P:\",P,\"\\n\",\n",
    "        \"•  Q:\",Q\n",
    "         )"
   ]
  },
  {
   "cell_type": "code",
   "execution_count": 13,
   "metadata": {},
   "outputs": [
    {
     "name": "stdout",
     "output_type": "stream",
     "text": [
      " •  F: 2.763343017362853 \n",
      " •  G: -9.023563692703393 \n",
      " •  H: 2.8197377728192374 \n",
      " •  L: -1.5531326685925513 \n",
      " •  M: 2.8197377728192374 \n",
      " •  N: 0.95 \n",
      " •  P: 0.35 \n",
      " •  Q: 0.24750650674493596\n"
     ]
    }
   ],
   "source": [
    "problem2_1_1()"
   ]
  },
  {
   "cell_type": "code",
   "execution_count": 14,
   "metadata": {
    "scrolled": true
   },
   "outputs": [],
   "source": [
    "def problem2_1_2():\n",
    "    \n",
    "    %matplotlib inline\n",
    "    summer = matplotlib.cm.get_cmap(\"summer\")\n",
    "    \n",
    "    α,β,ρ,σ = def_params()\n",
    "    \n",
    "    A,K_ss,F,G,H,L,M,N,P,Q = problem2_1_1(ret = True)\n",
    "    \n",
    "    K_GRID_SIZE = 26\n",
    "    Z_GRID_SIZE = 26\n",
    "\n",
    "    k_grid = np.linspace(0.5*K_ss,1.5*K_ss,K_GRID_SIZE)\n",
    "    z_grid = rouwen(ρ,0,10*σ/(Z_GRID_SIZE-1),Z_GRID_SIZE)[1]\n",
    "\n",
    "    X,Y = np.meshgrid(k_grid,z_grid)\n",
    "    surf = np.empty((K_GRID_SIZE,Z_GRID_SIZE))\n",
    "    for i in range(K_GRID_SIZE):\n",
    "        for j in range(Z_GRID_SIZE):\n",
    "            surf[i,j] = K_ss+P*(k_grid[i]-K_ss)+Q*z_grid[j]\n",
    "\n",
    "    fig = plt.figure()\n",
    "    ax = fig.add_subplot(111,projection=\"3d\")\n",
    "    ax.plot_surface(X,Y,surf, rstride=1, cstride=1, cmap=summer)\n",
    "    plt.title(\"Linearization Problem 1\")\n",
    "    plt.show()"
   ]
  },
  {
   "cell_type": "code",
   "execution_count": 15,
   "metadata": {},
   "outputs": [
    {
     "data": {
      "image/png": "[encoded data removed]",
      "text/plain": [
       "<Figure size 432x288 with 1 Axes>"
      ]
     },
     "metadata": {},
     "output_type": "display_data"
    }
   ],
   "source": [
    "problem2_1_2()"
   ]
  },
  {
   "cell_type": "markdown",
   "metadata": {},
   "source": [
    "## Exercise 2."
   ]
  },
  {
   "cell_type": "code",
   "execution_count": 29,
   "metadata": {},
   "outputs": [],
   "source": [
    "def problem2_2_1(θ_0, params):\n",
    "    \n",
    "    α,β,ρ,σ = def_params()\n",
    "    \n",
    "    k_p2, k_p1, k, z_p1, z = θ_0\n",
    "    \n",
    "    return np.array([\n",
    "        \n",
    "        β*((α*np.exp(z_p1)*k_p1**(α-1))/(np.exp(z_p1)*k_p1**α-k_p2))-1/(np.exp(z)*k**α-k_p1)\n",
    "        \n",
    "    ])"
   ]
  },
  {
   "cell_type": "code",
   "execution_count": 30,
   "metadata": {},
   "outputs": [],
   "source": [
    "def def_params2_2():\n",
    "    \n",
    "    A,K_ss,F,G,H,L,M,N,P,Q = problem2_1_1(ret=True)\n",
    "    \n",
    "    Z_ss = np.array([0.0])\n",
    "    X,Y,Z,lnX,sylv = 1,0,1,0,0\n",
    "    α,β,ρ,σ = def_params()\n",
    "    θ_0 = np.array([K_ss,K_ss,K_ss,0.0,0.0])\n",
    "    \n",
    "    return Z_ss,X,Y,Z,lnX,sylv,α,β,ρ,θ_0"
   ]
  },
  {
   "cell_type": "code",
   "execution_count": 31,
   "metadata": {},
   "outputs": [],
   "source": [
    "def problem2_2_2():\n",
    "    \n",
    "    Z_ss,X,Y,Z,lnX,sylv,α,β,NN,θ_0 = def_params2_2()\n",
    "    args = (α,β)\n",
    "    \n",
    "    ([AA,BB,CC,DD,FF,GG,HH,JJ,KK,LL,MM, \n",
    "      WW,TT]) = LinApp_Deriv(problem2_2_1, \n",
    "      args,θ_0,X,Y,Z,lnX)\n",
    "    \n",
    "    np.set_printoptions(suppress=False)\n",
    "    np.set_printoptions(precision=10)\n",
    "    \n",
    "    PP, QQ, UU, RR, SS, VV = LinApp_Solve(AA,BB,\n",
    "    CC,DD,FF,GG,HH,JJ,KK,LL,MM,WW,TT,NN,Z_ss,sylv)\n",
    "\n",
    "    print(\" •  FF:\",FF,\"\\n\",\n",
    "          \"•  GG:\",GG,\"\\n\",\n",
    "          \"•  HH:\",HH,\"\\n\",\n",
    "          \"•  LL:\",LL,\"\\n\",\n",
    "          \"•  MM:\",MM,\"\\n\",\n",
    "          \"•  PP:\",PP,\"\\n\",\n",
    "          \"•  QQ:\",QQ,\"\\n\"     \n",
    "     )\n",
    "    \n",
    "    return FF,GG,HH,LL,MM,PP,QQ"
   ]
  },
  {
   "cell_type": "code",
   "execution_count": 32,
   "metadata": {},
   "outputs": [
    {
     "name": "stdout",
     "output_type": "stream",
     "text": [
      " •  FF: [[7.3336764776]] \n",
      " •  GG: [[-23.9477677954]] \n",
      " •  HH: [[7.4833433553]] \n",
      " •  LL: [[-1.4138053606]] \n",
      " •  MM: [[4.1218815179]] \n",
      " •  PP: [[0.3499999998]] \n",
      " •  QQ: [[0.1927826187]] \n",
      "\n"
     ]
    }
   ],
   "source": [
    "problem2_2_2()"
   ]
  },
  {
   "cell_type": "markdown",
   "metadata": {},
   "source": [
    "## Exercise 3."
   ]
  },
  {
   "cell_type": "markdown",
   "metadata": {},
   "source": [
    "The Laws of motion are\n",
    "\n",
    "$$\n",
    "\\tilde{Z}_t=N\\tilde{Z}_{t-1} + \\varepsilon_t,\n",
    "$$\n",
    "\n",
    "and\n",
    "\n",
    "$$\n",
    "\\tilde{X_t} = P\\tilde{X}_{t-1}+Q\\tilde{Z}_t,\n",
    "$$\n",
    "\n",
    "and so\n",
    "\n",
    "$$\n",
    "\\begin{eqnarray*}\n",
    "\\\\\n",
    "0 &=& \\mathbb E _t\\left[ F \\tilde{X}_{t+1} + G \\tilde{X_t}+H \\tilde{X}_{t-1} + L \\tilde{Z}_{t+1} + M \\tilde{Z_t} \\right] \\\\ \n",
    "  &=& F \\left( P \\tilde{X_t}+ Q \\tilde{Z}_{t+1}\\right) + G \\left( P \\tilde{X}_{t-1} + Q \\tilde{Z_t}\\right) + H \\tilde{X}_{t-1} + L N \\tilde{Z}_{t} + M \\tilde{Z_t} \\\\\n",
    "  &=& F \\left( P \\left( P \\tilde{X}_{t-1}+ Q \\tilde{Z}_{t}\\right)+ Q N \\tilde{Z}_{t}\\right) + G \\left( P \\tilde{X}_{t-1} + Q \\tilde{Z}_t\\right) + H \\tilde{X}_{t-1} + L N \\tilde{Z}_{t} + M \\tilde{Z_t} \\\\\n",
    "  &=&  F P^2 \\tilde{X}_{t-1}+ F P Q \\tilde{Z_t} + F Q N \\tilde{Z}_{t} + G P \\tilde{X}_{t-1} + G Q \\tilde{Z}_t + H \\tilde{X}_{t-1} + L N \\tilde{Z}_{t} + M \\tilde{Z_t} \\\\\n",
    "  &=& \\left((FP+G)P+H\\right)\\tilde{X}_{t-1}+\\left((FQ+L)N+(FP+G)Q+M\\right)\\tilde{Z_t}.\\\\\n",
    "\\\\\n",
    "\\end{eqnarray*}\n",
    "$$"
   ]
  },
  {
   "cell_type": "markdown",
   "metadata": {},
   "source": [
    "## Exercise 4."
   ]
  },
  {
   "cell_type": "code",
   "execution_count": 80,
   "metadata": {},
   "outputs": [],
   "source": [
    "def def_params4():\n",
    "    γ=2.5\n",
    "    ξ=1.5\n",
    "    β=0.98\n",
    "    α=0.4\n",
    "    a=0.5\n",
    "    δ=0.10\n",
    "    z_ss = 0\n",
    "    ρ_z=0.9\n",
    "    τ=0.05\n",
    "    tol = 1e-10\n",
    "    guess = np.array([4,0.5])\n",
    "    return γ,ξ,β,α,a,δ,z_ss,ρ_z,τ,tol,guess"
   ]
  },
  {
   "cell_type": "code",
   "execution_count": 81,
   "metadata": {},
   "outputs": [],
   "source": [
    "def problem2_4_1(X_p1,X,Y,Z,args):\n",
    "    \n",
    "    Y = X**α*(np.exp(Z)*Y)**(1-α)\n",
    "    w = (1-α)*X**α*Y**(-1*α)*np.exp(Z)**(1-α)\n",
    "    r = α*(X**(α-1))*(Y**(1-α))*np.exp(Z)**(1-α)\n",
    "    c = (w*Y+(r-δ)*X)+X-X_p1\n",
    "    u = ((((c**(1-γ))-1)/(1-γ))+a*(((1-Y)\n",
    "        **(1-ξ)-1)/(1-ξ)))\n",
    "    \n",
    "    return Y,w,r,c,u"
   ]
  },
  {
   "cell_type": "code",
   "execution_count": 82,
   "metadata": {},
   "outputs": [],
   "source": [
    "def problem2_4_2(θ_0,args,ret=False):\n",
    "    \n",
    "    \n",
    "    L = Y\n",
    "    \n",
    "    γ,ξ,β,α,a,δ,z_ss,ρ_z,τ,tol,guess = def_params4()\n",
    "    \n",
    "    args = (α,β)\n",
    "    \n",
    "    Y,w,r,c,u = problem2_4_1(X_p1,X,Y,Z,args)\n",
    "    Y_p1,w_p1,r_p1,c_p1,u_p1 = problem2_4_1(X_p2,X_p1,Y_p1,Z_p1,args)\n",
    "  \n",
    "    if ret: return θ_0\n",
    "\n",
    "    return np.array([\n",
    "        \n",
    "        a*((1-L)**(-1*ξ))-w*(1-τ)*(c**(-1*γ)),\n",
    "        (c**(-γ))-β*(c_p1**(-1*γ))*((1-τ)*(r_p1-δ)+1)\n",
    "        \n",
    "        ])"
   ]
  },
  {
   "cell_type": "code",
   "execution_count": 83,
   "metadata": {},
   "outputs": [],
   "source": [
    "def problem2_4_3(ret = False):\n",
    "    \n",
    "    γ,ξ,β,α,a,δ,z_ss,ρ_z,τ,tol,guess = def_params4()\n",
    "    \n",
    "    args = (α,β)\n",
    "    \n",
    "    A,K_ss,F,G,H,L,M,N,P,Q = problem2_1_1(ret = True)    \n",
    "\n",
    "    ss = LinApp_FindSS(problem2_4_2,args,guess,z_ss,X,Y)\n",
    "    \n",
    "    K_ss,L_ss = ss\n",
    "\n",
    "    θ_0 = np.array([K_ss,K_ss,K_ss,L_ss,L_ss,0.0,0.0])\n",
    "\n",
    "    if ret: return θ_0\n",
    "\n",
    "    print (\" •  Steady State X and Y:\",ss)"
   ]
  },
  {
   "cell_type": "code",
   "execution_count": 84,
   "metadata": {},
   "outputs": [
    {
     "ename": "SyntaxError",
     "evalue": "can't assign to literal (<ipython-input-84-f53f4a239260>, line 9)",
     "output_type": "error",
     "traceback": [
      "\u001b[0;36m  File \u001b[0;32m\"<ipython-input-84-f53f4a239260>\"\u001b[0;36m, line \u001b[0;32m9\u001b[0m\n\u001b[0;31m    K_ss,K_ss,K_ss,L_ss,L_ss,0.0,0.0 = list(θ_0)\u001b[0m\n\u001b[0m    ^\u001b[0m\n\u001b[0;31mSyntaxError\u001b[0m\u001b[0;31m:\u001b[0m can't assign to literal\n"
     ]
    }
   ],
   "source": [
    "def problem2_4_4():\n",
    "    \n",
    "    γ,ξ,β,α,a,δ,z_ss,ρ_z,τ,tol,guess = def_params4()\n",
    "    \n",
    "    A,K_ss,F,G,H,L,M,N,P,Q = problem2_1_1(ret = True)\n",
    "    \n",
    "    θ_0 = problem2_4_3(ret = True)\n",
    "    \n",
    "    K_ss,K_ss,K_ss,L_ss,L_ss,0.0,0.0 = list(θ_0)\n",
    "        \n",
    "    np.set_printoptions(suppress=False)\n",
    "    np.set_printoptions(precision=10)\n",
    "    \n",
    "    if np.max(np.abs(problem2_4_2(θ_0,args)))>tol: print(\"Past Tolerance\")\n",
    "\n",
    "    Y_ss,w_ss,r_ss,c_ss,u_ss = problem2_4_1(K_ss,K_ss,L_ss,0,params)\n",
    "    \n",
    "    T_ss=τ*c_ss\n",
    "    I_ss=δ*K_ss\n",
    "    \n",
    "    print (\" •  Y_ss:\",Y_ss,\"\\n\",\n",
    "           \"•  w_ss:\",w_ss,\"\\n\",\n",
    "           \"•  r_ss:\",r_ss,\"\\n\",\n",
    "           \"•  c_ss:\",c_ss,\"\\n\",\n",
    "           \"•  u_ss:\",u_ss,\"\\n\",\n",
    "           \"•  T_ss:\",T_ss,\"\\n\",\n",
    "           \"•  I_ss:\",I_ss\n",
    "          )"
   ]
  },
  {
   "cell_type": "code",
   "execution_count": 85,
   "metadata": {},
   "outputs": [
    {
     "ename": "NameError",
     "evalue": "name 'X' is not defined",
     "output_type": "error",
     "traceback": [
      "\u001b[0;31m---------------------------------------------------------------------------\u001b[0m",
      "\u001b[0;31mNameError\u001b[0m                                 Traceback (most recent call last)",
      "\u001b[0;32m<ipython-input-85-092ace4c013f>\u001b[0m in \u001b[0;36m<module>\u001b[0;34m()\u001b[0m\n\u001b[0;32m----> 1\u001b[0;31m \u001b[0mproblem2_4_4\u001b[0m\u001b[0;34m(\u001b[0m\u001b[0;34m)\u001b[0m\u001b[0;34m\u001b[0m\u001b[0m\n\u001b[0m",
      "\u001b[0;32m<ipython-input-63-9b55caaf4245>\u001b[0m in \u001b[0;36mproblem2_4_4\u001b[0;34m()\u001b[0m\n\u001b[1;32m      5\u001b[0m     \u001b[0mA\u001b[0m\u001b[0;34m,\u001b[0m\u001b[0mK_ss\u001b[0m\u001b[0;34m,\u001b[0m\u001b[0mF\u001b[0m\u001b[0;34m,\u001b[0m\u001b[0mG\u001b[0m\u001b[0;34m,\u001b[0m\u001b[0mH\u001b[0m\u001b[0;34m,\u001b[0m\u001b[0mL\u001b[0m\u001b[0;34m,\u001b[0m\u001b[0mM\u001b[0m\u001b[0;34m,\u001b[0m\u001b[0mN\u001b[0m\u001b[0;34m,\u001b[0m\u001b[0mP\u001b[0m\u001b[0;34m,\u001b[0m\u001b[0mQ\u001b[0m \u001b[0;34m=\u001b[0m \u001b[0mproblem2_1_1\u001b[0m\u001b[0;34m(\u001b[0m\u001b[0mret\u001b[0m \u001b[0;34m=\u001b[0m \u001b[0;32mTrue\u001b[0m\u001b[0;34m)\u001b[0m\u001b[0;34m\u001b[0m\u001b[0m\n\u001b[1;32m      6\u001b[0m \u001b[0;34m\u001b[0m\u001b[0m\n\u001b[0;32m----> 7\u001b[0;31m     \u001b[0mθ_0\u001b[0m \u001b[0;34m=\u001b[0m \u001b[0mproblem2_4_3\u001b[0m\u001b[0;34m(\u001b[0m\u001b[0mret\u001b[0m \u001b[0;34m=\u001b[0m \u001b[0;32mTrue\u001b[0m\u001b[0;34m)\u001b[0m\u001b[0;34m\u001b[0m\u001b[0m\n\u001b[0m\u001b[1;32m      8\u001b[0m \u001b[0;34m\u001b[0m\u001b[0m\n\u001b[1;32m      9\u001b[0m     \u001b[0mprint\u001b[0m\u001b[0;34m(\u001b[0m\u001b[0mlist\u001b[0m\u001b[0;34m(\u001b[0m\u001b[0mθ_0\u001b[0m\u001b[0;34m)\u001b[0m\u001b[0;34m)\u001b[0m\u001b[0;34m\u001b[0m\u001b[0m\n",
      "\u001b[0;32m<ipython-input-83-4b8d01652db2>\u001b[0m in \u001b[0;36mproblem2_4_3\u001b[0;34m(ret)\u001b[0m\n\u001b[1;32m      7\u001b[0m     \u001b[0mA\u001b[0m\u001b[0;34m,\u001b[0m\u001b[0mK_ss\u001b[0m\u001b[0;34m,\u001b[0m\u001b[0mF\u001b[0m\u001b[0;34m,\u001b[0m\u001b[0mG\u001b[0m\u001b[0;34m,\u001b[0m\u001b[0mH\u001b[0m\u001b[0;34m,\u001b[0m\u001b[0mL\u001b[0m\u001b[0;34m,\u001b[0m\u001b[0mM\u001b[0m\u001b[0;34m,\u001b[0m\u001b[0mN\u001b[0m\u001b[0;34m,\u001b[0m\u001b[0mP\u001b[0m\u001b[0;34m,\u001b[0m\u001b[0mQ\u001b[0m \u001b[0;34m=\u001b[0m \u001b[0mproblem2_1_1\u001b[0m\u001b[0;34m(\u001b[0m\u001b[0mret\u001b[0m \u001b[0;34m=\u001b[0m \u001b[0;32mTrue\u001b[0m\u001b[0;34m)\u001b[0m\u001b[0;34m\u001b[0m\u001b[0m\n\u001b[1;32m      8\u001b[0m \u001b[0;34m\u001b[0m\u001b[0m\n\u001b[0;32m----> 9\u001b[0;31m     \u001b[0mss\u001b[0m \u001b[0;34m=\u001b[0m \u001b[0mLinApp_FindSS\u001b[0m\u001b[0;34m(\u001b[0m\u001b[0mproblem2_4_2\u001b[0m\u001b[0;34m,\u001b[0m\u001b[0margs\u001b[0m\u001b[0;34m,\u001b[0m\u001b[0mguess\u001b[0m\u001b[0;34m,\u001b[0m\u001b[0mz_ss\u001b[0m\u001b[0;34m,\u001b[0m\u001b[0mX\u001b[0m\u001b[0;34m,\u001b[0m\u001b[0mY\u001b[0m\u001b[0;34m)\u001b[0m\u001b[0;34m\u001b[0m\u001b[0m\n\u001b[0m\u001b[1;32m     10\u001b[0m \u001b[0;34m\u001b[0m\u001b[0m\n\u001b[1;32m     11\u001b[0m     \u001b[0mK_ss\u001b[0m\u001b[0;34m,\u001b[0m\u001b[0mL_ss\u001b[0m \u001b[0;34m=\u001b[0m \u001b[0mss\u001b[0m\u001b[0;34m\u001b[0m\u001b[0m\n",
      "\u001b[0;31mNameError\u001b[0m: name 'X' is not defined"
     ]
    }
   ],
   "source": [
    "problem2_4_4()"
   ]
  },
  {
   "cell_type": "markdown",
   "metadata": {},
   "source": [
    "## Exercise 5."
   ]
  },
  {
   "cell_type": "markdown",
   "metadata": {},
   "source": [
    "For the same model as above, find $\\frac {\\partial y}{\\partial x}$ for $y \\in \\left\\{\\bar k, c, \\bar r, \\bar w, \\bar \\ell, \\bar T, \\bar y, \\bar \\imath \\right\\}$ and $x \\in \\left\\{\\delta, \\tau, \\bar z, \\alpha, \\gamma, \\xi, \\beta, a \\right\\}$ using numerical techniques."
   ]
  },
  {
   "cell_type": "code",
   "execution_count": 86,
   "metadata": {},
   "outputs": [],
   "source": [
    "def problem2_5_1(guess, args):\n",
    "    \n",
    "    γ,ξ,β,α,a,δ,τ,z_ss = args\n",
    "    \n",
    "    w = (1-α)*((guess[0])**α)*((guess[1]*np.exp(z))**(-α))*np.exp(z)\n",
    "    r = α*((guess[0])**(α-1))*((guess[1]*np.exp(z))**(1-α))\n",
    "    T = τ*(guess[1]*w+(r-δ)*guess[0])\n",
    "    c = (1-τ)*(w*guess[1]+(r-δ)*guess[0])+T\n",
    "    \n",
    "    return np.array([\n",
    "        \n",
    "        1-β*((r-δ)*(1-τ)+1),\n",
    "        a/((1-guess[1])**ξ)-(1/(c**γ))*w*(1-τ)\n",
    "        \n",
    "    ])"
   ]
  },
  {
   "cell_type": "code",
   "execution_count": 87,
   "metadata": {},
   "outputs": [],
   "source": [
    "def problem2_5_2(args, guess):\n",
    "    \n",
    "    γ,ξ,β,α,a,δ,τ,z_ss = args\n",
    "    \n",
    "    root = opt.root(problem2_5_1, guess, [γ, ξ, β, α, a, δ, τ, z_ss], tol=1e-8)  \n",
    "    k_ss, l_ss = root.x\n",
    "    y_ss = (k_ss**(α))*((l_ss*np.exp(z))**(1-α))\n",
    "    i_ss = δ*k_ss\n",
    "    w_ss = (1-α)*((k_ss)**α)*((l_ss*np.exp(z))**(-α))*np.exp(z)\n",
    "    r_ss = α*((k_ss)**(α-1))*((l_ss*np.exp(z))**(1-α))\n",
    "    T_ss = τ*(l_ss*w_ss+(r_ss-δ)*k_ss)\n",
    "    c_ss = (1-τ)*(w_ss*l_ss+(r_ss-δ)*k_ss)+T_ss\n",
    "    \n",
    "    return k_ss, l_ss, y_ss, w_ss, r_ss, T_ss, c_ss, i_ss"
   ]
  },
  {
   "cell_type": "code",
   "execution_count": 88,
   "metadata": {},
   "outputs": [],
   "source": [
    "def problem2_5_3(f, x, x_pε):\n",
    "    return (f(x) - f(x_pε)) / np.sum(x - x_pε)"
   ]
  },
  {
   "cell_type": "code",
   "execution_count": 89,
   "metadata": {},
   "outputs": [],
   "source": [
    "def problem2_5_4():\n",
    "    \n",
    "    γ,ξ,β,α,a,δ,z_ss,ρ_z,τ,tol,guess = def_params4()\n",
    "    \n",
    "    params = γ,ξ,β,α,a,δ,τ,z_ss\n",
    "    \n",
    "    N = 10\n",
    "    \n",
    "    ε = 1e-8\n",
    "    \n",
    "    D = np.zeros((N,N))\n",
    "\n",
    "    for i in range(N):\n",
    "        \n",
    "        params_pr = params\n",
    "        temp = list(params_pr)\n",
    "        temp[i] += ε\n",
    "        params_pr_pr = tuple(temp)\n",
    "        d = (np.array(problem2_5_2(params_pr_r))-\n",
    "             np.array(problem2_5_2(params)))/ε\n",
    "        D[:,i] = d\n",
    "        \n",
    "    print(D)"
   ]
  },
  {
   "cell_type": "code",
   "execution_count": 90,
   "metadata": {},
   "outputs": [
    {
     "ename": "NameError",
     "evalue": "name 'z' is not defined",
     "output_type": "error",
     "traceback": [
      "\u001b[0;31m---------------------------------------------------------------------------\u001b[0m",
      "\u001b[0;31mNameError\u001b[0m                                 Traceback (most recent call last)",
      "\u001b[0;32m<ipython-input-90-8c10e90441ec>\u001b[0m in \u001b[0;36m<module>\u001b[0;34m()\u001b[0m\n\u001b[0;32m----> 1\u001b[0;31m \u001b[0mproblem2_5_4\u001b[0m\u001b[0;34m(\u001b[0m\u001b[0;34m)\u001b[0m\u001b[0;34m\u001b[0m\u001b[0m\n\u001b[0m",
      "\u001b[0;32m<ipython-input-89-48b2f5d2fd64>\u001b[0m in \u001b[0;36mproblem2_5_4\u001b[0;34m()\u001b[0m\n\u001b[1;32m      3\u001b[0m     \u001b[0mγ\u001b[0m\u001b[0;34m,\u001b[0m\u001b[0mξ\u001b[0m\u001b[0;34m,\u001b[0m\u001b[0mβ\u001b[0m\u001b[0;34m,\u001b[0m\u001b[0mα\u001b[0m\u001b[0;34m,\u001b[0m\u001b[0ma\u001b[0m\u001b[0;34m,\u001b[0m\u001b[0mδ\u001b[0m\u001b[0;34m,\u001b[0m\u001b[0mz_ss\u001b[0m\u001b[0;34m,\u001b[0m\u001b[0mρ_z\u001b[0m\u001b[0;34m,\u001b[0m\u001b[0mτ\u001b[0m\u001b[0;34m,\u001b[0m\u001b[0mtol\u001b[0m\u001b[0;34m,\u001b[0m\u001b[0mguess\u001b[0m \u001b[0;34m=\u001b[0m \u001b[0mdef_params4\u001b[0m\u001b[0;34m(\u001b[0m\u001b[0;34m)\u001b[0m\u001b[0;34m\u001b[0m\u001b[0m\n\u001b[1;32m      4\u001b[0m \u001b[0;34m\u001b[0m\u001b[0m\n\u001b[0;32m----> 5\u001b[0;31m     \u001b[0mparams\u001b[0m \u001b[0;34m=\u001b[0m \u001b[0mγ\u001b[0m\u001b[0;34m,\u001b[0m\u001b[0mξ\u001b[0m\u001b[0;34m,\u001b[0m\u001b[0mβ\u001b[0m\u001b[0;34m,\u001b[0m\u001b[0mα\u001b[0m\u001b[0;34m,\u001b[0m\u001b[0ma\u001b[0m\u001b[0;34m,\u001b[0m\u001b[0mδ\u001b[0m\u001b[0;34m,\u001b[0m\u001b[0mτ\u001b[0m\u001b[0;34m,\u001b[0m\u001b[0mz\u001b[0m\u001b[0;34m\u001b[0m\u001b[0m\n\u001b[0m\u001b[1;32m      6\u001b[0m \u001b[0;34m\u001b[0m\u001b[0m\n\u001b[1;32m      7\u001b[0m     \u001b[0mN\u001b[0m \u001b[0;34m=\u001b[0m \u001b[0;36m10\u001b[0m\u001b[0;34m\u001b[0m\u001b[0m\n",
      "\u001b[0;31mNameError\u001b[0m: name 'z' is not defined"
     ]
    }
   ],
   "source": [
    "problem2_5_4()"
   ]
  },
  {
   "cell_type": "markdown",
   "metadata": {},
   "source": [
    "## Exercise 6."
   ]
  },
  {
   "cell_type": "markdown",
   "metadata": {},
   "source": [
    "For the same model as above, let $X_t = \\{k_{t−1}, \\ell_{t−1}\\}$. Find the values of $F, G, H, L, M, N, P$ and $Q$."
   ]
  },
  {
   "cell_type": "code",
   "execution_count": null,
   "metadata": {},
   "outputs": [],
   "source": [
    "def def_params6():\n",
    "    γ,ξ,β,α,a,δ,z_ss,ρ_z,τ,tol,guess = def_params4()\n",
    "    return δ,τ,z_ss,α,γ,ξ,β,a"
   ]
  },
  {
   "cell_type": "code",
   "execution_count": 72,
   "metadata": {},
   "outputs": [],
   "source": [
    "def problem2_6_1(θ_0, args):\n",
    "    \n",
    "    X_p2,L_p2, X_p1,L_p1,X,L,Z_p1,Z = θ_0\n",
    "\n",
    "    δ,τ,z_ss,α,γ,ξ,β,a = args\n",
    "    \n",
    "    Y,w,r,c,u = Modeldefs(X_p1,X,L_p1,Z,args)\n",
    "    Yp,wp,rp,cp,up = Modeldefs(X_p2,X_p1,L_p2,Z_p1,args)    \n",
    "    \n",
    "    return np.array([\n",
    "      \n",
    "        a*((1-L)**(-ξ))-w*(1-τ)*(c**(-γ)),\n",
    "        (c**(-γ))-β*(c_p1**(-γ))*((1-τ)*(r_p1-δ)+1)\n",
    "        \n",
    "    ])\n"
   ]
  },
  {
   "cell_type": "code",
   "execution_count": 75,
   "metadata": {},
   "outputs": [],
   "source": [
    "def problem2_6_2():\n",
    "    Z_ss = np.array([z_ss])\n",
    "    X,Y,Z,lnX,sylv = 2,0,1,0,0\n",
    "    \n",
    "    guess = np.array([4,0.5])\n",
    "\n",
    "    SS = LinApp_FindSS(problem2_6_1, def_params6(), guess, Z_ss, X, Y)\n",
    "    K_ss, L_ss = SS\n",
    "    \n",
    "    print (\" •  Steady State X and Y:\",SS)\n",
    "\n",
    "    θ_0 = np.array([K_ss, L_ss, K_ss, L_ss, K_ss, L_ss, 0.0, 0.0])\n",
    "    \n",
    "    print(\" •  K_ss and L_ss:\",K_ss,L_ss)\n",
    "    \n",
    "    \n",
    "    \n",
    "    check = problem2_6_1(θ_0, args)\n",
    "    \n",
    "    np.set_printoptions(suppress=False)\n",
    "    np.set_printoptions(precision=10)\n",
    "    print (\"check: \", check)\n",
    "    if np.max(np.abs(check))>1e-10:print(\"Above Tolerance.\")\n",
    "\n",
    "    Y_ss,w_ss,r_ss,c_ss,u_ss = Modeldefs(K_ss,K_ss,L_ss,0,args)\n",
    "    \n",
    "    T_ss = τ*c_ss\n",
    "    I_ss =  δ*k_ss\n",
    "    \n",
    "    print (\"Y_ss: \", Y_ss)\n",
    "    print (\"w_ss: \", w_ss)\n",
    "    print (\"r_ss: \", r_ss)\n",
    "    print (\"c_ss: \", c_ss)\n",
    "    print (\"u_ss: \", u_ss)\n",
    "    print (\"T_ss: \", T_ss)\n",
    "    print (\"I_ss: \", I_ss)\n"
   ]
  },
  {
   "cell_type": "markdown",
   "metadata": {},
   "source": [
    "## Exercise 7."
   ]
  },
  {
   "cell_type": "markdown",
   "metadata": {},
   "source": [
    "For the same model as above, generate $10,000$ artificial time series for an economy where each time series is $250$ periods long. Start each simulation off with a starting value for k equal to the steady state value, and a value of $z = 0$.\n",
    "\n",
    "Use $\\sigma^2_z = .0004.$\n",
    "\n",
    "For each simulation save the time-series for GDP, consumption, investment, and the labor input. When all $10,000$ simulations have finished generate a graph for each of these time-series showing the average value over the simulations for each period, and also showing the five and ninety-five percent confidence bands for each series each period."
   ]
  },
  {
   "cell_type": "code",
   "execution_count": null,
   "metadata": {},
   "outputs": [],
   "source": [
    "def problem2_7_1(PP, QQ, k_l, z):\n",
    "    return PP@k_l+QQ*z"
   ]
  },
  {
   "cell_type": "code",
   "execution_count": null,
   "metadata": {},
   "outputs": [],
   "source": [
    "def problem2_7_2(T=250,N=10_000):\n",
    "\n",
    "    σ_2 = 0.0004\n",
    "\n",
    "    K_out = np.zeros((N,T))\n",
    "    L_out = np.zeros((N,T))\n",
    "    c_out = np.zeros((N,T))\n",
    "    Y_out = np.zeros((N,T))\n",
    "    I_out = np.zeros((N,T))\n",
    "\n",
    "    for i in range(N):\n",
    "\n",
    "        k_and_l = np.array([[0],[0]])\n",
    "        z = 0.0\n",
    "\n",
    "        t_s_k = np.zeros((1,T))\n",
    "        t_s_l = np.zeros((1,T))\n",
    "        t_s_c = np.zeros((1,T))\n",
    "        t_s_y = np.zeros((1,T))\n",
    "        t_s_i = np.zeros((1,T))\n",
    "        t_s_z = np.zeros((1,T))\n",
    "\n",
    "        for j in range(T):\n",
    "\n",
    "            k_and_l_use = k_and_l.copy()\n",
    "            t_s_k[:,j] = k_and_l_pr[0]\n",
    "            t_s_l[:,j] = k_and_l_pr[1]\n",
    "            t_s_z[:,j] = z\n",
    "\n",
    "\n",
    "        k_and_l_1 = PP@k_and_l+QQ*z\n",
    "        k_and_l = k_and_l_pr.copy()\n",
    "            \n",
    "        z_pr = 0.9*z+np.random.normal(0,np.sqrt(σ_2))\n",
    "        z = z_pr\n",
    "\n",
    "        t_s_k_m = t_s_k+k_ss\n",
    "        t_s_l_m = t_s_l+l_ss\n",
    "        t_s_k1_m = np.roll(t_s_k_m,-1)\n",
    "\n",
    "\n",
    "        w = (1-α)*(t_s_k_m**α)*((t_s_l_m*np.exp(t_s_z))**(-α))*np.exp(t_s_z)\n",
    "        r = α*(t_s_k_m**(α-1))*(t_s_l_m*np.exp(t_s_z))**(1-α)\n",
    "\n",
    "\n",
    "        t_s_c = w*t_s_l_m+(r-δ)*t_s_k_m+t_s_k_m-t_s_k1_m\n",
    "        t_s_i = t_s_k1_m-t_s_k_m+δ*t_s_k_m\n",
    "        t_s_y = (t_s_k_m**α)*(t_s_l_m*np.exp(t_s_z))**(1-α)\n",
    "\n",
    "        K_out[i,:] = t_s_k_m\n",
    "        L_out[i,:] = t_s_l_m\n",
    "        Y_out[i,:] = t_s_y\n",
    "        c_out[i,:] = t_s_c\n",
    "        I_out[i,:] = t_s_i\n",
    "\n",
    "    return K_out,L_out,Y_out,c_out,I_out"
   ]
  },
  {
   "cell_type": "code",
   "execution_count": null,
   "metadata": {},
   "outputs": [],
   "source": [
    "def problem2_7_3():\n",
    "\n",
    "    K,L,Y,C,I = problem2_7_2()\n",
    "\n",
    "\n",
    "    E_k = K.mean(0)\n",
    "    E_k_t = K.mean(1)\n",
    "\n",
    "    SD_k_t = np.std(K,axis=1)\n",
    "\n",
    "    coeff_k = E_k_t/SD_k_t\n",
    "    k_hi = np.percentile(K,95,axis=0)\n",
    "    k_lo = np.percentile(K,5,axis=0)\n",
    "\n",
    "\n",
    "    E_l = L.mean(0)\n",
    "    E_l_t = L.mean(1)\n",
    "\n",
    "    SD_l_t = np.std(L,axis=1)\n",
    "\n",
    "    coeff_l = E_l_t/SD_l_t\n",
    "    l_hi = np.percentile(L,95,axis=0)\n",
    "    l_lo = np.percentile(L,5,axis=0)\n",
    "\n",
    "\n",
    "    E_y = Y.mean(0)\n",
    "    E_y_t = Y.mean(1)\n",
    "    SD_y_t = np.std(Y,axis=1)\n",
    "    coeff_y = E_y_t/SD_y_t\n",
    "\n",
    "\n",
    "    y_hi = np.percentile(Y,95,axis=0)\n",
    "    y_lo = np.percentile(Y,5,axis=0)\n",
    "\n",
    "    E_c = C.mean(0)\n",
    "    E_c_t = C.mean(1)\n",
    "\n",
    "    SD_c_t = np.std(C,axis=1)\n",
    "\n",
    "    coeff_c = E_c_t/SD_c_t\n",
    "    c_hi = np.percentile(C,95,axis=0)\n",
    "    c_lo = np.percentile(C,5,axis=0)\n",
    "\n",
    "    E_i = I.mean(0)\n",
    "    E_i_t = I.mean(1)\n",
    "\n",
    "    SD_i_t = np.std(I,axis=1)\n",
    "\n",
    "    coeff_i = E_i_t/SD_i_t\n",
    "    i_hi = np.percentile(I,95,axis=0)\n",
    "    i_lo = np.percentile(I,5,axis=0)\n",
    "    \n",
    "    \n",
    "    \n",
    "    return E_k, k_hi, k_lo, E_l, l_hi, l_lo, E_y, y_hi, y_lo, E_i, i_hi, i_lo"
   ]
  },
  {
   "cell_type": "code",
   "execution_count": null,
   "metadata": {},
   "outputs": [],
   "source": [
    "def problem2_7_4():\n",
    "    \n",
    "    E_k, k_hi, k_lo, E_l, l_hi, l_lo, E_y, y_hi, y_lo, E_i, i_hi, i_lo = problem2_7_3()\n",
    "    \n",
    "    plt.style.use(\"seaborn-darkgrid\")\n",
    "    plt.figure(figsize=(10,10))\n",
    "\n",
    "    plt.subplot(221)\n",
    "    plt.plot(range(250), E_k.T)\n",
    "    plt.plot(range(250), k_hi.T)\n",
    "    plt.plot(range(250), k_lo.T)\n",
    "    plt.xlabel(\"$T$\")\n",
    "    plt.title(\"$K$\")\n",
    "\n",
    "    plt.subplot(222)\n",
    "    plt.plot(range(250),E_l.T)\n",
    "    plt.plot(range(250),l_hi.T)\n",
    "    plt.plot(range(250),l_lo.T)\n",
    "    plt.xlabel(\"$T$\")\n",
    "    plt.title(\"$\\ell$\")\n",
    "\n",
    "    plt.subplot(223)\n",
    "    plt.plot(range(250),E_y.T)\n",
    "    plt.plot(range(250),y_hi.T)\n",
    "    plt.plot(range(250),y_lo.T)\n",
    "    plt.xlabel(\"$T$\")\n",
    "    plt.title(\"$Y$\")\n",
    "\n",
    "    plt.subplot(224)\n",
    "    plt.plot(range(249),E_i.T[0:249])\n",
    "    plt.plot(range(249),i_hi.T[0:249])\n",
    "    plt.plot(range(249),i_lo.T[0:249])\n",
    "    plt.xlabel(\"$T$\")\n",
    "    plt.title(\"$I$\")\n",
    "\n",
    "    plt.show()"
   ]
  },
  {
   "cell_type": "code",
   "execution_count": null,
   "metadata": {},
   "outputs": [],
   "source": [
    "problem2_7_4()"
   ]
  },
  {
   "cell_type": "markdown",
   "metadata": {},
   "source": [
    "## Exercise 8."
   ]
  },
  {
   "cell_type": "markdown",
   "metadata": {},
   "source": [
    "For the same model as above, calculate: the mean, volatility (standard deviation),\n",
    "coefficient of variation (mean divided by standard deviation), relative volatility\n",
    "(standard deviation divided bu the standard deviation of output), persistence (autocorrelation),\n",
    "and cyclicality (correlation with output); for each series over each simulation and\n",
    "report the average values and standard errors for these moments over the 10,000 simulations"
   ]
  },
  {
   "cell_type": "code",
   "execution_count": null,
   "metadata": {},
   "outputs": [],
   "source": [
    "def problem2_8():\n",
    "\n",
    "    E_k, k_hi, k_lo, E_l, l_hi, l_lo, E_y, y_hi, y_lo, E_i, i_hi, i_lo = problem2_7_3()\n",
    "\n",
    "    print(\n",
    "\n",
    "    \"--- MEAN ---\",\"\\n\",\n",
    "    \"•  Y avg and SD:\",E_y_t.mean(),E_y_t.std(),\"\\n\",\n",
    "    \"•  C avg and SD:\",E_c_t.mean(),E_c_t.std(),\"\\n\",\n",
    "    \"•  I avg and SD:\",E_i_t.mean(),E_i_t.std(),\"\\n\",\n",
    "    \"•  L avg and SD:\",E_l_t.mean(),E_l_t.std(),\"\\n\",\n",
    "    \"--- VOLATILITY ---\",\"\\n\",\n",
    "    \"•  Y avg and SD:\",SD_y_t.mean(),SD_y_t.std(),\"\\n\",\n",
    "    \"•  C avg and SD:\",SD_c_t.mean(),SD_c_t.std(),\"\\n\",\n",
    "    \"•  I avg and SD:\",SD_i_t.mean(),SD_i_t.std(),\"\\n\",\n",
    "    \"•  L avg and SD:\",SD_l_t.mean(),SD_l_t.std(),\"\\n\",\n",
    "    \"--- COEFFICIENT OF VARIATION ---\",\"\\n\",\n",
    "    \"•  Y avg and SD:\",coeff_y.mean(),coeff_y.std(),\"\\n\",\n",
    "    \"•  C avg and SD:\",coeff_c.mean(),coeff_c.std(),\"\\n\",\n",
    "    \"•  I avg and SD:\",coeff_i.mean(),coeff_i.std(),\"\\n\",\n",
    "    \"•  L avg and SD:\",coeff_l.mean(),coeff_l.std(),\"\\n\"\n",
    "        \n",
    "    )"
   ]
  },
  {
   "cell_type": "code",
   "execution_count": null,
   "metadata": {},
   "outputs": [],
   "source": [
    "problem2_8()"
   ]
  },
  {
   "cell_type": "markdown",
   "metadata": {},
   "source": [
    "## Exercise 9."
   ]
  },
  {
   "cell_type": "markdown",
   "metadata": {},
   "source": [
    "For the same model as above, generate impulse response functions for: GDP,\n",
    "consumption, investment and total labor input; with lags from zero to forty periods."
   ]
  },
  {
   "cell_type": "code",
   "execution_count": 79,
   "metadata": {},
   "outputs": [],
   "source": [
    "def problem2_9_1(T=40,n=1):\n",
    "    \n",
    "    FF,GG,HH,LL,MM,PP,QQ = problem2_2_2()\n",
    "    \n",
    "    k_out = np.zeros((n, T))\n",
    "    l_out = np.zeros((n, T))\n",
    "    c_out = np.zeros((n, T))\n",
    "    y_out = np.zeros((n, T))\n",
    "    i_out = np.zeros((n, T))\n",
    "    \n",
    "    for i in range(n):\n",
    "        k_and_l = np.array([[0], [0]])\n",
    "        \n",
    "        z = 2e-3\n",
    "        \n",
    "        t_s_k = np.zeros((1, T))\n",
    "        t_s_l = np.zeros((1, T))\n",
    "        t_s_c = np.zeros((1, T))\n",
    "        t_s_y = np.zeros((1, T))\n",
    "        t_s_i = np.zeros((1, T))\n",
    "        t_s_z = np.zeros((1, T))\n",
    "        \n",
    "        \n",
    "        for j in range(T):\n",
    "            \n",
    "            temp = k_and_l.copy()\n",
    "            \n",
    "            t_s_k[:,j]=temp[0]\n",
    "            t_s_l[:,j]=temp[1]\n",
    "            t_s_z[:,j]=z\n",
    "         \n",
    "            k_and_l_pr = PP@k_and_l + QQ*z\n",
    "            k_and_l = k_and_l_pr.copy()\n",
    "            z *= 0.9\n",
    "            \n",
    "            \n",
    "        t_s_k_m = ts_k+k_ss\n",
    "        t_s_l_m = ts_l+l_ss\n",
    "        t_s_k_pr_m = np.roll(t_s_k_m,-1)\n",
    "        \n",
    "        w = (1-α)*(t_s_k_m**α)*((t_s_l_m*np.exp(t_s_z))**(-1*α))*np.exp(t_s_z)\n",
    "        r = α*(t_s_k_m**(α-1))*(t_s_l_m*np.exp(t_s_z))**(1-α)\n",
    "        \n",
    "        ts_c = w*t_s_l_m+(r-δ)*t_s_k_m+t_s_k_m-t_s_k_pr_m\n",
    "        ts_i = t_s_k_pr_m-t_s_k_m+δ*t_s_k_m\n",
    "        ts_y = (t_s_k_m**α)*(t_s_l_m*np.exp(t_s_z))**(1-α)\n",
    "        \n",
    "        k_out[i,:] = t_s_k_m\n",
    "        l_out[i,:] = t_s_l_m\n",
    "        y_out[i,:] = t_s_y\n",
    "        c_out[i,:] = t_s_c\n",
    "        i_out[i,:] = t_s_i\n",
    "        \n",
    "    return (k_out,l_out,y_out,c_out,i_out)"
   ]
  },
  {
   "cell_type": "code",
   "execution_count": 77,
   "metadata": {},
   "outputs": [],
   "source": [
    "def problem2_9_2():\n",
    "    \n",
    "    K,L,Y,C,I = problem2_9_1()\n",
    "    \n",
    "    plt.style.use(\"seaborn-darkgrid\")\n",
    "    plt.figure(figsize=(10, 10))\n",
    "\n",
    "    plt.subplot(221)\n",
    "    plt.plot(range(39), C.T[0:39])\n",
    "    plt.xlabel(\"$T$\")\n",
    "    plt.title(\"$c$\")\n",
    "\n",
    "    plt.subplot(222)\n",
    "    plt.plot(range(40), L.T)\n",
    "    plt.xlabel(\"$T$\")\n",
    "    plt.title(\"$\\ell$\")\n",
    "\n",
    "    plt.subplot(223)\n",
    "    plt.plot(range(40), Y.T)\n",
    "    plt.xlabel(\"$T$\")\n",
    "    plt.title(\"$Y$\")\n",
    "\n",
    "    plt.subplot(224)\n",
    "    plt.plot(range(39), I.T[0:39])\n",
    "    plt.xlabel(\"$T$\")\n",
    "    plt.title(\"$I$\")\n",
    "\n",
    "    plt.show()"
   ]
  },
  {
   "cell_type": "code",
   "execution_count": 78,
   "metadata": {},
   "outputs": [
    {
     "ename": "NameError",
     "evalue": "name 'PP' is not defined",
     "output_type": "error",
     "traceback": [
      "\u001b[0;31m---------------------------------------------------------------------------\u001b[0m",
      "\u001b[0;31mNameError\u001b[0m                                 Traceback (most recent call last)",
      "\u001b[0;32m<ipython-input-78-8e1beb034df7>\u001b[0m in \u001b[0;36m<module>\u001b[0;34m()\u001b[0m\n\u001b[0;32m----> 1\u001b[0;31m \u001b[0mproblem2_9_2\u001b[0m\u001b[0;34m(\u001b[0m\u001b[0;34m)\u001b[0m\u001b[0;34m\u001b[0m\u001b[0m\n\u001b[0m",
      "\u001b[0;32m<ipython-input-77-a35ab052c63d>\u001b[0m in \u001b[0;36mproblem2_9_2\u001b[0;34m()\u001b[0m\n\u001b[1;32m      1\u001b[0m \u001b[0;32mdef\u001b[0m \u001b[0mproblem2_9_2\u001b[0m\u001b[0;34m(\u001b[0m\u001b[0;34m)\u001b[0m\u001b[0;34m:\u001b[0m\u001b[0;34m\u001b[0m\u001b[0m\n\u001b[1;32m      2\u001b[0m \u001b[0;34m\u001b[0m\u001b[0m\n\u001b[0;32m----> 3\u001b[0;31m     \u001b[0mK\u001b[0m\u001b[0;34m,\u001b[0m\u001b[0mL\u001b[0m\u001b[0;34m,\u001b[0m\u001b[0mY\u001b[0m\u001b[0;34m,\u001b[0m\u001b[0mC\u001b[0m\u001b[0;34m,\u001b[0m\u001b[0mI\u001b[0m \u001b[0;34m=\u001b[0m \u001b[0mproblem2_9_1\u001b[0m\u001b[0;34m(\u001b[0m\u001b[0;34m)\u001b[0m\u001b[0;34m\u001b[0m\u001b[0m\n\u001b[0m\u001b[1;32m      4\u001b[0m \u001b[0;34m\u001b[0m\u001b[0m\n\u001b[1;32m      5\u001b[0m     \u001b[0mplt\u001b[0m\u001b[0;34m.\u001b[0m\u001b[0mstyle\u001b[0m\u001b[0;34m.\u001b[0m\u001b[0muse\u001b[0m\u001b[0;34m(\u001b[0m\u001b[0;34m\"seaborn-darkgrid\"\u001b[0m\u001b[0;34m)\u001b[0m\u001b[0;34m\u001b[0m\u001b[0m\n",
      "\u001b[0;32m<ipython-input-76-76508e3e7035>\u001b[0m in \u001b[0;36mproblem2_9_1\u001b[0;34m(T, n)\u001b[0m\n\u001b[1;32m     28\u001b[0m             \u001b[0mt_s_z\u001b[0m\u001b[0;34m[\u001b[0m\u001b[0;34m:\u001b[0m\u001b[0;34m,\u001b[0m\u001b[0mj\u001b[0m\u001b[0;34m]\u001b[0m\u001b[0;34m=\u001b[0m\u001b[0mz\u001b[0m\u001b[0;34m\u001b[0m\u001b[0m\n\u001b[1;32m     29\u001b[0m \u001b[0;34m\u001b[0m\u001b[0m\n\u001b[0;32m---> 30\u001b[0;31m             \u001b[0mk_and_l_pr\u001b[0m \u001b[0;34m=\u001b[0m \u001b[0mPP\u001b[0m\u001b[0;34m@\u001b[0m\u001b[0mk_and_l\u001b[0m \u001b[0;34m+\u001b[0m \u001b[0mQQ\u001b[0m\u001b[0;34m*\u001b[0m\u001b[0mz\u001b[0m\u001b[0;34m\u001b[0m\u001b[0m\n\u001b[0m\u001b[1;32m     31\u001b[0m             \u001b[0mk_and_l\u001b[0m \u001b[0;34m=\u001b[0m \u001b[0mk_and_l_pr\u001b[0m\u001b[0;34m.\u001b[0m\u001b[0mcopy\u001b[0m\u001b[0;34m(\u001b[0m\u001b[0;34m)\u001b[0m\u001b[0;34m\u001b[0m\u001b[0m\n\u001b[1;32m     32\u001b[0m             \u001b[0mz\u001b[0m \u001b[0;34m*=\u001b[0m \u001b[0;36m0.9\u001b[0m\u001b[0;34m\u001b[0m\u001b[0m\n",
      "\u001b[0;31mNameError\u001b[0m: name 'PP' is not defined"
     ]
    }
   ],
   "source": [
    "problem2_9_2()"
   ]
  },
  {
   "cell_type": "markdown",
   "metadata": {},
   "source": [
    "## Exercise 10."
   ]
  },
  {
   "cell_type": "markdown",
   "metadata": {},
   "source": [
    "I nor my classmates knew how to do this problem."
   ]
  },
  {
   "cell_type": "markdown",
   "metadata": {},
   "source": [
    "## Exercise 11."
   ]
  },
  {
   "cell_type": "markdown",
   "metadata": {},
   "source": [
    "I nor my classmates knew how to do this problem."
   ]
  },
  {
   "cell_type": "markdown",
   "metadata": {},
   "source": [
    "# Perturbation Methods."
   ]
  },
  {
   "cell_type": "markdown",
   "metadata": {},
   "source": [
    "## Problem 1."
   ]
  },
  {
   "cell_type": "markdown",
   "metadata": {},
   "source": [
    "For the general case,\n",
    "\n",
    "$$\n",
    "\\begin{eqnarray*}\n",
    "&& \\frac{\\partial^{2}x}{\\partial u^{2}}\\left(\\frac{\\partial^{2}F}{\\partial x^{2}}\\cdot\\frac{\\partial x}{\\partial u}+\\frac{\\partial^{2}F}{\\partial x\\partial u}\\right)+\\frac{\\partial F}{\\partial x}\\cdot\\frac{\\partial^{3}x}{\\partial u^{3}}+\\frac{\\partial x}{\\partial u}\\left(\\frac{\\partial^{3}F}{\\partial x^{3}}\\cdot\\frac{\\partial x}{\\partial u}\\cdot\\frac{\\partial x}{\\partial u}\\cdots\\right. \\\\\n",
    "&& \\left.\\cdots + \\frac{\\partial^{3}F}{\\partial x^{2}\\partial u}\\cdot\\frac{\\partial x}{\\partial u}+\\frac{\\partial^{2}F}{\\partial x^{2}}\\cdot\\frac{\\partial^{2}x}{\\partial u^{2}}+\\frac{\\partial^{3}F}{\\partial x\\partial u^{2}}+\\frac{\\partial^{3}F}{\\partial x\\partial u\\partial x}\\cdot\\frac{\\partial x}{\\partial u}\\right)  \\cdots \\\\\n",
    "&& \\cdots + \\frac{\\partial^{2}x}{\\partial u^{2}}\\left(\\frac{\\partial^{2}F}{\\partial x^{2}}\\cdot\\frac{\\partial x}{\\partial u}+\\frac{\\partial^{2}F}{\\partial x\\partial u}\\right)+\\frac{\\partial x}{\\partial u}\\left(\\frac{\\partial^{3}F}{\\partial u^{3}}+\\frac{\\partial^{3}F}{\\partial x\\partial u\\partial x}\\cdot\\frac{\\partial x}{\\partial u}\\right)  \\cdots \\\\\n",
    "&& \\cdots + \\frac{\\partial^{2}F}{\\partial x\\partial u}\\cdot\\frac{\\partial^{2}x}{\\partial u^{2}}+\\frac{\\partial^{3}F}{\\partial u^{3}}+\\frac{\\partial^{3}F}{\\partial u^{2}\\partial x}\\cdot\\frac{\\partial x}{\\partial u} \\\\\n",
    "&=& 0.\n",
    "\\end{eqnarray*}\n",
    "$$\n",
    "\n",
    "One can solve for specific partials through tedious algebra."
   ]
  },
  {
   "cell_type": "markdown",
   "metadata": {},
   "source": [
    "## Problem 2."
   ]
  },
  {
   "cell_type": "code",
   "execution_count": 122,
   "metadata": {},
   "outputs": [],
   "source": [
    "def problem3_2_1(α,w,k,z):\n",
    "    # LD\n",
    "    return k*((1-α)*z/w)**(1/α)"
   ]
  },
  {
   "cell_type": "code",
   "execution_count": 123,
   "metadata": {},
   "outputs": [],
   "source": [
    "def problem3_2_2(α, w, k, z):\n",
    "    # prof\n",
    "    return z*(k**α)*(problem3_2_1(α,w,k,z))**(1-α)-w*problem3_2_1(α,w,k,z)"
   ]
  },
  {
   "cell_type": "code",
   "execution_count": 124,
   "metadata": {},
   "outputs": [],
   "source": [
    "def problem3_2_3(α, w, k, z, h, b, t):\n",
    "    # LS\n",
    "    return h-b*(w*h+problem3_2_2(α,w,k,z)-t)/(w*(1+b))"
   ]
  },
  {
   "cell_type": "code",
   "execution_count": 125,
   "metadata": {},
   "outputs": [],
   "source": [
    "def problem3_2_4(w, labs):\n",
    "    # errors (lab_err)\n",
    "    α, k, z, h, b, t = labs\n",
    "    return problem3_2_3(α,w,k,z,h,b,t) - problem3_2_1(α,w,k,z)"
   ]
  },
  {
   "cell_type": "code",
   "execution_count": 126,
   "metadata": {},
   "outputs": [],
   "source": [
    "def def_params3_2():\n",
    "    w = 0.01\n",
    "    α = 0.33\n",
    "    k = 5\n",
    "    z = 1\n",
    "    b = 2\n",
    "    t = 0.1\n",
    "    h = 24\n",
    "    return (\n",
    "        w,α,k,z,b,t,h\n",
    "    )"
   ]
  },
  {
   "cell_type": "code",
   "execution_count": 129,
   "metadata": {},
   "outputs": [],
   "source": [
    "def problem3_2_5():\n",
    "    w,α,k,z,b,t,h = def_params3_2()\n",
    "    print(\" •  Wage:\", \n",
    "          str(opt.fsolve(problem3_2_4, w, [α, k, z, h, b, t], xtol=1e-10))[1:-1]\n",
    "         )"
   ]
  },
  {
   "cell_type": "code",
   "execution_count": 130,
   "metadata": {},
   "outputs": [
    {
     "name": "stdout",
     "output_type": "stream",
     "text": [
      " •  Wage: 0.62736178\n"
     ]
    }
   ],
   "source": [
    "problem3_2_5()"
   ]
  },
  {
   "cell_type": "code",
   "execution_count": 169,
   "metadata": {},
   "outputs": [],
   "source": [
    "def problem3_2_6(k):\n",
    "    w,α,k2,z,b,t,h = def_params3_2()\n",
    "    return opt.fsolve(problem3_2_4, .1, [α,k,z,h,b,t], xtol=1e-10)"
   ]
  },
  {
   "cell_type": "code",
   "execution_count": 178,
   "metadata": {},
   "outputs": [],
   "source": [
    "def problem3_2_7(f,x,h=1e-3):\n",
    "    return (f(x+h)-f(x-h))/(2*h)"
   ]
  },
  {
   "cell_type": "code",
   "execution_count": 179,
   "metadata": {},
   "outputs": [],
   "source": [
    "def problem3_2_8(f,x,h=1e-3):\n",
    "    return (f(x+h)+f(x-h)-2*f(x))/(h**2)"
   ]
  },
  {
   "cell_type": "code",
   "execution_count": 180,
   "metadata": {},
   "outputs": [],
   "source": [
    "def problem3_2_9(f,x_0,x):\n",
    "     return f(x_0)+problem3_2_7(f,x_0)*(x-x_0) "
   ]
  },
  {
   "cell_type": "code",
   "execution_count": 181,
   "metadata": {},
   "outputs": [],
   "source": [
    "def problem3_2_10(f,x_0,x):\n",
    "    return f(x_0)+problem3_2_7(f,x_0)*(x-x_0)+0.5*problem3_2_8(f,x_0)*(x-x_0)**2"
   ]
  },
  {
   "cell_type": "code",
   "execution_count": 194,
   "metadata": {},
   "outputs": [],
   "source": [
    "def problem3_2_11():\n",
    "    k_grid = np.linspace(1,15,100)\n",
    "\n",
    "    f = problem3_2_9(problem3_2_6,5,k_grid)\n",
    "    s = problem3_2_10(problem3_2_6,5,k_grid)\n",
    "    a = np.zeros(100)\n",
    "\n",
    "    for i in range(len(k_grid)):\n",
    "        a[i] = problem3_2_6(k_grid[i])\n",
    "\n",
    "    plt.style.use(\"seaborn-darkgrid\")\n",
    "    plt.figure(figsize=(10,10))\n",
    "    palette = plt.get_cmap(\"Dark2\")\n",
    "\n",
    "    plt.plot(k_grid,f,label=\"First-Order Taylor\",color=palette(3))\n",
    "    plt.plot(k_grid,s,label=\"Second-Order Taylor\",color=palette(1))\n",
    "    plt.plot(k_grid,a,label =\"Actual\",color=palette(0))\n",
    "    plt.legend()\n",
    "    \n",
    "    plt.xlabel(\"$K$\")\n",
    "    plt.ylabel(\"$W$\")\n",
    "\n",
    "    plt.show()"
   ]
  },
  {
   "cell_type": "code",
   "execution_count": 195,
   "metadata": {},
   "outputs": [
    {
     "data": {
      "image/png": "[encoded data removed]",
      "text/plain": [
       "<Figure size 720x720 with 1 Axes>"
      ]
     },
     "metadata": {},
     "output_type": "display_data"
    }
   ],
   "source": [
    "problem3_2_11()"
   ]
  },
  {
   "cell_type": "code",
   "execution_count": 196,
   "metadata": {
    "scrolled": true
   },
   "outputs": [],
   "source": [
    "def problem3_2_12():\n",
    "    k_grid = np.linspace(1,15,100)\n",
    "\n",
    "    f = problem3_2_9(problem3_2_6,10,k_grid)\n",
    "    s = problem3_2_10(problem3_2_6,10,k_grid)\n",
    "    a = np.zeros(100)\n",
    "    \n",
    "    for i in range(len(kgrid)):\n",
    "        a[i] = problem3_2_6(k_grid[i])\n",
    "\n",
    "    plt.style.use(\"seaborn-darkgrid\")\n",
    "    plt.figure(figsize=(10,10))\n",
    "    palette = plt.get_cmap(\"Dark2\")\n",
    "\n",
    "    plt.plot(k_grid,f,label=\"First-Order Taylor\",color=palette(3))\n",
    "    plt.plot(k_grid,s,label=\"Second-Order Taylor\",color=palette(1))\n",
    "    plt.plot(k_grid,a,label =\"Actual\",color=palette(0))\n",
    "    plt.legend()\n",
    "    \n",
    "    plt.xlabel(\"$K$\")\n",
    "    plt.ylabel(\"$W$\")\n",
    "\n",
    "    plt.show()"
   ]
  },
  {
   "cell_type": "code",
   "execution_count": 197,
   "metadata": {},
   "outputs": [
    {
     "data": {
      "image/png": "[encoded data removed]",
      "text/plain": [
       "<Figure size 720x720 with 1 Axes>"
      ]
     },
     "metadata": {},
     "output_type": "display_data"
    }
   ],
   "source": [
    "problem3_2_12()"
   ]
  },
  {
   "cell_type": "markdown",
   "metadata": {},
   "source": [
    "## Problem 3."
   ]
  },
  {
   "cell_type": "code",
   "execution_count": 205,
   "metadata": {},
   "outputs": [],
   "source": [
    "def problem3_3_1(y,x):\n",
    "    # F_err\n",
    "    return (x**0.35 + 0.9*x - y)**(-2.5) - 0.95*(y**0.35 + 0.9*y)**(-2.5)"
   ]
  },
  {
   "cell_type": "code",
   "execution_count": 206,
   "metadata": {},
   "outputs": [],
   "source": [
    "def problem3_3_2(f,x,h=1e-3):\n",
    "    return (f(x+h)-f(x-h))/(2*h)"
   ]
  },
  {
   "cell_type": "code",
   "execution_count": 207,
   "metadata": {},
   "outputs": [],
   "source": [
    "def problem3_3_3(f,x,h=1e-3):\n",
    "    return (f(x+h)+f(x-h)-2*f(x))/(h**2)"
   ]
  },
  {
   "cell_type": "code",
   "execution_count": 208,
   "metadata": {},
   "outputs": [],
   "source": [
    "def problem3_3_4(f,x,h=1e-3):\n",
    "    return (f(x+2*h)-2*f(x+h)+2*f(x-h)-f(x-2*h))/(2*(h**3))"
   ]
  },
  {
   "cell_type": "code",
   "execution_count": 209,
   "metadata": {},
   "outputs": [],
   "source": [
    "def problem3_3_5(f,x_0,x):\n",
    "    return f(x_0)+problem3_3_2(f,x_0)*(x-x_0) "
   ]
  },
  {
   "cell_type": "code",
   "execution_count": 210,
   "metadata": {},
   "outputs": [],
   "source": [
    "def problem3_3_6(f,x_0,x):\n",
    "    return f(x_0)+problem3_3_2(f,x_0)*(x-x_0)+1/2*problem3_3_3(f,x_0)*(x-x_0)**2"
   ]
  },
  {
   "cell_type": "code",
   "execution_count": 211,
   "metadata": {},
   "outputs": [],
   "source": [
    "def problem3_3_7(f, x_0, x):\n",
    "    return f(x_0)+problem3_3_2(f,x_0)*(x-x_0)+1/2*problem3_3_2(f,x_0)*(x-x_0)**2+1/6*problem3_3_4(f,x_0)*(x-x_0)**3"
   ]
  },
  {
   "cell_type": "code",
   "execution_count": 212,
   "metadata": {},
   "outputs": [],
   "source": [
    "def problem3_3_8(x):\n",
    "    return opt.fsolve(problem3_3_1,50,x,xtol=1e-10)"
   ]
  },
  {
   "cell_type": "code",
   "execution_count": 213,
   "metadata": {},
   "outputs": [],
   "source": [
    "def problem3_3_9():\n",
    "    \n",
    "    X = np.linspace(99, 101, 100)\n",
    "\n",
    "    f = problem3_3_5(problem3_3_8,100,X)\n",
    "    s = problem3_3_6(problem3_3_8,100,X)\n",
    "    t = problem3_3_7(problem3_3_8,100,X)\n",
    "    a = np.zeros(100)\n",
    "    \n",
    "    for i in range(len(X)):\n",
    "        a[i] = problem3_3_8(X[i])\n",
    "\n",
    "    f_e, s_e, t_e = a-f, a-s, a-t\n",
    "\n",
    "    plt.style.use(\"seaborn-darkgrid\")\n",
    "    plt.figure(figsize=(10,10))\n",
    "    palette = plt.get_cmap(\"Dark2\")\n",
    "\n",
    "    plt.plot(X,f_e,label=\"First-Order Taylor Error\", color=palette(3))\n",
    "    plt.plot(X,s_e,label=\"Second-Order Taylor Error\", color=palette(1))\n",
    "    plt.plot(X,t_e,label =\"Third-Order Taylor Error\", color=palette(0))\n",
    "    plt.legend()\n",
    "    \n",
    "    plt.xlabel(\"$X$\")\n",
    "    plt.ylabel(\"Error\")\n",
    "\n",
    "    plt.show()"
   ]
  },
  {
   "cell_type": "code",
   "execution_count": 214,
   "metadata": {},
   "outputs": [
    {
     "data": {
      "image/png": "[encoded data removed]",
      "text/plain": [
       "<Figure size 720x720 with 1 Axes>"
      ]
     },
     "metadata": {},
     "output_type": "display_data"
    }
   ],
   "source": [
    "problem3_3_9()"
   ]
  },
  {
   "cell_type": "markdown",
   "metadata": {},
   "source": [
    "## Problems 4 and 5."
   ]
  },
  {
   "cell_type": "code",
   "execution_count": 113,
   "metadata": {},
   "outputs": [],
   "source": [
    "def problem3_4():\n",
    "    \n",
    "    baseline = yaml_import(\"baseline.yaml\")\n",
    "    baseline.residuals()\n",
    "    print(baseline)\n",
    "\n",
    "    perturbed = algos.dtcscc.perturbations.perturbate(baseline)"
   ]
  },
  {
   "cell_type": "code",
   "execution_count": 114,
   "metadata": {},
   "outputs": [
    {
     "name": "stdout",
     "output_type": "stream",
     "text": [
      "\n",
      "Model:\n",
      "------\n",
      "name: \"BaselineModel\"\n",
      "type: \"dtcscc\"\n",
      "file: \"baseline.yaml\n",
      "\n",
      "Equations:\n",
      "----------\n",
      "\n",
      "transition\n",
      " 1  : 0.0000 : k = i(-1)\n",
      " 2  : 0.0000 : z = rho_z*z(-1) + e_z\n",
      "\n",
      "arbitrage\n",
      " 1  : 0.0000 : 1 - beta*(c/c(1))*(rk(1))   | 0.0 <= i <= inf\n",
      "\n",
      "\n"
     ]
    },
    {
     "ename": "AttributeError",
     "evalue": "module 'dolo.algos.dtcscc' has no attribute 'perturbations'",
     "output_type": "error",
     "traceback": [
      "\u001b[0;31m---------------------------------------------------------------------------\u001b[0m",
      "\u001b[0;31mAttributeError\u001b[0m                            Traceback (most recent call last)",
      "\u001b[0;32m<ipython-input-114-624bac6dda1c>\u001b[0m in \u001b[0;36m<module>\u001b[0;34m()\u001b[0m\n\u001b[0;32m----> 1\u001b[0;31m \u001b[0mproblem3_4\u001b[0m\u001b[0;34m(\u001b[0m\u001b[0;34m)\u001b[0m\u001b[0;34m\u001b[0m\u001b[0m\n\u001b[0m",
      "\u001b[0;32m<ipython-input-113-f0adad8decd7>\u001b[0m in \u001b[0;36mproblem3_4\u001b[0;34m()\u001b[0m\n\u001b[1;32m      5\u001b[0m     \u001b[0mprint\u001b[0m\u001b[0;34m(\u001b[0m\u001b[0mbaseline\u001b[0m\u001b[0;34m)\u001b[0m\u001b[0;34m\u001b[0m\u001b[0m\n\u001b[1;32m      6\u001b[0m \u001b[0;34m\u001b[0m\u001b[0m\n\u001b[0;32m----> 7\u001b[0;31m     \u001b[0mperturbed\u001b[0m \u001b[0;34m=\u001b[0m \u001b[0malgos\u001b[0m\u001b[0;34m.\u001b[0m\u001b[0mdtcscc\u001b[0m\u001b[0;34m.\u001b[0m\u001b[0mperturbations\u001b[0m\u001b[0;34m.\u001b[0m\u001b[0mperturbate\u001b[0m\u001b[0;34m(\u001b[0m\u001b[0mbaseline\u001b[0m\u001b[0;34m)\u001b[0m\u001b[0;34m\u001b[0m\u001b[0m\n\u001b[0m",
      "\u001b[0;31mAttributeError\u001b[0m: module 'dolo.algos.dtcscc' has no attribute 'perturbations'"
     ]
    }
   ],
   "source": [
    "problem3_4()"
   ]
  }
 ],
 "metadata": {
  "kernelspec": {
   "display_name": "Python 3",
   "language": "python",
   "name": "python3"
  },
  "language_info": {
   "codemirror_mode": {
    "name": "ipython",
    "version": 3
   },
   "file_extension": ".py",
   "mimetype": "text/x-python",
   "name": "python",
   "nbconvert_exporter": "python",
   "pygments_lexer": "ipython3",
   "version": "3.6.5"
  }
 },
 "nbformat": 4,
 "nbformat_minor": 2
}
