{
 "cells": [
  {
   "cell_type": "code",
   "execution_count": 3,
   "metadata": {},
   "outputs": [],
   "source": [
    "import numpy as np\n",
    "from numpy import linalg as la\n",
    "\n",
    "import pandas as pd\n",
    "from matplotlib import pyplot as plt\n",
    "\n",
    "import scipy\n",
    "from scipy.stats import norm\n",
    "from scipy.stats import chi2\n",
    "import scipy.optimize as opt\n",
    "import scipy.integrate as integrate\n",
    "from scipy import stats as sts\n",
    "\n",
    "import math"
   ]
  },
  {
   "cell_type": "markdown",
   "metadata": {},
   "source": [
    "_Thank you to Natasha, Matt, and Tim._"
   ]
  },
  {
   "cell_type": "markdown",
   "metadata": {},
   "source": [
    "# Problem 1. {-}"
   ]
  },
  {
   "cell_type": "markdown",
   "metadata": {},
   "source": [
    "## Part (a)."
   ]
  },
  {
   "cell_type": "code",
   "execution_count": 9,
   "metadata": {},
   "outputs": [],
   "source": [
    "def p1a(ret=False):\n",
    "    \n",
    "    claims = np.loadtxt(\"clms.txt\")\n",
    "\n",
    "    w = 1/len(claims) * np.ones_like(claims)\n",
    "    \n",
    "    claims_t = claims[claims<800]\n",
    "    w_t = 1/len(claims_t) * np.ones_like(claims_t)\n",
    "    \n",
    "    if ret: return claims, claims_t, w_t\n",
    "    \n",
    "    \n",
    "    \n",
    "    plt.hist(claims, density = True, bins = 1000, weights = w)\n",
    "    plt.xlim(-500, claims.max())\n",
    "    plt.show()\n",
    "    \n",
    "    \n",
    "    \n",
    "    plt.hist(claims_t, weights = w_t, bins = 100)\n",
    "    plt.xlim(0,800)\n",
    "    plt.show()\n",
    "    \n",
    "    "
   ]
  },
  {
   "cell_type": "code",
   "execution_count": 10,
   "metadata": {},
   "outputs": [
    {
     "data": {
      "image/png": "[encoded data removed]",
      "text/plain": [
       "<Figure size 432x288 with 1 Axes>"
      ]
     },
     "metadata": {},
     "output_type": "display_data"
    },
    {
     "data": {
      "image/png": "[encoded data removed]",
      "text/plain": [
       "<Figure size 432x288 with 1 Axes>"
      ]
     },
     "metadata": {},
     "output_type": "display_data"
    }
   ],
   "source": [
    "p1a()"
   ]
  },
  {
   "cell_type": "markdown",
   "metadata": {},
   "source": [
    "## Part (b)."
   ]
  },
  {
   "cell_type": "code",
   "execution_count": 11,
   "metadata": {},
   "outputs": [],
   "source": [
    "def p1b1(x,α,β):\n",
    "    return (\n",
    "    \n",
    "        1 / (β**α * math.gamma(α)) * x**(α-1) * np.exp(-1*(x/β))\n",
    "        \n",
    "    )"
   ]
  },
  {
   "cell_type": "code",
   "execution_count": 12,
   "metadata": {},
   "outputs": [],
   "source": [
    "def p1b2(args, x):\n",
    "    \n",
    "    α,β = args\n",
    "    \n",
    "    return -1*np.sum(np.log(p1b1(x,α,β)))\n",
    "    "
   ]
  },
  {
   "cell_type": "code",
   "execution_count": 13,
   "metadata": {},
   "outputs": [],
   "source": [
    "def p1b3(ret=False):\n",
    "    \n",
    "    claims, claims_t, w_t = p1a(ret = True)\n",
    "    \n",
    "    β_0 = np.var(claims) / np.mean(claims)\n",
    "    α_0 = np.mean(claims) / β_0\n",
    "    params_0 = [α_0, β_0]\n",
    "    \n",
    "    bounds = ((1e-5,None),(1e-5,None))\n",
    "    optimized = opt.minimize(p1b2, params_0, args=claims, bounds=bounds)\n",
    "    optimized_t = opt.minimize(p1b2,params_0,args=claims_t,bounds=bounds)\n",
    "    \n",
    "    α,β = optimized.x\n",
    "    \n",
    "    e = optimized.fun\n",
    "    \n",
    "    if ret: return e\n",
    "    \n",
    "    α_t, β_t = optimized_t.x\n",
    "    \n",
    "    X = np.linspace(1e-2, 800, 1000)\n",
    "    \n",
    "    grid = p1b1(X, α, β)\n",
    "    grid_t = p1b1(X, α_t, β_t)\n",
    "    \n",
    "    plt.hist(claims_t, weights=w_t, bins=100)\n",
    "    plt.plot(X,grid,label=\"MLE $\\Gamma$-dist.\")\n",
    "    plt.plot(X,grid_t,label=\"MLE $\\Gamma$-dist. (trimmed)\")\n",
    "    \n",
    "    plt.xlim(0,800)\n",
    "    plt.ylim(0,5e-2)\n",
    "        \n",
    "    plt.legend()\n",
    "    plt.show()\n",
    "    \n",
    "    print(\n",
    "    \" •  α:  \",α,\"\\n\",\n",
    "    \"•  β:  \",β,\"\\n\\n\",\n",
    "    \"•  α_t:\",α_t,\"\\n\",\n",
    "    \"•  β_t:\",β_t    \n",
    "    )"
   ]
  },
  {
   "cell_type": "code",
   "execution_count": 14,
   "metadata": {},
   "outputs": [
    {
     "data": {
      "image/png": "[encoded data removed]",
      "text/plain": [
       "<Figure size 432x288 with 1 Axes>"
      ]
     },
     "metadata": {},
     "output_type": "display_data"
    },
    {
     "name": "stdout",
     "output_type": "stream",
     "text": [
      " •  α:   0.22175531882397229 \n",
      " •  β:   21911.06469927622 \n",
      "\n",
      " •  α_t: 0.20348864099178415 \n",
      " •  β_t: 21911.064699783838\n"
     ]
    }
   ],
   "source": [
    "p1b3()"
   ]
  },
  {
   "cell_type": "markdown",
   "metadata": {},
   "source": [
    "## Part (c)."
   ]
  },
  {
   "cell_type": "code",
   "execution_count": 15,
   "metadata": {},
   "outputs": [],
   "source": [
    "def p1c1(x,α,β,m):\n",
    "    return (\n",
    "        \n",
    "        m/(β**α * math.gamma(α/m)) * x**(α-1)*np.exp(-1*(x/β)**m)\n",
    "        \n",
    "    )"
   ]
  },
  {
   "cell_type": "code",
   "execution_count": 16,
   "metadata": {},
   "outputs": [],
   "source": [
    "def p1c2(args,x):\n",
    "    α,β,m = args\n",
    "    return -1*np.sum(np.log(p1c1(x,α,β,m)))"
   ]
  },
  {
   "cell_type": "code",
   "execution_count": 17,
   "metadata": {},
   "outputs": [],
   "source": [
    "def p1c3(ret=False):\n",
    "    claims, claims_t, w_t = p1a(ret = True)\n",
    "    \n",
    "    β_0 = np.var(claims) / np.mean(claims)\n",
    "    α_0 = np.mean(claims) / β_0\n",
    "    m_0 = 1\n",
    "    \n",
    "     params_0 = [α_0, β_0, m_0]\n",
    "    \n",
    "    b = (1e-5,None)\n",
    "    bounds = (b,b,b)\n",
    "    \n",
    "    optimized = opt.minimize(p1c2, params_0, args=claims, bounds=bounds)\n",
    "    optimized_t = opt.minimize(p1c2, params_0, args= claims_t, \n",
    "                               bounds = bounds)\n",
    "    \n",
    "    α,β,m = optimized.x\n",
    "    \n",
    "    e = optimized.fun\n",
    "    \n",
    "    if ret: return e\n",
    "    \n",
    "    α_t,β_t,m_t = optimized_t.x\n",
    "    \n",
    "    X = np.linspace(1e-2,800,1000)\n",
    "    \n",
    "    grid = p1c1(X,α,β,m)\n",
    "    grid_t = p1c1(X,α_t,β_t,m_t)\n",
    "    \n",
    "    plt.hist(claims_t,weights = w_t, bins=100)\n",
    "    plt.plot(X,grid,label=\"MLE GG dist.\")\n",
    "    plt.plot(X,grid_t,label = \"MLE GG dist. (trimmed)\")\n",
    "    \n",
    "    plt.xlim(0,800)\n",
    "    plt.ylim(0,5e-2)\n",
    "    \n",
    "    plt.legend()\n",
    "    plt.show()\n",
    "    \n",
    "    print(\n",
    "    \" •  α:  \",α,\"\\n\",\n",
    "    \"•  β:  \",β,\"\\n\",\n",
    "    \"•  m:  \",m,\"\\n\\n\",\n",
    "    \"•  α_t:\",α_t,\"\\n\",\n",
    "    \"•  β_t:\",β_t,\"\\n\",\n",
    "    \"•  m_t:\",m_t\n",
    "    )\n",
    "    "
   ]
  },
  {
   "cell_type": "code",
   "execution_count": 18,
   "metadata": {},
   "outputs": [
    {
     "data": {
      "image/png": "[encoded data removed]",
      "text/plain": [
       "<Figure size 432x288 with 1 Axes>"
      ]
     },
     "metadata": {},
     "output_type": "display_data"
    },
    {
     "name": "stdout",
     "output_type": "stream",
     "text": [
      " •  α:   0.2217538681829344 \n",
      " •  β:   21911.064372887282 \n",
      " •  m:   0.9976836233858909 \n",
      "\n",
      " •  α_t: 0.2034851449617037 \n",
      " •  β_t: 21911.064638789405 \n",
      " •  m_t: 0.8868958758893984\n"
     ]
    }
   ],
   "source": [
    "p1c3()"
   ]
  },
  {
   "cell_type": "markdown",
   "metadata": {},
   "source": [
    "## Part (d)."
   ]
  },
  {
   "cell_type": "code",
   "execution_count": 19,
   "metadata": {},
   "outputs": [],
   "source": [
    "def p1d1(x,α,β,p,q):\n",
    "    return(\n",
    "    \n",
    "        α*x**(α*p-1)/(β**(α*p)*scipy.special.beta(p,q)*(1+(x/β)**α)**(p+q))       \n",
    "    )"
   ]
  },
  {
   "cell_type": "code",
   "execution_count": 20,
   "metadata": {},
   "outputs": [],
   "source": [
    "def p1d2(args,x):\n",
    "    α,β,p,q = args\n",
    "    \n",
    "    return -1 * np.sum(np.log(p1d1(x,α,β,p,q)))"
   ]
  },
  {
   "cell_type": "code",
   "execution_count": 21,
   "metadata": {},
   "outputs": [],
   "source": [
    "def p1d3(ret=False):\n",
    "    \n",
    "    claims, claims_t, w_t = p1a(ret = True)\n",
    "    \n",
    "    β_0 = np.var(claims)/np.mean(claims)\n",
    "    α_0 = np.mean(claims) / β_0\n",
    "    p_0, q_0 = 1,1\n",
    "    \n",
    "    params_0 = [α_0,β_0,p_0,q_0]\n",
    "    \n",
    "    b = (1e-5,None)\n",
    "    bounds = (b,b,b,b)\n",
    "    \n",
    "    optimized = opt.minimize(p1d2,params_0, args = claims, bounds = bounds)\n",
    "    optimized_t = opt.minimize(p1d2, params_0, args=claims_t, bounds=bounds)\n",
    "    \n",
    "    α,β,p,q = optimized.x\n",
    "    \n",
    "    e = p1d2([α,β,p,q],claims)\n",
    "    \n",
    "    if ret: return e\n",
    "    \n",
    "    α_t,β_t,p_t,q_t = optimized_t.x\n",
    "    \n",
    "    X = np.linspace(1e-2,800,1000)\n",
    "    \n",
    "    grid = p1b1(X,α,β)\n",
    "    grid_t = p1b1(X,α_t,β_t)\n",
    "    \n",
    "    plt.hist(claims_t,weights = w_t, bins=100)\n",
    "    plt.plot(X,grid,label = \"MLE GB2 dist.\")\n",
    "    plt.plot(X,grid_t,label = \"MLE GB2 dist. (trimmed)\")\n",
    "    \n",
    "    plt.xlim(0,800)\n",
    "    plt.ylim(0,5e-2)\n",
    "    \n",
    "    plt.legend()\n",
    "    plt.show()\n",
    "    \n",
    "    print(\n",
    "    \" •  α:  \",α,\"\\n\",\n",
    "    \"•  β:  \",β,\"\\n\",\n",
    "    \"•  p:  \",p,\"\\n\",\n",
    "    \"•  q:  \",q,\"\\n\\n\"\n",
    "    \"•  α_t:\",α_t,\"\\n\",\n",
    "    \"•  β_t:\",β_t,\"\\n\",\n",
    "    \"•  p_t:\",p_t,\"\\n\",\n",
    "    \"•  q_t:\",q_t,\"\\n\\n\",\n",
    "    \"•  e:  \",e\n",
    "    )"
   ]
  },
  {
   "cell_type": "code",
   "execution_count": 22,
   "metadata": {},
   "outputs": [
    {
     "name": "stderr",
     "output_type": "stream",
     "text": [
      "/anaconda3/lib/python3.6/site-packages/ipykernel_launcher.py:4: RuntimeWarning: overflow encountered in power\n",
      "  after removing the cwd from sys.path.\n",
      "/anaconda3/lib/python3.6/site-packages/ipykernel_launcher.py:4: RuntimeWarning: invalid value encountered in multiply\n",
      "  after removing the cwd from sys.path.\n",
      "/anaconda3/lib/python3.6/site-packages/ipykernel_launcher.py:4: RuntimeWarning: overflow encountered in double_scalars\n",
      "  after removing the cwd from sys.path.\n",
      "/anaconda3/lib/python3.6/site-packages/ipykernel_launcher.py:4: RuntimeWarning: invalid value encountered in true_divide\n",
      "  after removing the cwd from sys.path.\n",
      "/anaconda3/lib/python3.6/site-packages/ipykernel_launcher.py:4: RuntimeWarning: divide by zero encountered in log\n",
      "  after removing the cwd from sys.path.\n"
     ]
    },
    {
     "data": {
      "image/png": "[encoded data removed]",
      "text/plain": [
       "<Figure size 432x288 with 1 Axes>"
      ]
     },
     "metadata": {},
     "output_type": "display_data"
    },
    {
     "name": "stdout",
     "output_type": "stream",
     "text": [
      " •  α:   0.1076732352007127 \n",
      " •  β:   21911.069331861727 \n",
      " •  p:   61.5648216721421 \n",
      " •  q:   102.69247959910427 \n",
      "\n",
      "•  α_t: 0.9787247608992424 \n",
      " •  β_t: 21911.05377033113 \n",
      " •  p_t: 1.1884189025004108 \n",
      " •  q_t: 120.13896050042712 \n",
      "\n",
      " •  e:   74861.6169378541\n"
     ]
    }
   ],
   "source": [
    "p1d3()"
   ]
  },
  {
   "cell_type": "markdown",
   "metadata": {},
   "source": [
    "## Part (e)."
   ]
  },
  {
   "cell_type": "code",
   "execution_count": 23,
   "metadata": {},
   "outputs": [],
   "source": [
    "def p1e():\n",
    "    \n",
    "    e_ga = p1b3(ret = True)\n",
    "    e_gg = p1c3(ret = True)\n",
    "    e_gb2 = p1d3(ret = True)\n",
    "    \n",
    "    lr_ga = 2*(np.log(e_gb2)-np.log(e_ga))\n",
    "    lr_gg = 2*(np.log(e_gb2)-np.log(e_gg))\n",
    "    \n",
    "    p_ga = chi2.cdf(lr_ga, df = 4)\n",
    "    p_gg = chi2.cdf(lr_gg, df = 4)\n",
    "    \n",
    "    print(\n",
    "        \" •  χ^2_GG:\",p_gg,\"\\n\",\n",
    "         \"•  χ^2_GA:\",p_ga\n",
    "    )"
   ]
  },
  {
   "cell_type": "code",
   "execution_count": 24,
   "metadata": {},
   "outputs": [
    {
     "name": "stderr",
     "output_type": "stream",
     "text": [
      "/anaconda3/lib/python3.6/site-packages/ipykernel_launcher.py:4: RuntimeWarning: overflow encountered in power\n",
      "  after removing the cwd from sys.path.\n",
      "/anaconda3/lib/python3.6/site-packages/ipykernel_launcher.py:4: RuntimeWarning: invalid value encountered in multiply\n",
      "  after removing the cwd from sys.path.\n",
      "/anaconda3/lib/python3.6/site-packages/ipykernel_launcher.py:4: RuntimeWarning: overflow encountered in double_scalars\n",
      "  after removing the cwd from sys.path.\n",
      "/anaconda3/lib/python3.6/site-packages/ipykernel_launcher.py:4: RuntimeWarning: invalid value encountered in true_divide\n",
      "  after removing the cwd from sys.path.\n",
      "/anaconda3/lib/python3.6/site-packages/ipykernel_launcher.py:4: RuntimeWarning: divide by zero encountered in log\n",
      "  after removing the cwd from sys.path.\n"
     ]
    },
    {
     "name": "stdout",
     "output_type": "stream",
     "text": [
      " •  χ^2_GG: 0.0 \n",
      " •  χ^2_GA: 0.0\n"
     ]
    }
   ],
   "source": [
    "p1e()"
   ]
  },
  {
   "cell_type": "markdown",
   "metadata": {},
   "source": [
    "# Problem 2. {-}"
   ]
  },
  {
   "cell_type": "code",
   "execution_count": 25,
   "metadata": {},
   "outputs": [],
   "source": [
    "# Globals\n",
    "SERIES = pd.read_csv(\"MacroSeries.txt\",header=None)\n",
    "SERIES.columns = [\"c\",\"k\",\"w\",\"r\",\"y\"]"
   ]
  },
  {
   "cell_type": "markdown",
   "metadata": {},
   "source": [
    "## Part (a)."
   ]
  },
  {
   "cell_type": "code",
   "execution_count": 26,
   "metadata": {},
   "outputs": [],
   "source": [
    "def p2a1(w,k,α):\n",
    "    return np.log(w/((1-α)*k**α))"
   ]
  },
  {
   "cell_type": "code",
   "execution_count": 27,
   "metadata": {},
   "outputs": [],
   "source": [
    "def p2a2(w,k,α,μ,σ,ρ):\n",
    "    z = p2a1(w,k,α)\n",
    "    val = 0\n",
    "    for i in range(len(z)):\n",
    "        if i == 0:\n",
    "            pdf = norm.pdf(μ,loc=μ,scale=σ)\n",
    "        else:\n",
    "            pdf = norm.pdf(z[i],loc=(ρ*z[i-1]+(1-ρ)*μ),scale=σ)\n",
    "        val+=np.log(pdf)\n",
    "    return val"
   ]
  },
  {
   "cell_type": "code",
   "execution_count": 28,
   "metadata": {},
   "outputs": [],
   "source": [
    "def p2a3(params,*args):\n",
    "    α,μ,σ,ρ=params\n",
    "    w,k=args\n",
    "    return -1*p2a2(w,k,α,μ,σ,ρ)"
   ]
  },
  {
   "cell_type": "code",
   "execution_count": 43,
   "metadata": {},
   "outputs": [],
   "source": [
    "def p2a4():\n",
    "    params_0 = np.array([.4,.4,.4,.8])\n",
    "    mle_args = (SERIES.w, SERIES.k)\n",
    "    \n",
    "    optimized = opt.minimize(p2a3,params_0,args=mle_args,\n",
    "         method=\"L-BFGS-B\",bounds=((1e-2,.99),(1e-2,None),(1e-2,None),\n",
    "                               (-.99,.99)))\n",
    "    \n",
    "    α_mle,μ_mle,σ_mle,ρ_mle = optimized.x\n",
    "    loglik_max = -1*optimized.fun\n",
    "    \n",
    "    vcv_ih = optimized.hess_inv.todense()\n",
    "    \n",
    "    print(\n",
    "        \" •  α_mle:\",α_mle,\"\\n\",\n",
    "         \"•  μ_mle:\",μ_mle,\"\\n\",\n",
    "         \"•  σ_mle:\",σ_mle,\"\\n\",\n",
    "         \"•  ρ_mle:\",ρ_mle,\"\\n\",\n",
    "         \"•  log likelihood max:\",loglik_max,\"\\n\",\n",
    "         \"•  inverse hessian of vcv:\\n\",vcv_ih\n",
    "    )\n",
    "    \n",
    "    "
   ]
  },
  {
   "cell_type": "code",
   "execution_count": 44,
   "metadata": {},
   "outputs": [
    {
     "name": "stdout",
     "output_type": "stream",
     "text": [
      " •  α_mle: 0.5534077576357248 \n",
      " •  μ_mle: 8.106499434665157 \n",
      " •  σ_mle: 0.09278026792905704 \n",
      " •  ρ_mle: 0.8246485429070475 \n",
      " •  log likelihood max: 95.85827569290834 \n",
      " •  inverse hessian of vcv:\n",
      " [[ 2.94783896e+00 -3.91105055e+01 -2.20282338e-01 -8.61238189e-01]\n",
      " [-3.91105055e+01  5.18902999e+02  2.92239258e+00  1.14268028e+01]\n",
      " [-2.20282338e-01  2.92239258e+00  1.66392463e-02  6.39042748e-02]\n",
      " [-8.61238189e-01  1.14268028e+01  6.39042748e-02  2.56555043e-01]]\n"
     ]
    }
   ],
   "source": [
    "p2a4()"
   ]
  },
  {
   "cell_type": "markdown",
   "metadata": {},
   "source": [
    "## Part (b)."
   ]
  },
  {
   "cell_type": "code",
   "execution_count": 45,
   "metadata": {},
   "outputs": [],
   "source": [
    "def p2b1(r,k,α):\n",
    "    return np.log(r/(α*k**(α-1)))"
   ]
  },
  {
   "cell_type": "code",
   "execution_count": 46,
   "metadata": {},
   "outputs": [],
   "source": [
    "def p2b2(r,k,α,μ,σ,ρ):\n",
    "    z = p2b1(r,k,α)\n",
    "    val = 0\n",
    "    for i in range(len(z)):\n",
    "        if i ==0 :\n",
    "            pdf = norm.pdf(μ,loc=μ,scale=σ)\n",
    "        else:\n",
    "            pdf = norm.pdf(z[i],loc=(ρ*z[i-1]+(1-ρ)*μ),scale=σ)\n",
    "        val += np.log(pdf)\n",
    "    return val\n",
    "    "
   ]
  },
  {
   "cell_type": "code",
   "execution_count": 47,
   "metadata": {},
   "outputs": [],
   "source": [
    "def p2b3(params, *args):\n",
    "    α,μ,σ,ρ=params\n",
    "    r,k=args\n",
    "    return -1*p2b2(r,k,α,μ,σ,ρ)\n",
    "    "
   ]
  },
  {
   "cell_type": "code",
   "execution_count": 48,
   "metadata": {},
   "outputs": [],
   "source": [
    "def p2b4():\n",
    "    params_0 = np.array([.4,.4,.4,.8])\n",
    "    mle_args = (SERIES.r, SERIES.k)\n",
    "    optimized = opt.minimize(p2b3,params_0,args=mle_args,\n",
    "         method= \"L-BFGS-B\",bounds=((1e-2,.99),(1e-2,None),(1e-2,None),\n",
    "                                        (-.99,.99)))\n",
    "    α_mle,μ_mle,σ_mle,ρ_mle=optimized.x\n",
    "    loglik_max = -optimized.fun\n",
    "    \n",
    "    vcv_ih = -1*optimized.hess_inv.todense()\n",
    " \n",
    "    print(\n",
    "        \" •  α_mle:\",α_mle,\"\\n\",\n",
    "         \"•  μ_mle:\",μ_mle,\"\\n\",\n",
    "         \"•  σ_mle:\",σ_mle,\"\\n\",\n",
    "         \"•  ρ_mle:\",ρ_mle,\"\\n\",\n",
    "         \"•  log likelihood max:\",loglik_max,\"\\n\",\n",
    "         \"•  inverse hessian of vcv:\\n\",vcv_ih\n",
    "    )\n",
    "    "
   ]
  },
  {
   "cell_type": "code",
   "execution_count": 49,
   "metadata": {},
   "outputs": [
    {
     "name": "stdout",
     "output_type": "stream",
     "text": [
      " •  α_mle: 0.553376197472035 \n",
      " •  μ_mle: 7.56982093560222 \n",
      " •  σ_mle: 0.09278048277785769 \n",
      " •  ρ_mle: 0.8246601896600757 \n",
      " •  log likelihood max: 95.85827566348482 \n",
      " •  inverse hessian of vcv:\n",
      " [[-1.37999828e+02  2.40074534e+03  5.32604011e+00  4.43546900e+01]\n",
      " [ 2.40074534e+03 -4.17656334e+04 -9.26368535e+01 -7.72261481e+02]\n",
      " [ 5.32604011e+00 -9.26368535e+01 -2.06326662e-01 -1.68846120e+00]\n",
      " [ 4.43546900e+01 -7.72261481e+02 -1.68846120e+00 -1.50402824e+01]]\n"
     ]
    }
   ],
   "source": [
    "p2b4()"
   ]
  },
  {
   "cell_type": "markdown",
   "metadata": {},
   "source": [
    "## Part (c)."
   ]
  },
  {
   "cell_type": "code",
   "execution_count": 50,
   "metadata": {},
   "outputs": [],
   "source": [
    "def p2c1():\n",
    "    params_0=np.array([.4,.4,.4,.8])\n",
    "    mle_args = (SERIES.w,SERIES.k)\n",
    "    optimized = opt.minimize(p2a3,params_0,args=mle_args,\n",
    " method=\"L-BFGS-B\",bounds=((1e-2,.99),(1e-2,None),(1e-2,None),(-.99,.99)))\n",
    "    return optimized.x\n",
    "    "
   ]
  },
  {
   "cell_type": "code",
   "execution_count": 51,
   "metadata": {},
   "outputs": [],
   "source": [
    "def p2c2(r,k,z_m1,params):\n",
    "    α,μ,σ,ρ=params\n",
    "    return 1-norm.cdf(p2b1(r,k,α),(ρ*z_m1+(1-ρ)*μ),σ)"
   ]
  },
  {
   "cell_type": "code",
   "execution_count": 52,
   "metadata": {},
   "outputs": [],
   "source": [
    "def p2c3():\n",
    "    print(\"Probability that the interest rate is greater than one:\",\n",
    "          p2c2(1,7_500_000,10,p2c1()))"
   ]
  },
  {
   "cell_type": "code",
   "execution_count": 53,
   "metadata": {},
   "outputs": [
    {
     "name": "stdout",
     "output_type": "stream",
     "text": [
      "Probability that the interest rate is greater than one: 1.0\n"
     ]
    }
   ],
   "source": [
    "p2c3()"
   ]
  },
  {
   "cell_type": "markdown",
   "metadata": {},
   "source": [
    "# Problem 3. {-}"
   ]
  },
  {
   "cell_type": "code",
   "execution_count": 54,
   "metadata": {},
   "outputs": [],
   "source": [
    "# Globals\n",
    "INCOMES = pd.read_table(\"usincmoms.txt\",header=None)\n",
    "INCOMES.columns = [\"Percent\",\"Midpoint\"]\n",
    "INCOMES.Midpoint = INCOMES.Midpoint/1_000"
   ]
  },
  {
   "cell_type": "markdown",
   "metadata": {},
   "source": [
    "## Part (a)."
   ]
  },
  {
   "cell_type": "code",
   "execution_count": 55,
   "metadata": {},
   "outputs": [],
   "source": [
    "def p3a(ret=False):\n",
    "    w=INCOMES.Percent.copy()\n",
    "    w[41],w[40]=w[41]/20,w[40]/10\n",
    "    bins=np.append(np.linspace(0,200,41),[250,350])\n",
    "    \n",
    "    if ret: return bins,w\n",
    "    \n",
    "    plt.hist(INCOMES.Midpoint, bins=bins, weights=w)\n",
    "    \n",
    "    plt.xlabel(\"Income, USD '000s\")\n",
    "    plt.title(\"U.S. Income Distribution\")\n",
    "    plt.show()"
   ]
  },
  {
   "cell_type": "code",
   "execution_count": 56,
   "metadata": {},
   "outputs": [
    {
     "data": {
      "image/png": "[encoded data removed]",
      "text/plain": [
       "<Figure size 432x288 with 1 Axes>"
      ]
     },
     "metadata": {},
     "output_type": "display_data"
    }
   ],
   "source": [
    "p3a()"
   ]
  },
  {
   "cell_type": "markdown",
   "metadata": {},
   "source": [
    "## Part (b)."
   ]
  },
  {
   "cell_type": "code",
   "execution_count": 89,
   "metadata": {},
   "outputs": [],
   "source": [
    "def p3b1(x,μ,σ):\n",
    "    return (\n",
    "    \n",
    "    (1/(x*σ*np.sqrt(2*np.pi)))*np.exp(-1*((np.log(x)-μ)**2/(2*σ**2)))\n",
    "    \n",
    "    )"
   ]
  },
  {
   "cell_type": "code",
   "execution_count": 168,
   "metadata": {},
   "outputs": [],
   "source": [
    "def p3b2(μ,σ):\n",
    "    bins,w=p3a(ret=True)\n",
    "    \n",
    "    moments = np.zeros(len(bins)-1)\n",
    "    \n",
    "    for i in range(len(bins)-1):\n",
    "        moments [i] = (integrate.quad(\n",
    "        lambda x: p3b1(x,μ,σ),bins[i],bins[i+1])[0])\n",
    "    return moments\n",
    "          "
   ]
  },
  {
   "cell_type": "code",
   "execution_count": 91,
   "metadata": {},
   "outputs": [],
   "source": [
    "def p3b3(dat,μ,σ,mode=False):\n",
    "    modat = np.array(dat.Percent)\n",
    "    model = p3b2(μ,σ)\n",
    "    if mode: return model-modat\n",
    "    else: return (model-modat)/modat\n",
    "    "
   ]
  },
  {
   "cell_type": "code",
   "execution_count": 92,
   "metadata": {},
   "outputs": [],
   "source": [
    "def p3b4(params,args):\n",
    "    μ,σ=params\n",
    "    dat,W=args\n",
    "    e=p3b3(dat,μ,σ)\n",
    "    return e.T@W@e"
   ]
  },
  {
   "cell_type": "code",
   "execution_count": 154,
   "metadata": {},
   "outputs": [],
   "source": [
    "def p3b5(ret=False):\n",
    "    \n",
    "    bins,w = p3a(ret=True)\n",
    "    \n",
    "    μ_0 = np.log(np.sum(INCOMES.Percent*INCOMES.Midpoint))\n",
    "    σ_0 = 3\n",
    "    params_0=np.array([μ_0,σ_0])\n",
    "\n",
    "    W=np.diag(INCOMES.Percent)\n",
    "    gmm_args = np.array([INCOMES,W])\n",
    "\n",
    "    optimized = opt.minimize(p3b4,params_0,args=gmm_args,method=\"L-BFGS-B\",bounds=((None,None),(1e-10,None)))\n",
    "\n",
    "    μ_gmm, σ_gmm = optimized.x\n",
    "    \n",
    "    X=np.linspace(1e-9,350,500)\n",
    "    \n",
    "    if ret: return optimized.fun,μ_gmm,σ_gmm\n",
    "    \n",
    "    plt.hist(INCOMES.Midpoint,bins=bins,weights=w)\n",
    "    \n",
    "    plt.xlabel(\"Income, USD '000s\")\n",
    "    plt.title(\"U.S. Income Distribution\")\n",
    "    \n",
    "    plt.plot(X,5*p3b1(X,μ_gmm,σ_gmm),label=\"Lognorm\")\n",
    "    \n",
    "    plt.legend()\n",
    "    plt.show()"
   ]
  },
  {
   "cell_type": "code",
   "execution_count": 155,
   "metadata": {
    "scrolled": true
   },
   "outputs": [
    {
     "data": {
      "image/png": "[encoded data removed]",
      "text/plain": [
       "<Figure size 432x288 with 1 Axes>"
      ]
     },
     "metadata": {},
     "output_type": "display_data"
    }
   ],
   "source": [
    "p3b5()"
   ]
  },
  {
   "cell_type": "markdown",
   "metadata": {},
   "source": [
    "## Part (c)."
   ]
  },
  {
   "cell_type": "code",
   "execution_count": 103,
   "metadata": {},
   "outputs": [],
   "source": [
    "def p3c1(x,α,β):\n",
    "    return(\n",
    "    \n",
    "    1/(β**α*(math.gamma(α)))*x**(α-1)*np.exp(-(x/β))\n",
    "    \n",
    "    )"
   ]
  },
  {
   "cell_type": "code",
   "execution_count": 167,
   "metadata": {},
   "outputs": [],
   "source": [
    "\n",
    "def p3c2(α,β):\n",
    "    bins,w=p3a(ret=True)\n",
    "    \n",
    "    moments = np.zeros(len(bins)-1)\n",
    "    for i in range(len(bins)-1):\n",
    "        moments[i] = integrate.quad(lambda x: p3c1(x,α,β),bins[i],bins[i+1])[0]\n",
    "    return moments"
   ]
  },
  {
   "cell_type": "code",
   "execution_count": 105,
   "metadata": {},
   "outputs": [],
   "source": [
    "def p3c3(dat,α,β,mode=False):\n",
    "    modat = np.array(INCOMES.Percent)\n",
    "    model = p3c2(α,β)\n",
    "    if mode: return model - modat\n",
    "    else: return (model-modat) / modat"
   ]
  },
  {
   "cell_type": "code",
   "execution_count": 106,
   "metadata": {},
   "outputs": [],
   "source": [
    "def p3c4(params, args):\n",
    "    α,β=params\n",
    "    dat,W=args\n",
    "    \n",
    "    e=p3c3(dat,α,β,mode=False)\n",
    "    \n",
    "    return e.T@W@e"
   ]
  },
  {
   "cell_type": "code",
   "execution_count": 153,
   "metadata": {},
   "outputs": [],
   "source": [
    "def p3c5(ret=False):\n",
    "    \n",
    "    bins,w=p3a(ret=True)\n",
    "    \n",
    "    α_0,β_0=5,25\n",
    "    params_0 = np.array([α_0,β_0])\n",
    "    \n",
    "    W=np.diag(INCOMES.Percent)\n",
    "    gmm_args = np.array([INCOMES,W])\n",
    "    \n",
    "    optimized = opt.minimize(p3c4,params_0,method=\"L-BFGS-B\",\n",
    "         args=gmm_args,bounds=((1e-10,None),(1e-10,None)))\n",
    "    \n",
    "    α_gmm,β_gmm = optimized.x\n",
    "    \n",
    "    X = np.linspace(1e-9, 350, 500)\n",
    "    \n",
    "    if ret: return optimized.fun, α_gmm, β_gmm\n",
    "    \n",
    "    plt.hist(INCOMES.Midpoint, bins= bins, weights=w)\n",
    "    \n",
    "    plt.xlabel(\"Income, USD '000s\")\n",
    "    plt.title(\"U.S. Income Distribution\")\n",
    "    \n",
    "    plt.plot(X,5*p3c1(X,α_gmm,β_gmm),label=\"$\\Gamma$\")\n",
    "    \n",
    "    plt.legend()\n",
    "    plt.show()"
   ]
  },
  {
   "cell_type": "code",
   "execution_count": 156,
   "metadata": {},
   "outputs": [
    {
     "data": {
      "image/png": "[encoded data removed]",
      "text/plain": [
       "<Figure size 432x288 with 1 Axes>"
      ]
     },
     "metadata": {},
     "output_type": "display_data"
    }
   ],
   "source": [
    "p3c5()"
   ]
  },
  {
   "cell_type": "markdown",
   "metadata": {},
   "source": [
    "## Part (d)."
   ]
  },
  {
   "cell_type": "code",
   "execution_count": 164,
   "metadata": {},
   "outputs": [],
   "source": [
    "def p3d():\n",
    "    \n",
    "    ge, α_gmm, β_gmm = p3c5(ret=True)\n",
    "    lne, μ_gmm, σ_gmm = p3b5(ret=True)\n",
    "    \n",
    "    bins,w=p3a(ret=True)\n",
    "    \n",
    "    X = np.linspace(1e-9,350,500)\n",
    "    \n",
    "    plt.hist(INCOMES.Midpoint,bins=bins,weights=w)\n",
    "    \n",
    "    plt.xlabel(\"Income, USD '000s\")\n",
    "    plt.title(\"U.S. Income Distribution\")\n",
    "    \n",
    "    plt.plot(X,5*p3b1(X,μ_gmm,σ_gmm),label=\"Lognorm\")\n",
    "    plt.plot(X,5*p3c1(X,α_gmm,β_gmm),label=\"$\\Gamma$\")\n",
    "\n",
    "    plt.legend()\n",
    "    plt.show()\n",
    "    \n",
    "    print( \"Gamma and Lognorm errors:\", ge, lne)\n",
    "\n",
    "    return ge, lne"
   ]
  },
  {
   "cell_type": "code",
   "execution_count": 166,
   "metadata": {},
   "outputs": [
    {
     "data": {
      "image/png": "[encoded data removed]",
      "text/plain": [
       "<Figure size 432x288 with 1 Axes>"
      ]
     },
     "metadata": {},
     "output_type": "display_data"
    },
    {
     "name": "stdout",
     "output_type": "stream",
     "text": [
      "Gamma and Lognorm errors: 0.014084919474147941 0.03551648133439868\n"
     ]
    },
    {
     "data": {
      "text/plain": [
       "(0.014084919474147941, 0.03551648133439868)"
      ]
     },
     "execution_count": 166,
     "metadata": {},
     "output_type": "execute_result"
    }
   ],
   "source": [
    "p3d()"
   ]
  },
  {
   "cell_type": "markdown",
   "metadata": {},
   "source": [
    "## Part (e)."
   ]
  },
  {
   "cell_type": "code",
   "execution_count": 174,
   "metadata": {},
   "outputs": [],
   "source": [
    "def p3e1(α,β):\n",
    "    \n",
    "    bins,w=p3a(ret=True)\n",
    "    \n",
    "    moments = np.zeros(len(bins)-1)\n",
    "    for i in range(len(bins)-1):\n",
    "        moments[i] = integrate.quad(lambda x: p3c1(x,α,β),bins[i],bins[i+1])[0]\n",
    "    return moments"
   ]
  },
  {
   "cell_type": "code",
   "execution_count": 175,
   "metadata": {},
   "outputs": [],
   "source": [
    "def p3e2(dat,α,β,mode=False):\n",
    "    modat = np.array(INCOMES.Percent)\n",
    "    model = p3e1(α,β)\n",
    "    if mode: return model - modat\n",
    "    else: return (model-modat)/modat"
   ]
  },
  {
   "cell_type": "code",
   "execution_count": 176,
   "metadata": {},
   "outputs": [],
   "source": [
    "def p3e3(params, args):\n",
    "    α,β=params\n",
    "    dat,W=args\n",
    "    e=p3e2(dat,α,β,mode=False)\n",
    "    return e.T@W@e"
   ]
  },
  {
   "cell_type": "code",
   "execution_count": 195,
   "metadata": {},
   "outputs": [],
   "source": [
    "def p3e4():\n",
    "    \n",
    "    bins,w=p3a(ret=True)\n",
    "\n",
    "    α_0,β_0 = 1.1, 50\n",
    "    \n",
    "    params_0 = np.array([α_0,β_0])\n",
    "    \n",
    "    ge, α_gmm_0, β_gmm_0 = p3c5(ret=True)\n",
    "    e=p3e2(INCOMES,α_gmm_0,β_gmm_0)\n",
    "    \n",
    "    vcv=np.outer(e.T,e)\n",
    "    W=la.pinv(vcv)\n",
    "    \n",
    "    gmm_args = np.array([INCOMES,W])\n",
    "    \n",
    "    optimized = opt.minimize(p3e3,params_0,args=gmm_args, bounds=((1e-10,None),(1e-10,None)))\n",
    "    \n",
    "    α_gmm,β_gmm = optimized.x\n",
    "    \n",
    "    X=np.linspace(1e-9,350,500)\n",
    "    \n",
    "    plt.hist(INCOMES.Midpoint, bins=bins, weights=w)\n",
    "        \n",
    "    plt.xlabel(\"Income, USD '000s\")\n",
    "    plt.title(\"U.S. Income Distribution\")\n",
    "    \n",
    "    plt.plot(X,5*p3c1(X,α_gmm,β_gmm),label=\"$\\Gamma$\")\n",
    "\n",
    "    plt.legend()\n",
    "    plt.show()\n",
    "    \n",
    "    return optimized.fun"
   ]
  },
  {
   "cell_type": "code",
   "execution_count": 196,
   "metadata": {},
   "outputs": [
    {
     "data": {
      "image/png": "[encoded data removed]",
      "text/plain": [
       "<Figure size 432x288 with 1 Axes>"
      ]
     },
     "metadata": {},
     "output_type": "display_data"
    },
    {
     "data": {
      "text/plain": [
       "2.2526548410291274e-17"
      ]
     },
     "execution_count": 196,
     "metadata": {},
     "output_type": "execute_result"
    }
   ],
   "source": [
    "p3e4()"
   ]
  },
  {
   "cell_type": "markdown",
   "metadata": {},
   "source": [
    "Something seems to have gone wrong here. Not sure what."
   ]
  },
  {
   "cell_type": "markdown",
   "metadata": {},
   "source": [
    "# Problem 4. {-}"
   ]
  },
  {
   "cell_type": "code",
   "execution_count": 207,
   "metadata": {},
   "outputs": [],
   "source": [
    "# Globals\n",
    "SERIES = pd.read_csv(\"MacroSeries.txt\",header=None)\n",
    "SERIES.columns = [\"c\",\"k\",\"w\",\"r\",\"y\"]"
   ]
  },
  {
   "cell_type": "code",
   "execution_count": 208,
   "metadata": {},
   "outputs": [],
   "source": [
    "def p41(w,k,α):\n",
    "    return(\n",
    "    \n",
    "    np.log(w/((1-α)*k**α))\n",
    "        \n",
    "    )"
   ]
  },
  {
   "cell_type": "code",
   "execution_count": 209,
   "metadata": {},
   "outputs": [],
   "source": [
    "def p42(z_p1,z,ρ,μ):\n",
    "    return(\n",
    "    \n",
    "    z_p1 - ρ * z - (1-ρ) * μ\n",
    "    \n",
    "    )"
   ]
  },
  {
   "cell_type": "code",
   "execution_count": 210,
   "metadata": {},
   "outputs": [],
   "source": [
    "def p43(z_p1,z,ρ,μ):\n",
    "    return(\n",
    "    \n",
    "    (z_p1 - ρ * z - (1-ρ) * μ ) * z\n",
    "        \n",
    "    )"
   ]
  },
  {
   "cell_type": "code",
   "execution_count": 227,
   "metadata": {},
   "outputs": [],
   "source": [
    "def p44(z_p1,β,α,k_p1,c,c_p1):\n",
    "    return(\n",
    "    \n",
    "    β*α*np.exp(z_p1) * k_p1 ** (α-1) * (c/c_p1) - 1\n",
    "    \n",
    "    )"
   ]
  },
  {
   "cell_type": "code",
   "execution_count": 228,
   "metadata": {},
   "outputs": [],
   "source": [
    "def p45(z_p1,β,α,k_p1,c,c_p1,w):\n",
    "    return(\n",
    "    \n",
    "    (β*α*np.exp(z_p1)*k_p1**(α-1)*(c/c_p1)-1)*w\n",
    "        \n",
    "    )"
   ]
  },
  {
   "cell_type": "code",
   "execution_count": 229,
   "metadata": {},
   "outputs": [],
   "source": [
    "def p46(params, dat):\n",
    "\n",
    "    α,β,ρ,μ = params\n",
    "    z =       p41(dat.w,dat.k,α)[1:]\n",
    "    z_p1 =    p41(dat.w,dat.k,α)[:-1]\n",
    "    k =       dat.k[1:]\n",
    "    k_p1 =    dat.k[:-1]\n",
    "    w =       dat.w[1:]\n",
    "    c =       dat.c[1:]\n",
    "    c_p1 =    dat.c[:-1]\n",
    "        \n",
    "    return (np.array([np.mean(p42(z_p1,z,ρ,μ)), \n",
    "                      np.mean(p43(z_p1,z,ρ,μ)), \n",
    "                      np.mean(p44(z_p1,β,α,k_p1,c,c_p1)), \n",
    "                      np.mean(p45(z_p1,β,α,k_p1,c,c_p1,w))\n",
    "                     ]))"
   ]
  },
  {
   "cell_type": "code",
   "execution_count": 230,
   "metadata": {},
   "outputs": [],
   "source": [
    "def p47(params,dat,mode=True):\n",
    "    \n",
    "    model = np.zeros(4)\n",
    "    modat = p46(params,dat)    \n",
    "    \n",
    "    if mode: return model-modat\n",
    "    else: return (model-modat)/modat\n"
   ]
  },
  {
   "cell_type": "code",
   "execution_count": 231,
   "metadata": {},
   "outputs": [],
   "source": [
    "def p48(params, args):\n",
    "    \n",
    "    dat,W = args\n",
    "    \n",
    "    e = p47(params,dat)\n",
    "    \n",
    "    return e.T@W@e\n"
   ]
  },
  {
   "cell_type": "code",
   "execution_count": 234,
   "metadata": {},
   "outputs": [],
   "source": [
    "def p49():\n",
    "\n",
    "    α,β,μ,ρ  = .4,.9,15,.9 # guesses\n",
    "    params_0 = (α,β,μ,ρ)\n",
    "    \n",
    "    W=np.eye(4)\n",
    "    \n",
    "    args=[SERIES,W]\n",
    "\n",
    "    optimized=opt.minimize(p48,params_0,args=args,method=\"L-BFGS-B\",\n",
    "                   bounds=((1e-10,1),(1e-10,1),(1e-10,None),(-1,1)))\n",
    "\n",
    "    print(p46(optimized.x,SERIES),\"\\n\")\n",
    "    \n",
    "    α_1,β_1,ρ_1,μ_1=optimized.x\n",
    "    e=optimized.fun\n",
    "    \n",
    "    print(\n",
    "        \" •  α:\",α_1,\"\\n\",\n",
    "         \"•  β:\",β_1,\"\\n\",\n",
    "         \"•  ρ:\",ρ_1,\"\\n\",\n",
    "         \"•  μ:\",μ_1,\"\\n\",\n",
    "         \"•  e:\",e\n",
    "    )"
   ]
  },
  {
   "cell_type": "code",
   "execution_count": 235,
   "metadata": {},
   "outputs": [
    {
     "name": "stdout",
     "output_type": "stream",
     "text": [
      "[ 0.35975077  3.52260775 -0.00609967  1.94523833] \n",
      "\n",
      " •  α: 0.4320475665588142 \n",
      " •  β: 0.9357322335853419 \n",
      " •  ρ: 0.9590620852936956 \n",
      " •  μ: 1.0 \n",
      " •  e: 16.32217535688303\n"
     ]
    }
   ],
   "source": [
    "p49()"
   ]
  }
 ],
 "metadata": {
  "kernelspec": {
   "display_name": "Python 3",
   "language": "python",
   "name": "python3"
  },
  "language_info": {
   "codemirror_mode": {
    "name": "ipython",
    "version": 3
   },
   "file_extension": ".py",
   "mimetype": "text/x-python",
   "name": "python",
   "nbconvert_exporter": "python",
   "pygments_lexer": "ipython3",
   "version": "3.6.5"
  }
 },
 "nbformat": 4,
 "nbformat_minor": 2
}
