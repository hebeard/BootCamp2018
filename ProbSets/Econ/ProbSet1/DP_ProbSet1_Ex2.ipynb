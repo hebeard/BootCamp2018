{
 "cells": [
  {
   "cell_type": "markdown",
   "metadata": {},
   "source": [
    "# Code for Exercise 2. {-}"
   ]
  },
  {
   "cell_type": "markdown",
   "metadata": {},
   "source": [
    "For this problem, I am using the dynamic programming template created by Jason DeBacker."
   ]
  },
  {
   "cell_type": "markdown",
   "metadata": {},
   "source": [
    "First let's import the relevant modules:"
   ]
  },
  {
   "cell_type": "code",
   "execution_count": 1,
   "metadata": {},
   "outputs": [],
   "source": [
    "import numpy as np\n",
    "import matplotlib.pyplot as plt\n",
    "%matplotlib inline"
   ]
  },
  {
   "cell_type": "markdown",
   "metadata": {},
   "source": [
    "Here, we set our parameters equal to those specified in the problem:"
   ]
  },
  {
   "cell_type": "code",
   "execution_count": 2,
   "metadata": {},
   "outputs": [],
   "source": [
    "gamma = 0.5 # CRRA coefficient\n",
    "beta = 0.96 # discount factor\n",
    "delta = 0.05 # depreciation rate\n",
    "alpha = 0.4 # curvature of production function\n",
    "sigma_z = 0.2 # SD of productivity shocks"
   ]
  },
  {
   "cell_type": "markdown",
   "metadata": {},
   "source": [
    "We now set up our state space grid:"
   ]
  },
  {
   "cell_type": "code",
   "execution_count": 3,
   "metadata": {},
   "outputs": [],
   "source": [
    "'''\n",
    "------------------------------------------------------------------------\n",
    "Create Grid for State Space    \n",
    "------------------------------------------------------------------------\n",
    "lb_k      = scalar, lower bound of capital grid\n",
    "ub_k      = scalar, upper bound of capital grid \n",
    "size_k    = integer, number of grid points in capital state space\n",
    "k_grid    = vector, size_k x 1 vector of capital grid points \n",
    "------------------------------------------------------------------------\n",
    "'''\n",
    "lb_k = .5\n",
    "ub_k = 10\n",
    "size_k = 200  # Number of grid points\n",
    "k_grid = np.linspace(lb_k, ub_k, size_k)"
   ]
  },
  {
   "cell_type": "markdown",
   "metadata": {},
   "source": [
    "Next, we run a Monte Carlo simulation with $\\mathtt{numtrials=500}$ trials, each time setting matrices $C, Y, $ and $I$ to zeroes, and $Z$ to an empty list. Each iteration, we re-populate $Z$ with $\\mathcal{N}\\left(0,\\sigma_z ^2 \\right)$-distributed random variables, and then populate the $C, Y, I$ matrices with their relevant calculations, based off the $\\mathtt{k}\\_\\mathtt{grid}$ values. Next, we take the sample average over all the Monte Carlo simulations, define some regularity conditions, and set the CRRA utility function based off the consumption we found."
   ]
  },
  {
   "cell_type": "code",
   "execution_count": 4,
   "metadata": {
    "scrolled": true
   },
   "outputs": [],
   "source": [
    "'''\n",
    "------------------------------------------------------------------------\n",
    "Create grid of current utility values    \n",
    "------------------------------------------------------------------------\n",
    "C        = matrix, current consumption\n",
    "I        = matrix, current investment\n",
    "Z        = matrix, productivity shocks\n",
    "U        = matrix, current period utility value for all possible\n",
    "           choices of k and k' (rows are k, columns k')\n",
    "numtrials= number of trials in Monte Carlo sim\n",
    "allCs    = list of all the C's for numtrials different trials with different shocks\n",
    "allIs    = analogous to allCs but for the I's\n",
    "------------------------------------------------------------------------\n",
    "'''\n",
    "allCs = []\n",
    "allIs = []\n",
    "numtrials = 500\n",
    "for n in range(numtrials):\n",
    "    C = np.zeros((size_k, size_k)) \n",
    "    Y = np.zeros((size_k, size_k))\n",
    "    I = np.zeros((size_k, size_k))\n",
    "    Z = []\n",
    "    for i in range(size_k):\n",
    "        Z.append(np.exp(np.random.normal(0,sigma_z))) # productivity shocks, iid normal with sigma_z SD\n",
    "    Z=np.array(Z)\n",
    "    for i in range(size_k): # loop over k\n",
    "        for j in range(size_k): # loop over k'\n",
    "            Y[i,j] = Z[i] * k_grid[i] ** alpha # production function = stoch shock * capital ^ alpha\n",
    "            I[i,j] = k_grid[j] - (1-delta) * k_grid[i] # investment, determined by the k'=(1-delta)k+i law of motion\n",
    "            C[i, j] = Y[i,j] - I[i,j] # resource constraint\n",
    "    allCs.append(C)\n",
    "    allIs.append(I)\n",
    "\n",
    "C = np.zeros((size_k,size_k))\n",
    "I = np.zeros((size_k,size_k))\n",
    "for i in range(size_k):\n",
    "        for j in range(size_k):\n",
    "            avgCs = 0\n",
    "            avgIs = 0\n",
    "            for n in range(numtrials):\n",
    "                avgCs += allCs[n][i,j]\n",
    "                avgIs += allIs[n][i,j]\n",
    "            avgCs /= numtrials\n",
    "            avgIs /= numtrials\n",
    "            C[i,j] = avgCs\n",
    "            I[i,j] = avgIs\n",
    "\n",
    "# replace 0 and negative consumption with a tiny value \n",
    "# This is a way to impose non-negativity on cons\n",
    "C[C<=0] = 1e-15\n",
    "I[I<=0] = 1e-15\n",
    "if gamma == 1:\n",
    "    U = np.log(C)\n",
    "else:\n",
    "    U = (C ** (1-gamma)) / (1-gamma)\n",
    "U[C<0] = -1e10"
   ]
  },
  {
   "cell_type": "markdown",
   "metadata": {},
   "source": [
    "Now, this next step is virtually the same as we covered in class, where I apply a Bellman equation $V_{T+1} = u(c) + \\beta \\cdot V_{T}$ looped over multiple iterations, recalculation the value function many times and corresponding policy functions."
   ]
  },
  {
   "cell_type": "code",
   "execution_count": 5,
   "metadata": {},
   "outputs": [
    {
     "name": "stdout",
     "output_type": "stream",
     "text": [
      "Value function converged after this many iterations: 484\n"
     ]
    }
   ],
   "source": [
    "'''\n",
    "------------------------------------------------------------------------\n",
    "Value Function Iteration    \n",
    "------------------------------------------------------------------------\n",
    "VFtol     = scalar, tolerance required for value function to converge\n",
    "VFdist    = scalar, distance between last two value functions\n",
    "VFmaxiter = integer, maximum number of iterations for value function\n",
    "V         = vector, the value functions at each iteration\n",
    "Vmat      = matrix, the value for each possible combination of k and k'\n",
    "Vstore    = matrix, stores V at each iteration \n",
    "VFiter    = integer, current iteration number\n",
    "TV        = vector, the value function after applying the Bellman operator\n",
    "PF        = vector, indicies of choices of k' for all k \n",
    "VF        = vector, the \"true\" value function\n",
    "------------------------------------------------------------------------\n",
    "'''\n",
    "VFtol = 1e-8 \n",
    "VFdist = 5.0 \n",
    "VFmaxiter = 3000 \n",
    "V = np.zeros(size_k) # initial guess at value function\n",
    "Vmat = np.zeros((size_k, size_k)) # initialize Vmat matrix\n",
    "Vstore = np.zeros((size_k, VFmaxiter)) #initialize Vstore array\n",
    "VFiter = 1 \n",
    "while VFdist > VFtol and VFiter < VFmaxiter:  \n",
    "    for i in range(size_k): # loop over k\n",
    "        for j in range(size_k): # loop over k'\n",
    "            Vmat[i, j] = U[i, j] + beta * V[j] \n",
    "      \n",
    "    Vstore[:, VFiter] = V.reshape(size_k,) # store value function at each iteration for graphing later\n",
    "    TV = Vmat.max(1) # apply max operator to Vmat (to get V(k))\n",
    "    PF = np.argmax(Vmat, axis=1)\n",
    "    VFdist = (np.absolute(V - TV)).max()  # check distance\n",
    "    V = TV\n",
    "    VFiter += 1 \n",
    "    \n",
    "\n",
    "\n",
    "if VFiter < VFmaxiter:\n",
    "    print('Value function converged after this many iterations:', VFiter)\n",
    "else:\n",
    "    print('Value function did not converge')            \n",
    "\n",
    "\n",
    "VF = V # solution to the functional equation"
   ]
  },
  {
   "cell_type": "markdown",
   "metadata": {},
   "source": [
    "There were $\\mathtt{484}$ iterations."
   ]
  },
  {
   "cell_type": "markdown",
   "metadata": {},
   "source": [
    "This next part involves using the formula for the choice of consumption based off capital, organized in the order of the $\\mathtt{PF}$-selected values. I used the formula\n",
    "$$\n",
    "\\mathtt{optC} = \\mathtt{Z}_{\\mathtt{PF}} \\cdot \\mathtt{k}\\_\\mathtt{grid} ^ \\mathtt{alpha} - \\left( \\mathtt{optK} - (1-\\mathtt{delta}) \\cdot \\mathtt{k}\\_\\mathtt{grid} \\right),\n",
    "$$\n",
    "i.e.,\n",
    "$$\n",
    "c=z\\cdot k^\\alpha - (k^{\\prime} - (1-\\delta)\\cdot k).\n",
    "$$"
   ]
  },
  {
   "cell_type": "code",
   "execution_count": 6,
   "metadata": {},
   "outputs": [],
   "source": [
    "'''\n",
    "------------------------------------------------------------------------\n",
    "Find consumption and savings policy functions   \n",
    "------------------------------------------------------------------------\n",
    "optK  = vector, the optimal choice of k' for each k\n",
    "optC  = vector, the optimal choice of c' for each c\n",
    "------------------------------------------------------------------------\n",
    "'''\n",
    "optK = k_grid[PF] # tomorrow's optimal capital size (savings function)\n",
    "optC = Z[PF] * k_grid ** alpha - (optK - (1-delta) * k_grid) # optimal consumption, get consumption through the transition eqn"
   ]
  },
  {
   "cell_type": "markdown",
   "metadata": {},
   "source": [
    "Plotting the $\\bf{value}$ $\\bf{function}$, we have:"
   ]
  },
  {
   "cell_type": "code",
   "execution_count": 7,
   "metadata": {
    "scrolled": true
   },
   "outputs": [
    {
     "data": {
      "image/png": "[encoded data removed]",
      "text/plain": [
       "<Figure size 432x288 with 1 Axes>"
      ]
     },
     "metadata": {},
     "output_type": "display_data"
    }
   ],
   "source": [
    "# Plot value function \n",
    "plt.figure()\n",
    "# plt.plot(wvec, VF)\n",
    "plt.scatter(k_grid[1:], VF[1:])\n",
    "plt.xlabel('Capital')\n",
    "plt.ylabel('Value Function')\n",
    "plt.title('Value Function - consumption')\n",
    "plt.show()"
   ]
  },
  {
   "cell_type": "markdown",
   "metadata": {},
   "source": [
    "Now we plot the $\\bf{policy}$ $\\bf{function}$ for the choice of consumption:"
   ]
  },
  {
   "cell_type": "code",
   "execution_count": 8,
   "metadata": {
    "scrolled": false
   },
   "outputs": [
    {
     "data": {
      "text/plain": [
       "<Figure size 432x288 with 0 Axes>"
      ]
     },
     "metadata": {},
     "output_type": "display_data"
    },
    {
     "data": {
      "image/png": "[encoded data removed]",
      "text/plain": [
       "<Figure size 432x288 with 1 Axes>"
      ]
     },
     "metadata": {},
     "output_type": "display_data"
    }
   ],
   "source": [
    "#Plot optimal consumption rule as a function of capital size\n",
    "plt.figure()\n",
    "fig, ax = plt.subplots()\n",
    "ax.plot(k_grid[1:], optC[1:], label='Consumption')\n",
    "# Now add the legend with some customizations.\n",
    "legend = ax.legend(loc='upper left', shadow=False)\n",
    "# Set the fontsize\n",
    "for label in legend.get_texts():\n",
    "    label.set_fontsize('large')\n",
    "for label in legend.get_lines():\n",
    "    label.set_linewidth(1.5)  # the legend line width\n",
    "plt.xlabel('Size of Capital')\n",
    "plt.ylabel('Optimal Consumption')\n",
    "plt.title('Policy Function, consumption')\n",
    "plt.show()"
   ]
  },
  {
   "cell_type": "markdown",
   "metadata": {},
   "source": [
    "Finally, we plot the $\\bf{policy}$ $\\bf{function}$ for the choice of capital next period:"
   ]
  },
  {
   "cell_type": "code",
   "execution_count": 9,
   "metadata": {
    "scrolled": false
   },
   "outputs": [
    {
     "data": {
      "text/plain": [
       "<Figure size 432x288 with 0 Axes>"
      ]
     },
     "metadata": {},
     "output_type": "display_data"
    },
    {
     "data": {
      "image/png": "[encoded data removed]",
      "text/plain": [
       "<Figure size 432x288 with 1 Axes>"
      ]
     },
     "metadata": {},
     "output_type": "display_data"
    }
   ],
   "source": [
    "#Plot optimal consumption rule as a function of capital size\n",
    "plt.figure()\n",
    "fig, ax = plt.subplots()\n",
    "ax.plot(k_grid[1:], optK[1:], label='Capital Next Period')\n",
    "# Now add the legend with some customizations.\n",
    "legend = ax.legend(loc='upper left', shadow=False)\n",
    "# Set the fontsize\n",
    "for label in legend.get_texts():\n",
    "    label.set_fontsize('large')\n",
    "for label in legend.get_lines():\n",
    "    label.set_linewidth(1.5)  # the legend line width\n",
    "plt.xlabel('Size of Capital')\n",
    "plt.ylabel('Capital Next Period')\n",
    "plt.title('Policy Function, capital next period')\n",
    "plt.show()"
   ]
  }
 ],
 "metadata": {
  "kernelspec": {
   "display_name": "Python 3",
   "language": "python",
   "name": "python3"
  },
  "language_info": {
   "codemirror_mode": {
    "name": "ipython",
    "version": 3
   },
   "file_extension": ".py",
   "mimetype": "text/x-python",
   "name": "python",
   "nbconvert_exporter": "python",
   "pygments_lexer": "ipython3",
   "version": "3.6.5"
  }
 },
 "nbformat": 4,
 "nbformat_minor": 2
}
