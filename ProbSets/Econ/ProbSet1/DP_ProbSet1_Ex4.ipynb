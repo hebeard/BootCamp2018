{
 "cells": [
  {
   "cell_type": "markdown",
   "metadata": {},
   "source": [
    "# Code for Exercise 4. {-}"
   ]
  },
  {
   "cell_type": "markdown",
   "metadata": {},
   "source": [
    "For this problem, I am using the dynamic programming template created by Jason DeBacker."
   ]
  },
  {
   "cell_type": "markdown",
   "metadata": {},
   "source": [
    "* Let our control be\n",
    "$$\n",
    "\\mathrm{\\{work, don't\\;work\\}} \\to \\mathrm{binary} (0,1\\;\\mathrm{choice}).\n",
    "$$\n",
    "Call this control $z$.\n",
    "* The state is $w_t$ and $b$, since we know both at the time of the decision.\n",
    "* The transition equation is $w' = \\mathrm{E}_{0}\\left[\\sum_{t=0}^{\\infty}\\beta^{t}\\mathrm{e}^{\\mathcal{N}(\\mu,\\sigma)}\\right]$ if $z=0$; otherwise, $w'=\\mathrm{E}_{0}\\left[\\sum_{t=0}^{\\infty}\\beta^{t}b\\right]$ if $z=1$."
   ]
  },
  {
   "cell_type": "markdown",
   "metadata": {},
   "source": [
    "First let's import the relevant modules:"
   ]
  },
  {
   "cell_type": "code",
   "execution_count": 11,
   "metadata": {},
   "outputs": [],
   "source": [
    "import numpy as np\n",
    "import matplotlib.pyplot as plt\n",
    "%matplotlib inline"
   ]
  },
  {
   "cell_type": "markdown",
   "metadata": {},
   "source": [
    "Here, we set our parameters equal to those specified in the problem:"
   ]
  },
  {
   "cell_type": "code",
   "execution_count": 12,
   "metadata": {},
   "outputs": [],
   "source": [
    "β = 0.96 # rate of time preference\n",
    "b = 0.05 # unemployment benefits\n",
    "μ = 0.0 # mean of log wages\n",
    "σ = 0.15 # SD of wage draws"
   ]
  },
  {
   "cell_type": "markdown",
   "metadata": {},
   "source": [
    "We now set up our state space grid:"
   ]
  },
  {
   "cell_type": "code",
   "execution_count": 13,
   "metadata": {},
   "outputs": [],
   "source": [
    "'''\n",
    "------------------------------------------------------------------------\n",
    "Create Grid for State Space    \n",
    "------------------------------------------------------------------------\n",
    "lb_w      = scalar, lower bound of grid\n",
    "ub_w      = scalar, upper bound of grid \n",
    "size_w    = integer, number of grid points in state space\n",
    "w_grid    = vector, size_w x 1 vector of grid points \n",
    "------------------------------------------------------------------------\n",
    "'''\n",
    "lb_w = .5\n",
    "ub_w = 10\n",
    "size_w = 200  # Number of grid points\n",
    "w_grid = np.linspace(lb_w, ub_w, size_w)"
   ]
  },
  {
   "cell_type": "code",
   "execution_count": 14,
   "metadata": {
    "scrolled": true
   },
   "outputs": [],
   "source": [
    "'''\n",
    "------------------------------------------------------------------------\n",
    "Create grid of current utility values    \n",
    "------------------------------------------------------------------------\n",
    "Y        = matrix, current income\n",
    "W        = wage, stochastically determined\n",
    "------------------------------------------------------------------------\n",
    "'''\n",
    "Y = np.zeros((size_w, size_w))\n",
    "W = []\n",
    "for i in range(size_w):\n",
    "    W.append(np.exp(np.random.normal(μ,σ)))\n",
    "W=np.array(W)\n",
    "for i in range(size_w): # loop over w\n",
    "    for j in range(size_w): # loop over w'\n",
    "        Y[i,j] = np.max((W[i]/(1-β), b + β*w_grid[j]))\n",
    "\n",
    "# replace 0 and negative consumption with a tiny value \n",
    "# This is a way to impose non-negativity on cons\n",
    "Y[Y<=0] = 1e-15"
   ]
  },
  {
   "cell_type": "code",
   "execution_count": 15,
   "metadata": {
    "scrolled": true
   },
   "outputs": [
    {
     "name": "stdout",
     "output_type": "stream",
     "text": [
      "Value function converged after this many iterations: 541\n"
     ]
    }
   ],
   "source": [
    "'''\n",
    "------------------------------------------------------------------------\n",
    "Value Function Iteration    \n",
    "------------------------------------------------------------------------\n",
    "VFtol     = scalar, tolerance required for value function to converge\n",
    "VFdist    = scalar, distance between last two value functions\n",
    "VFmaxiter = integer, maximum number of iterations for value function\n",
    "V         = vector, the value functions at each iteration\n",
    "Vmat      = matrix, the value for each possible combination of k and k'\n",
    "Vstore    = matrix, stores V at each iteration \n",
    "VFiter    = integer, current iteration number\n",
    "TV        = vector, the value function after applying the Bellman operator\n",
    "PF        = vector, indicies of choices of k' for all k \n",
    "VF        = vector, the \"true\" value function\n",
    "------------------------------------------------------------------------\n",
    "'''\n",
    "VFtol = 1e-8 \n",
    "VFdist = 5.0 \n",
    "VFmaxiter = 3000 \n",
    "V = np.zeros(size_w) \n",
    "Vmat = np.zeros((size_w, size_w)) \n",
    "Vstore = np.zeros((size_w, VFmaxiter))\n",
    "VFiter = 1 \n",
    "while VFdist > VFtol and VFiter < VFmaxiter:  \n",
    "    for i in range(size_w): # loop over w\n",
    "        for j in range(size_w): # loop over w'\n",
    "            Vmat[i, j] = Y[i, j] + β * V[j] \n",
    "      \n",
    "    Vstore[:, VFiter] = V.reshape(size_w,) # store value function at each iteration for graphing later\n",
    "    TV = Vmat.max(1) # apply max operator to Vmat (to get V(w))\n",
    "    PF = np.argmax(Vmat, axis=1)\n",
    "    VFdist = (np.absolute(V - TV)).max()  # check distance\n",
    "    V = TV\n",
    "    VFiter += 1 \n",
    "    \n",
    "\n",
    "\n",
    "if VFiter < VFmaxiter:\n",
    "    print('Value function converged after this many iterations:', VFiter)\n",
    "else:\n",
    "    print('Value function did not converge')            \n",
    "\n",
    "\n",
    "VF = V # solution to the functional equation"
   ]
  },
  {
   "cell_type": "code",
   "execution_count": 16,
   "metadata": {},
   "outputs": [],
   "source": [
    "'''\n",
    "------------------------------------------------------------------------\n",
    "Find consumption and savings policy functions   \n",
    "------------------------------------------------------------------------\n",
    "optW  = vector, the optimal choice of w' for each w\n",
    "optC  = vector, the optimal choice of y' for each y\n",
    "------------------------------------------------------------------------\n",
    "'''\n",
    "optW = w_grid[PF]\n",
    "optY = optW"
   ]
  },
  {
   "cell_type": "markdown",
   "metadata": {},
   "source": [
    "Plotting the $\\bf{value}$ $\\bf{function}$, we have:"
   ]
  },
  {
   "cell_type": "code",
   "execution_count": 17,
   "metadata": {
    "scrolled": true
   },
   "outputs": [
    {
     "data": {
      "image/png": "[encoded data removed]",
      "text/plain": [
       "<Figure size 432x288 with 1 Axes>"
      ]
     },
     "metadata": {},
     "output_type": "display_data"
    }
   ],
   "source": [
    "# Plot value function \n",
    "plt.figure()\n",
    "# plt.plot(wvec, VF)\n",
    "plt.scatter(w_grid[1:], VF[1:])\n",
    "plt.xlabel('Income')\n",
    "plt.ylabel('Value Function')\n",
    "plt.title('Value Function - income')\n",
    "plt.show()"
   ]
  },
  {
   "cell_type": "code",
   "execution_count": 18,
   "metadata": {
    "scrolled": false
   },
   "outputs": [
    {
     "data": {
      "text/plain": [
       "<Figure size 432x288 with 0 Axes>"
      ]
     },
     "metadata": {},
     "output_type": "display_data"
    },
    {
     "data": {
      "image/png": "[encoded data removed]",
      "text/plain": [
       "<Figure size 432x288 with 1 Axes>"
      ]
     },
     "metadata": {},
     "output_type": "display_data"
    }
   ],
   "source": [
    "#Plot optimal consumption rule as a function of capital size\n",
    "plt.figure()\n",
    "fig, ax = plt.subplots()\n",
    "ax.plot(w_grid[1:], optY[1:], label='Income')\n",
    "# Now add the legend with some customizations.\n",
    "legend = ax.legend(loc='upper left', shadow=False)\n",
    "# Set the fontsize\n",
    "for label in legend.get_texts():\n",
    "    label.set_fontsize('large')\n",
    "for label in legend.get_lines():\n",
    "    label.set_linewidth(1.5)  # the legend line width\n",
    "plt.xlabel('Size of Income')\n",
    "plt.ylabel('Optimal Income')\n",
    "plt.title('Policy Function, income')\n",
    "plt.show()"
   ]
  },
  {
   "cell_type": "code",
   "execution_count": 19,
   "metadata": {
    "scrolled": true
   },
   "outputs": [
    {
     "data": {
      "text/plain": [
       "<Figure size 432x288 with 0 Axes>"
      ]
     },
     "metadata": {},
     "output_type": "display_data"
    },
    {
     "data": {
      "image/png": "[encoded data removed]",
      "text/plain": [
       "<Figure size 432x288 with 1 Axes>"
      ]
     },
     "metadata": {},
     "output_type": "display_data"
    }
   ],
   "source": [
    "#Plot optimal consumption rule as a function of capital size\n",
    "plt.figure()\n",
    "fig, ax = plt.subplots()\n",
    "ax.plot(w_grid[1:], optW[1:], label='Income Next Period')\n",
    "# Now add the legend with some customizations.\n",
    "legend = ax.legend(loc='upper left', shadow=False)\n",
    "# Set the fontsize\n",
    "for label in legend.get_texts():\n",
    "    label.set_fontsize('large')\n",
    "for label in legend.get_lines():\n",
    "    label.set_linewidth(1.5)  # the legend line width\n",
    "plt.xlabel('Size of Income')\n",
    "plt.ylabel('Income Next Period')\n",
    "plt.title('Policy Function, income next period')\n",
    "plt.show()"
   ]
  },
  {
   "cell_type": "code",
   "execution_count": null,
   "metadata": {},
   "outputs": [],
   "source": []
  }
 ],
 "metadata": {
  "kernelspec": {
   "display_name": "Python 3",
   "language": "python",
   "name": "python3"
  },
  "language_info": {
   "codemirror_mode": {
    "name": "ipython",
    "version": 3
   },
   "file_extension": ".py",
   "mimetype": "text/x-python",
   "name": "python",
   "nbconvert_exporter": "python",
   "pygments_lexer": "ipython3",
   "version": "3.6.5"
  }
 },
 "nbformat": 4,
 "nbformat_minor": 2
}
