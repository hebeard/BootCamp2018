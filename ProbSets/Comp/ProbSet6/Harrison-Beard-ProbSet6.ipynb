{
 "cells": [
  {
   "cell_type": "code",
   "execution_count": 118,
   "metadata": {},
   "outputs": [
    {
     "name": "stdout",
     "output_type": "stream",
     "text": [
      "Collecting pip\n",
      "\u001b[?25l  Downloading https://files.pythonhosted.org/packages/5f/25/e52d3f31441505a5f3af41213346e5b6c221c9e086a166f3703d2ddaf940/pip-18.0-py2.py3-none-any.whl (1.3MB)\n",
      "\u001b[K    100% |████████████████████████████████| 1.3MB 4.1MB/s ta 0:00:01\n",
      "\u001b[?25hInstalling collected packages: pip\n",
      "  Found existing installation: pip 10.0.1\n",
      "    Uninstalling pip-10.0.1:\n",
      "      Successfully uninstalled pip-10.0.1\n",
      "Successfully installed pip-18.0\n"
     ]
    }
   ],
   "source": [
    "!pip install --upgrade pip"
   ]
  },
  {
   "cell_type": "code",
   "execution_count": 119,
   "metadata": {
    "scrolled": false
   },
   "outputs": [
    {
     "name": "stdout",
     "output_type": "stream",
     "text": [
      "Requirement already satisfied: autograd in /anaconda3/lib/python3.6/site-packages (1.2)\r\n",
      "Requirement already satisfied: future>=0.15.2 in /anaconda3/lib/python3.6/site-packages (from autograd) (0.16.0)\r\n",
      "Requirement already satisfied: numpy>=1.12 in /anaconda3/lib/python3.6/site-packages (from autograd) (1.14.3)\r\n"
     ]
    }
   ],
   "source": [
    "!pip install autograd"
   ]
  },
  {
   "cell_type": "code",
   "execution_count": 6,
   "metadata": {},
   "outputs": [],
   "source": [
    "import numpy as np\n",
    "from matplotlib import pyplot as plt\n",
    "import sympy as sy\n",
    "import autograd\n",
    "from autograd import numpy as anp\n",
    "import time\n",
    "from autograd import grad\n",
    "from scipy.stats import norm\n",
    "from scipy.optimize import root\n",
    "from scipy.integrate import quad\n",
    "from scipy import sparse"
   ]
  },
  {
   "cell_type": "markdown",
   "metadata": {},
   "source": [
    "# Numerical Differentiation"
   ]
  },
  {
   "cell_type": "markdown",
   "metadata": {},
   "source": [
    "## Problem 1. {-}"
   ]
  },
  {
   "cell_type": "code",
   "execution_count": 140,
   "metadata": {},
   "outputs": [],
   "source": [
    "def p1_1_1(X):\n",
    "    \"\"\"\n",
    "    f'(x)\n",
    "    \"\"\"\n",
    "    x = sy.symbols(\"x\")\n",
    "    f = (sy.sin(x)+1)**(sy.sin(sy.cos(x)))\n",
    "    f_pr = f.diff(x)\n",
    "    return sy.lambdify(x,f_pr,\"numpy\")(X)"
   ]
  },
  {
   "cell_type": "code",
   "execution_count": 25,
   "metadata": {},
   "outputs": [],
   "source": [
    "def p1_1_2(ret=False):\n",
    "    \"\"\"\n",
    "    plot f(x) and f'(x)\n",
    "    \"\"\"\n",
    "    X = np.linspace(-np.pi,np.pi)\n",
    "    f = lambda x: (np.sin(x)+1)**(np.sin(np.cos(x)))\n",
    "    \n",
    "    if ret: return X,f\n",
    "    \n",
    "    fig,ax = plt.subplots()\n",
    "    \n",
    "    ax.plot(X,f(X),label=\"$f(x)$\")\n",
    "    ax.plot(X,p1_1_1(X),label=\"$f^{\\prime}(x)$\")\n",
    "    \n",
    "    ax.legend()\n",
    "    ax.spines[\"bottom\"].set_position(\"zero\")\n",
    "    \n",
    "    plt.show()"
   ]
  },
  {
   "cell_type": "code",
   "execution_count": 26,
   "metadata": {},
   "outputs": [
    {
     "data": {
      "image/png": "[encoded data removed]",
      "text/plain": [
       "<Figure size 432x288 with 1 Axes>"
      ]
     },
     "metadata": {},
     "output_type": "display_data"
    }
   ],
   "source": [
    "p1_1_2()"
   ]
  },
  {
   "cell_type": "markdown",
   "metadata": {},
   "source": [
    "## Problem 2. {-}"
   ]
  },
  {
   "cell_type": "code",
   "execution_count": 36,
   "metadata": {},
   "outputs": [],
   "source": [
    "def p1_2_1(f,x,h):\n",
    "    return (f(x+h)-f(x))/h"
   ]
  },
  {
   "cell_type": "code",
   "execution_count": 37,
   "metadata": {},
   "outputs": [],
   "source": [
    "def p1_2_2(f,x,h):\n",
    "    return (-3*f(x)+4*f(x+h)-f(x+2*h))/(2*h)"
   ]
  },
  {
   "cell_type": "code",
   "execution_count": 52,
   "metadata": {},
   "outputs": [],
   "source": [
    "def p1_2_3(f,x,h):\n",
    "    return (f(x)-f(x-h))/h"
   ]
  },
  {
   "cell_type": "code",
   "execution_count": 39,
   "metadata": {},
   "outputs": [],
   "source": [
    "def p1_2_4(f,x,h):\n",
    "    return (3*f(x)-4*f(x-h)+f(x-2*h))/(2*h)"
   ]
  },
  {
   "cell_type": "code",
   "execution_count": 40,
   "metadata": {},
   "outputs": [],
   "source": [
    "def p1_2_5(f,x,h):\n",
    "    return (f(x+h)-f(x-h))/(2*h)"
   ]
  },
  {
   "cell_type": "code",
   "execution_count": 41,
   "metadata": {},
   "outputs": [],
   "source": [
    "def p1_2_6(f,x,h):\n",
    "    return (f(x-2*h)-8*f(x-h)+8*f(x+h)-f(x+2*h))/(12*h)"
   ]
  },
  {
   "cell_type": "code",
   "execution_count": 45,
   "metadata": {},
   "outputs": [],
   "source": [
    "def p1_2_7():\n",
    "    \n",
    "    X,f = p1_1_2(ret=True)\n",
    "    tol=1e-3\n",
    "    \n",
    "    fig,ax = plt.subplots()\n",
    "    \n",
    "    ax.plot(X,p1_2_1(f,X,tol),label=\"Fwd, 1\")\n",
    "    ax.plot(X,p1_2_2(f,X,tol),label=\"Fwd, 2\")\n",
    "    ax.plot(X,p1_2_3(f,X,tol),label=\"Bwd, 1\")\n",
    "    ax.plot(X,p1_2_4(f,X,tol),label=\"Bwd, 2\")\n",
    "    ax.plot(X,p1_2_5(f,X,tol),label=\"Ctd, 2\")\n",
    "    ax.plot(X,p1_2_6(f,X,tol),label=\"Ctd, 4\")\n",
    "    \n",
    "    ax.legend()\n",
    "    ax.spines[\"bottom\"].set_position(\"zero\")\n",
    "    \n",
    "    plt.show()"
   ]
  },
  {
   "cell_type": "code",
   "execution_count": 46,
   "metadata": {
    "scrolled": true
   },
   "outputs": [
    {
     "data": {
      "image/png": "[encoded data removed]",
      "text/plain": [
       "<Figure size 432x288 with 1 Axes>"
      ]
     },
     "metadata": {},
     "output_type": "display_data"
    }
   ],
   "source": [
    "p1_2_7()"
   ]
  },
  {
   "cell_type": "markdown",
   "metadata": {},
   "source": [
    "## Problem 3. {-}"
   ]
  },
  {
   "cell_type": "code",
   "execution_count": 47,
   "metadata": {},
   "outputs": [],
   "source": [
    "def p1_3_1(f,x_0,h,q):\n",
    "    return np.abs(p1_1_1(x_0)-q(f,x_0,h))"
   ]
  },
  {
   "cell_type": "code",
   "execution_count": 73,
   "metadata": {},
   "outputs": [],
   "source": [
    "def p1_3_3():\n",
    "    \n",
    "    X,f = p1_1_2(ret=True)\n",
    "    \n",
    "    n=8\n",
    "    h=np.logspace(-n,0,n+1)\n",
    "    \n",
    "    plt.figure()\n",
    "    \n",
    "    plt.plot(h,p1_3_1(f,1,h,p1_2_1),\"--o\",label=\"Fwd, 1\")\n",
    "    plt.plot(h,p1_3_1(f,1,h,p1_2_2),\"--o\",label=\"Fwd, 2\")\n",
    "    plt.plot(h,p1_3_1(f,1,h,p1_2_3),\"--o\",label=\"Bwd, 1\")\n",
    "    plt.plot(h,p1_3_1(f,1,h,p1_2_4),\"--o\",label=\"Bwd, 2\")\n",
    "    plt.plot(h,p1_3_1(f,1,h,p1_2_5),\"--o\",label=\"Ctd, 2\")\n",
    "    plt.plot(h,p1_3_1(f,1,h,p1_2_6),\"--o\",label=\"Ctd, 4\")\n",
    "    \n",
    "    plt.loglog()\n",
    "    \n",
    "    plt.legend()\n",
    "    plt.show()"
   ]
  },
  {
   "cell_type": "code",
   "execution_count": 74,
   "metadata": {},
   "outputs": [
    {
     "data": {
      "image/png": "[encoded data removed]",
      "text/plain": [
       "<Figure size 432x288 with 1 Axes>"
      ]
     },
     "metadata": {},
     "output_type": "display_data"
    }
   ],
   "source": [
    "p1_3_3()"
   ]
  },
  {
   "cell_type": "markdown",
   "metadata": {},
   "source": [
    "## Problem 4. {-}"
   ]
  },
  {
   "cell_type": "code",
   "execution_count": 85,
   "metadata": {},
   "outputs": [],
   "source": [
    "def p1_4_1():\n",
    "    \n",
    "    dat=np.load(\"plane.npy\")\n",
    "    t,α,β=dat[:,0],dat[:,1],dat[:,2]\n",
    "    α,β=np.deg2rad(α),np.deg2rad(β)\n",
    "    x=500*np.tan(β)/(np.tan(β)-np.tan(α))\n",
    "    y=500*(np.tan(β)*np.tan(α))/(np.tan(β)-np.tan(α))\n",
    "    x_pr,y_pr=np.zeros_like(t),np.zeros_like(t)\n",
    "    \n",
    "    x_pr[0],y_pr[0]=x[1]-x[0],y[1]-y[0]\n",
    "    x_pr[1:-1],y_pr[1:-1]=(x[2:]-x[:-2])/2,(y[2:]-y[:-2])/2\n",
    "    x_pr[-1],y_pr[-1]=x[-1]-x[-2],y[-1]-y[-2]\n",
    "    \n",
    "    print(\"SPEEDS:\\n---------------------\")\n",
    "    for i in list(zip(t,np.sqrt(x_pr**2+y_pr**2))):\n",
    "        print(\"•  time \"+str(i[0])+\":\\t\"+str(round(i[1],2)))"
   ]
  },
  {
   "cell_type": "code",
   "execution_count": 86,
   "metadata": {},
   "outputs": [
    {
     "name": "stdout",
     "output_type": "stream",
     "text": [
      "SPEEDS:\n",
      "---------------------\n",
      "•  time 7.0:\t46.42\n",
      "•  time 8.0:\t47.0\n",
      "•  time 9.0:\t49.0\n",
      "•  time 10.0:\t50.1\n",
      "•  time 11.0:\t48.29\n",
      "•  time 12.0:\t51.56\n",
      "•  time 13.0:\t53.92\n",
      "•  time 14.0:\t51.51\n"
     ]
    }
   ],
   "source": [
    "p1_4_1()"
   ]
  },
  {
   "cell_type": "markdown",
   "metadata": {},
   "source": [
    "## Problem 5. {-}"
   ]
  },
  {
   "cell_type": "code",
   "execution_count": 98,
   "metadata": {},
   "outputs": [],
   "source": [
    "def p1_5_1(f,x_0,h):\n",
    "    jacobian=np.empty((len(f(x_0)),len(x_0)))\n",
    "    for i in range(len(x_0)):\n",
    "        e_i = np.eye(len(x_0))[i]\n",
    "        jacobian[:,i] = (f(x_0+h*e_i)-f(x_0-h*e_i))/(2*h)\n",
    "    return jacobian"
   ]
  },
  {
   "cell_type": "code",
   "execution_count": 99,
   "metadata": {},
   "outputs": [],
   "source": [
    "def p1_5_2(x):\n",
    "    return np.array([x[0]**2,x[0]**3-x[1]])"
   ]
  },
  {
   "cell_type": "code",
   "execution_count": 112,
   "metadata": {},
   "outputs": [],
   "source": [
    "def p1_5_3():\n",
    "    \n",
    "    X,f=p1_1_2(ret=True)\n",
    "    print(\"•  Jacobian approx for x=(2,1):\\n\",p1_5_1(f,np.array([2,1]),1e-5))\n",
    "    \n",
    "    x_1,x_2=sy.symbols(\"x_1\"),sy.symbols(\"x_2\")\n",
    "    print(\"\\n•  sy's Jacobian:\\n\",sy.Matrix([x_1**2,x_1**3-x_2]).jacobian([x_1,x_2]))\n",
    "    "
   ]
  },
  {
   "cell_type": "code",
   "execution_count": 113,
   "metadata": {
    "scrolled": true
   },
   "outputs": [
    {
     "name": "stdout",
     "output_type": "stream",
     "text": [
      "•  Jacobian approx for x=(2,1):\n",
      " [[-0.34630398  0.        ]\n",
      " [ 0.         -0.39654039]]\n",
      "\n",
      "•  sy's Jacobian:\n",
      " Matrix([[2*x_1, 0], [3*x_1**2, -1]])\n"
     ]
    }
   ],
   "source": [
    "p1_5_3()"
   ]
  },
  {
   "cell_type": "markdown",
   "metadata": {},
   "source": [
    "## Problem 6. {-}"
   ]
  },
  {
   "cell_type": "code",
   "execution_count": 114,
   "metadata": {},
   "outputs": [],
   "source": [
    "def p1_6_1(x,n):\n",
    "    if n==0: return anp.ones_like(x)\n",
    "    elif n==1: return x\n",
    "    else: return 2*x*p1_6_1(x,n-1)-p1_6_1(x,n-2)"
   ]
  },
  {
   "cell_type": "code",
   "execution_count": 138,
   "metadata": {},
   "outputs": [],
   "source": [
    "def p1_6_2():\n",
    "    \n",
    "    ewg = autograd.elementwise_grad(p1_6_1)\n",
    "    X=anp.linspace(-1,1)\n",
    "    N=anp.arange(0,5,1)\n",
    "    \n",
    "    plt.figure()\n",
    "    for n in N:\n",
    "        plt.plot(X,ewg(X,n),label=\"$n=$\"+str(n))\n",
    "        \n",
    "    plt.legend()\n",
    "    plt.show()\n",
    "    "
   ]
  },
  {
   "cell_type": "code",
   "execution_count": 139,
   "metadata": {
    "scrolled": true
   },
   "outputs": [
    {
     "name": "stderr",
     "output_type": "stream",
     "text": [
      "/anaconda3/lib/python3.6/site-packages/autograd/tracer.py:14: UserWarning: Output seems independent of input.\n",
      "  warnings.warn(\"Output seems independent of input.\")\n"
     ]
    },
    {
     "data": {
      "image/png": "[encoded data removed]",
      "text/plain": [
       "<Figure size 432x288 with 1 Axes>"
      ]
     },
     "metadata": {},
     "output_type": "display_data"
    }
   ],
   "source": [
    "p1_6_2()"
   ]
  },
  {
   "cell_type": "markdown",
   "metadata": {},
   "source": [
    "## Problem 7. {-}"
   ]
  },
  {
   "cell_type": "code",
   "execution_count": 165,
   "metadata": {},
   "outputs": [],
   "source": [
    "def p1_7_1(N=200):\n",
    "    \n",
    "    tol=1e-3\n",
    "    \n",
    "    f = lambda x:(anp.sin(x)+1)**(anp.sin(anp.cos(x)))\n",
    "    \n",
    "    cent=np.zeros(N)\n",
    "    ag=np.zeros(N)\n",
    "    t=np.zeros(N)\n",
    "    t_ag=np.zeros(N)\n",
    "    t_cent=np.zeros(N)\n",
    "    \n",
    "    for i in range(N):\n",
    "        \n",
    "        x_0 = np.random.rand()\n",
    "        \n",
    "        t_0 = time.time()\n",
    "        exact_value = p1_1_1(x_0)\n",
    "        t[i] =  time.time()-t_0\n",
    "        \n",
    "        t_cent_0 = time.time()\n",
    "        cent[i] = np.abs(p1_2_6(f,x_0,tol)-exact_value)\n",
    "        t_cent[i] = time.time()-t_cent_0\n",
    "        \n",
    "        \n",
    "        t_ag_0 = time.time()\n",
    "        ag[i] = np.abs(grad(f)(x_0)-exact_value)\n",
    "        t_ag[i] = time.time()-t_ag_0\n",
    "            \n",
    "    plt.figure()\n",
    "    \n",
    "    plt.scatter(t,1e-18*np.ones(N),alpha=.3,label=\"SymPy\",s=35)\n",
    "    plt.scatter(t_cent,cent,alpha=.3,label=\"Difference Quotients\",s=35)\n",
    "    plt.scatter(t_ag,ag,alpha=.3,label=\"Autograd\",s=35)\n",
    "    \n",
    "    plt.xlim(3e-5, 1e-1)\n",
    "    plt.ylim(1e-19, 1e-11)\n",
    "    plt.loglog()\n",
    "    \n",
    "    plt.xlabel(\"Computation Time (seconds)\")\n",
    "    plt.ylabel(\"Absolute Error\")\n",
    "    \n",
    "    plt.legend()\n",
    "    plt.show()\n",
    "    \n",
    "    "
   ]
  },
  {
   "cell_type": "code",
   "execution_count": 166,
   "metadata": {},
   "outputs": [
    {
     "data": {
      "image/png": "[encoded data removed]",
      "text/plain": [
       "<Figure size 432x288 with 1 Axes>"
      ]
     },
     "metadata": {},
     "output_type": "display_data"
    }
   ],
   "source": [
    "p1_7_1()"
   ]
  },
  {
   "cell_type": "markdown",
   "metadata": {},
   "source": [
    "# Numerical Integration"
   ]
  },
  {
   "cell_type": "markdown",
   "metadata": {},
   "source": [
    "## Exercise 1. {-}"
   ]
  },
  {
   "cell_type": "code",
   "execution_count": 176,
   "metadata": {},
   "outputs": [],
   "source": [
    "def p2_1_1(fun, a, b, N, meth):\n",
    "\n",
    "    i=np.arange(0,N,1)\n",
    "    \n",
    "    x = a+((2*i+1)*(b-a))/(2*N)\n",
    "\n",
    "    if meth==\"midpoint\":\n",
    "        return ((b-a)/N)*np.sum(fun(x))\n",
    "\n",
    "    elif meth==\"trapezoid\":\n",
    "        return (b-a)/(2*N)*(fun(x[0])+2*np.sum(fun(x[1:-1]))+fun(x[-1]))\n",
    "\n",
    "    elif meth==\"simpson\":\n",
    "        i=np.arange(0,2*N,1)\n",
    "        x=a+(i*(b-a))/(2*N)\n",
    "        \n",
    "        return (((b-a)/(6*(N+1)))*(fun(x[0])+4*np.sum(fun(x[1:(2*N-1):2]))+\n",
    "                                   2*np.sum(fun(x[2:(2*N-2):2]))+fun(x[-1])))\n",
    "    \n",
    "    else:\n",
    "        print(\"Please specify the method.\")\n",
    "        return None\n"
   ]
  },
  {
   "cell_type": "code",
   "execution_count": 183,
   "metadata": {},
   "outputs": [],
   "source": [
    "def p2_1_2():\n",
    "    \n",
    "    fun_1 = lambda x: 0.1*x**4-1.5*x**3+0.53*x**2+2*x+1\n",
    "    \n",
    "    print(\"Midpoint:\\t\",round(p2_1_1(fun_1,-10,10,500,\"midpoint\"),3))\n",
    "    print(\"trapezoid:\\t\",round(p2_1_1(fun_1,-10,10,1000,\"trapezoid\"),3))\n",
    "    print(\"Simpson:\\t\",round(p2_1_1(fun_1,-10,10,500,\"simpson\"),3))"
   ]
  },
  {
   "cell_type": "code",
   "execution_count": 184,
   "metadata": {},
   "outputs": [
    {
     "name": "stdout",
     "output_type": "stream",
     "text": [
      "Midpoint:\t 4373.279\n",
      "trapezoid:\t 4352.322\n",
      "Simpson:\t 4381.575\n"
     ]
    }
   ],
   "source": [
    "p2_1_2()"
   ]
  },
  {
   "cell_type": "markdown",
   "metadata": {},
   "source": [
    "## Exercise 2. {-}"
   ]
  },
  {
   "cell_type": "code",
   "execution_count": 192,
   "metadata": {},
   "outputs": [],
   "source": [
    "def p2_2_1(μ,σ,N,k):\n",
    "        \n",
    "    ω = np.zeros(N)\n",
    "    Z = np.linspace(μ-k*σ,μ+k*σ,N)\n",
    "    \n",
    "    ω[0] = norm(loc=μ,scale=σ).cdf((Z[0]+Z[1])/2)\n",
    "    \n",
    "    for i in range(1,N-1):\n",
    "        \n",
    "        Z_min = (Z[i-1]+Z[i])/2\n",
    "        Z_max = (Z[i]+Z[i+1])/2\n",
    "        \n",
    "        ω[i] = norm(loc=μ,scale=σ).cdf(Z_max)-norm(loc=μ,scale=σ).cdf(Z_min)\n",
    "    \n",
    "    ω[-1] = 1-norm(loc=μ,scale=σ).cdf(Z[-2]+Z[-1])\n",
    "    \n",
    "    return Z,ω"
   ]
  },
  {
   "cell_type": "code",
   "execution_count": 195,
   "metadata": {},
   "outputs": [],
   "source": [
    "def p2_2_2():\n",
    "    print(\"NODES:\\n\",p2_2_1(0,1,11,3)[0],\"\\nWEIGHTS:\\n\",p2_2_1(0,1,11,3)[1])"
   ]
  },
  {
   "cell_type": "code",
   "execution_count": 196,
   "metadata": {},
   "outputs": [
    {
     "name": "stdout",
     "output_type": "stream",
     "text": [
      "NODES:\n",
      " [-3.  -2.4 -1.8 -1.2 -0.6  0.   0.6  1.2  1.8  2.4  3. ] \n",
      "WEIGHTS:\n",
      " [3.46697380e-03 1.43974468e-02 4.89427807e-02 1.17252924e-01\n",
      " 1.98028452e-01 2.35822844e-01 1.98028452e-01 1.17252924e-01\n",
      " 4.89427807e-02 1.43974468e-02 3.33204485e-08]\n"
     ]
    }
   ],
   "source": [
    "p2_2_2()"
   ]
  },
  {
   "cell_type": "markdown",
   "metadata": {},
   "source": [
    "## Exercise 3. {-}"
   ]
  },
  {
   "cell_type": "code",
   "execution_count": 199,
   "metadata": {},
   "outputs": [],
   "source": [
    "def p2_3_1(μ,σ,N,k):\n",
    "    Z,ω = p2_2_1(μ,σ,N,k)\n",
    "    return np.exp(Z),ω"
   ]
  },
  {
   "cell_type": "code",
   "execution_count": 200,
   "metadata": {},
   "outputs": [],
   "source": [
    "def p2_3_2():\n",
    "    print(\"NODES:\\n\",p2_3_1(0,1,11,3)[0],\"\\nWEIGHTS:\\n\",p2_3_1(0,1,11,3)[1])"
   ]
  },
  {
   "cell_type": "code",
   "execution_count": 201,
   "metadata": {},
   "outputs": [
    {
     "name": "stdout",
     "output_type": "stream",
     "text": [
      "NODES:\n",
      " [ 0.04978707  0.09071795  0.16529889  0.30119421  0.54881164  1.\n",
      "  1.8221188   3.32011692  6.04964746 11.02317638 20.08553692] \n",
      "WEIGHTS:\n",
      " [3.46697380e-03 1.43974468e-02 4.89427807e-02 1.17252924e-01\n",
      " 1.98028452e-01 2.35822844e-01 1.98028452e-01 1.17252924e-01\n",
      " 4.89427807e-02 1.43974468e-02 3.33204485e-08]\n"
     ]
    }
   ],
   "source": [
    "p2_3_2()"
   ]
  },
  {
   "cell_type": "markdown",
   "metadata": {},
   "source": [
    "## Exercise 4. {-}"
   ]
  },
  {
   "cell_type": "code",
   "execution_count": 203,
   "metadata": {},
   "outputs": [],
   "source": [
    "def p2_4():\n",
    "    μ,σ = 10.5,.8\n",
    "    print(np.sum(p2_3_1(μ,σ,11,3)[0]*p2_3_1(μ,σ,11,3)[1]))\n",
    "    print(np.exp(μ+σ**2/2))"
   ]
  },
  {
   "cell_type": "code",
   "execution_count": 204,
   "metadata": {},
   "outputs": [
    {
     "name": "stdout",
     "output_type": "stream",
     "text": [
      "48964.58431238742\n",
      "50011.087008521754\n"
     ]
    }
   ],
   "source": [
    "p2_4()"
   ]
  },
  {
   "cell_type": "markdown",
   "metadata": {},
   "source": [
    "## Exercise 5. {-}"
   ]
  },
  {
   "cell_type": "code",
   "execution_count": 217,
   "metadata": {},
   "outputs": [],
   "source": [
    "def p2_5_1(params,a,b):\n",
    "    \n",
    "    ω,x = params[:3],params[3:]\n",
    "    \n",
    "    l=np.empty(len(params))\n",
    "    \n",
    "    for i in range(len(params)):\n",
    "        l[i] = ((b**(i+1)-a**(i+1))/(i+1))-ω @ x**i\n",
    "        \n",
    "    return l"
   ]
  },
  {
   "cell_type": "code",
   "execution_count": 218,
   "metadata": {},
   "outputs": [],
   "source": [
    "def p2_5_2():\n",
    "    return lambda x: 0.1*x**4-1.5*x**3+0.53*x**2+2*x+1"
   ]
  },
  {
   "cell_type": "code",
   "execution_count": 223,
   "metadata": {},
   "outputs": [],
   "source": [
    "def p2_5_3():\n",
    "    \n",
    "    f=p2_5_2()\n",
    "    \n",
    "    params = root(p2_5_1,x0=np.ones(6),args=(-10,10)).x\n",
    "    \n",
    "    print(\"WEIGHTS:\\n\",params[:3],\"\\nNODES:\\n\",params[3:])\n",
    "    \n",
    "    print(\"SUM:\\n\",np.sum(params[:3]*f(params[3:])))"
   ]
  },
  {
   "cell_type": "code",
   "execution_count": 224,
   "metadata": {},
   "outputs": [
    {
     "name": "stdout",
     "output_type": "stream",
     "text": [
      "WEIGHTS:\n",
      " [5.55555556 5.55555556 8.88888889] \n",
      "NODES:\n",
      " [-7.74596669e+00  7.74596669e+00  3.25993131e-11]\n",
      "SUM:\n",
      " 4373.333333340381\n"
     ]
    }
   ],
   "source": [
    "p2_5_3()"
   ]
  },
  {
   "cell_type": "code",
   "execution_count": 225,
   "metadata": {},
   "outputs": [],
   "source": [
    "def p2_5_4():\n",
    "    \n",
    "    f=p2_5_2()\n",
    "    \n",
    "    params=root(p2_5_1,x0=np.ones(6),args=(-10,10)).x\n",
    "    \n",
    "    print(\"WEIGHTS:\\n\",params[:3],\"\\nNODES:\\n\",params[3:])\n",
    "    \n",
    "    print(\"SUM:\\n\",np.sum(params[:3]*f(params[3:])))"
   ]
  },
  {
   "cell_type": "code",
   "execution_count": 226,
   "metadata": {},
   "outputs": [
    {
     "name": "stdout",
     "output_type": "stream",
     "text": [
      "WEIGHTS:\n",
      " [5.55555556 5.55555556 8.88888889] \n",
      "NODES:\n",
      " [-7.74596669e+00  7.74596669e+00  3.25993131e-11]\n",
      "SUM:\n",
      " 4373.333333340381\n"
     ]
    }
   ],
   "source": [
    "p2_5_4()"
   ]
  },
  {
   "cell_type": "markdown",
   "metadata": {},
   "source": [
    "## Exercise 6. {-}"
   ]
  },
  {
   "cell_type": "code",
   "execution_count": 228,
   "metadata": {},
   "outputs": [],
   "source": [
    "def p2_6():\n",
    "    f=p2_5_2()\n",
    "    print(quad(f,-10,10))"
   ]
  },
  {
   "cell_type": "code",
   "execution_count": 229,
   "metadata": {},
   "outputs": [
    {
     "name": "stdout",
     "output_type": "stream",
     "text": [
      "(4373.333333333334, 8.109531705284936e-11)\n"
     ]
    }
   ],
   "source": [
    "p2_6()"
   ]
  },
  {
   "cell_type": "markdown",
   "metadata": {},
   "source": [
    "## Exercise 7. {-}"
   ]
  },
  {
   "cell_type": "code",
   "execution_count": 230,
   "metadata": {},
   "outputs": [],
   "source": [
    "def p2_7_1(g,bot,top,N):\n",
    "    mc = np.random.uniform(bot,top,size=(N,2))\n",
    "    return 4*(1/N)*np.sum(g(mc[:,0],mc[:,1]))"
   ]
  },
  {
   "cell_type": "code",
   "execution_count": 231,
   "metadata": {},
   "outputs": [],
   "source": [
    "def p2_7_2(x,y):\n",
    "    return x**2+y**2<=1"
   ]
  },
  {
   "cell_type": "code",
   "execution_count": 244,
   "metadata": {},
   "outputs": [],
   "source": [
    "def p2_7_3():\n",
    "    \n",
    "    tol=1e-5\n",
    "    norm=1e3\n",
    "    n=10\n",
    "    N=10000\n",
    "    π4=3.1415\n",
    "    \n",
    "    while (norm>tol) and (n<N):\n",
    "        π = p2_7_1(p2_7_2,-1,1,n)\n",
    "        diff = np.abs(π-π4)\n",
    "        n+=1\n",
    "    \n",
    "    print(\"n,π:\",n,π)"
   ]
  },
  {
   "cell_type": "code",
   "execution_count": 245,
   "metadata": {},
   "outputs": [
    {
     "name": "stdout",
     "output_type": "stream",
     "text": [
      "n,π: 10000 3.1267126712671267\n"
     ]
    }
   ],
   "source": [
    "p2_7_3()"
   ]
  },
  {
   "cell_type": "markdown",
   "metadata": {},
   "source": [
    "## Exercise 8. {-}"
   ]
  },
  {
   "cell_type": "code",
   "execution_count": 268,
   "metadata": {},
   "outputs": [],
   "source": [
    "def p2_8_1(N):\n",
    "    \n",
    "    p = []\n",
    "    n = 2\n",
    "    temp = []\n",
    "    \n",
    "    while len(p) < N:\n",
    "        \n",
    "        for i in p:\n",
    "            if n%i ==0:\n",
    "                temp.append(n)\n",
    "            \n",
    "        if temp:\n",
    "            p+=[]\n",
    "        else:\n",
    "            p+=[n]\n",
    "            \n",
    "        n+=1\n",
    "        \n",
    "    return p\n"
   ]
  },
  {
   "cell_type": "code",
   "execution_count": 269,
   "metadata": {},
   "outputs": [],
   "source": [
    "def p2_8_2(N, d):\n",
    "    \n",
    "    \"\"\"\n",
    "    Weyl\n",
    "    \"\"\"\n",
    "    \n",
    "    p = p2_8_1(d)\n",
    "    n = np.arange(1,N+1,1)\n",
    "    o = np.outer(n,np.sqrt(p))\n",
    "    \n",
    "    return o-np.floor(o)"
   ]
  },
  {
   "cell_type": "code",
   "execution_count": 270,
   "metadata": {},
   "outputs": [],
   "source": [
    "def p2_8_3(N, d):\n",
    "    \n",
    "    \"\"\"\n",
    "    Haber\n",
    "    \"\"\"\n",
    "    \n",
    "    p = p2_8_1(d)\n",
    "    n = np.arange(1,N+1,1)\n",
    "    o = np.outer((n*(n+1))/2,np.sqrt(p))\n",
    "    \n",
    "    return o-np.floor(o)\n"
   ]
  },
  {
   "cell_type": "code",
   "execution_count": 271,
   "metadata": {},
   "outputs": [],
   "source": [
    "def p2_8_4(N, d):\n",
    "    \n",
    "    \"\"\"\n",
    "    Niederreiter\n",
    "    \"\"\"\n",
    "    \n",
    "    s = np.arange(1,d+1,1)\n",
    "    n = np.arange(1,N+1,1)\n",
    "    p = np.outer((1/(n+1)),s)\n",
    "    o = n.reshape(N,1)*2**p\n",
    "    \n",
    "    return o-np.floor(o)"
   ]
  },
  {
   "cell_type": "markdown",
   "metadata": {},
   "source": [
    "## Exercise 9. {-}"
   ]
  },
  {
   "cell_type": "code",
   "execution_count": 272,
   "metadata": {},
   "outputs": [],
   "source": [
    "def p2_9_1(g,min_x,max_x,N):\n",
    "    mc = 2*p2_8_3(N,2)-1\n",
    "    return 4*(1/N)*np.sum(g(mc[:,0],mc[:,1]))"
   ]
  },
  {
   "cell_type": "code",
   "execution_count": 273,
   "metadata": {},
   "outputs": [],
   "source": [
    "def p2_9_2():\n",
    "    return p2_9_1(p2_7_2,-1,1,10000)"
   ]
  },
  {
   "cell_type": "code",
   "execution_count": 274,
   "metadata": {},
   "outputs": [
    {
     "data": {
      "text/plain": [
       "3.1460000000000004"
      ]
     },
     "execution_count": 274,
     "metadata": {},
     "output_type": "execute_result"
    }
   ],
   "source": [
    "p2_9_2()"
   ]
  },
  {
   "cell_type": "markdown",
   "metadata": {},
   "source": [
    "# Simplex Method"
   ]
  },
  {
   "cell_type": "code",
   "execution_count": 292,
   "metadata": {},
   "outputs": [],
   "source": [
    "class Simplex:\n",
    "    \"\"\"\n",
    "    Thank you, Natasha, for help on organizing this script.\n",
    "    \"\"\"\n",
    "    \n",
    "    def __init__(self,c,A,b):\n",
    "        \n",
    "        self.c,self.A,self.b = np.array(c),np.array(A),np.array(b)\n",
    "        \n",
    "        if np.any(self.b<0): raise ValueError(\"Not feasible!\")\n",
    "        \n",
    "        self.m,self.n = self.A.shape\n",
    "        \n",
    "        t = self.m+self.n\n",
    "        self.L = np.concatenate([np.arange(self.n,t,1),np.arange(0,self.n,1)])\n",
    "        \n",
    "        self.T = self.tableau()\n",
    "        \n",
    "    def tableau(self):\n",
    "        \n",
    "        I_m = np.eye(self.m)\n",
    "        \n",
    "        A_bar = np.hstack([self.A,I_m])\n",
    "        \n",
    "        c_bar = np.hstack([self.c,np.zeros(self.m)])\n",
    "        \n",
    "        return np.vstack([np.hstack([0,-1*c_bar.T,1]),\n",
    "                          np.column_stack([self.b,A_bar,np.zeros(self.m)])])\n",
    "    \n",
    "    def check(self):\n",
    "        \n",
    "        T = self.T.copy()\n",
    "        c = int(np.argwhere(T[0,1:]<0)[0])+1\n",
    "                \n",
    "        if np.all(T[:,c]<=0): raise ValueError(\"Unbounded!\")\n",
    "            \n",
    "        T_n=T[:,c]<=0\n",
    "        \n",
    "        T[T_n,c] = np.nan\n",
    "        r = np.nanargmin(T[:,0]/T[:,c])\n",
    "                \n",
    "        return r, c \n",
    "    \n",
    "    def pivot(self):\n",
    "                \n",
    "        L,T,m = self.L,self.T,self.m\n",
    "        r,c = self.check()\n",
    "        \n",
    "        temp = L.copy()\n",
    "        \n",
    "        L[r-1] = temp[c+m-1]\n",
    "        L[c+m-1] = temp[r-1]\n",
    "                        \n",
    "        T[r,:]/=T[r, c]\n",
    "        \n",
    "        for i in range(T.shape[0]):\n",
    "            if i!=r:\n",
    "                k = -1*T[i,c]\n",
    "                T[i,:] += k*T[r,:]\n",
    "        \n",
    "        self.T = T\n",
    "        self.L = L\n",
    "        \n",
    "    def solve(self):\n",
    "        \n",
    "        while np.any(self.T[0,:]<0): self.pivot()\n",
    "\n",
    "        return (self.T[0, 0], \n",
    "                dict(zip(self.L[self.m:], np.zeros(self.m))), \n",
    "                dict(zip(self.L[:self.m], self.T[1:, 0])))"
   ]
  },
  {
   "cell_type": "code",
   "execution_count": 293,
   "metadata": {},
   "outputs": [],
   "source": [
    "def p3_7():\n",
    "    \n",
    "    c =  [3,2]\n",
    "    A = [[1,-1], \n",
    "         [3,1],\n",
    "         [4,3]]\n",
    "    b =  [2,  ,7]\n",
    "\n",
    "    problem = Simplex(c,A,b)\n",
    "    \n",
    "    print(\"c:\\n\",c,\"\\nA:\\n\",A,\"\\nb:\\n\",b)\n",
    "    print(\"\\n--> SOLUTION:\")\n",
    "    print(problem.solve())\n",
    "\n",
    "    dat = np.load(\"productMix.npz\")\n",
    "\n",
    "    a,p,m,d = dat[\"A\"],dat[\"p\"],dat[\"m\"],dat[\"d\"]\n",
    "    A = np.row_stack([a, np.eye((4))])\n",
    "    b = np.concatenate([m, d])\n",
    "\n",
    "    print(\"\\n\\n--> SOLUTION for productMix data:\")\n",
    "    print(Simplex(p,A,b).solve())"
   ]
  },
  {
   "cell_type": "code",
   "execution_count": 294,
   "metadata": {},
   "outputs": [
    {
     "name": "stdout",
     "output_type": "stream",
     "text": [
      "c:\n",
      " [3, 2] \n",
      "A:\n",
      " [[1, -1], [3, 1], [4, 3]] \n",
      "b:\n",
      " [2, 5, 7]\n",
      "\n",
      "--> SOLUTION:\n",
      "(5.2, {3: 0.0, 4: 0.0}, {2: 0.5999999999999996, 0: 1.6, 1: 0.19999999999999982})\n",
      "\n",
      "\n",
      "--> SOLUTION for productMix data:\n",
      "(7453.596491228071, {7: 0.0, 4: 0.0, 9: 0.0, 5: 0.0}, {1: 6.192982456140348, 3: 1.7894736842105292, 6: 0.9659649122807016, 0: 10.0, 8: 13.807017543859653, 2: 12.0, 10: 8.21052631578947})\n"
     ]
    }
   ],
   "source": [
    "p3_7()"
   ]
  },
  {
   "cell_type": "markdown",
   "metadata": {},
   "source": [
    "# Iterative Solvers"
   ]
  },
  {
   "cell_type": "markdown",
   "metadata": {},
   "source": [
    "_Thanks Natasha for your reference on this section. Unfortunately, I struggled with the debugging process since I was short on time._"
   ]
  },
  {
   "cell_type": "code",
   "execution_count": 63,
   "metadata": {},
   "outputs": [],
   "source": [
    "TOL=1e-10\n",
    "MAXITERS=1000"
   ]
  },
  {
   "cell_type": "markdown",
   "metadata": {},
   "source": [
    "## Exercise 1. {-}"
   ]
  },
  {
   "cell_type": "code",
   "execution_count": 46,
   "metadata": {},
   "outputs": [],
   "source": [
    "def jacobi(A,b,tol=TOL,maxiters=MAXITERS,plot=False):\n",
    "    ε=1000\n",
    "    k=0\n",
    "    D=np.diag(A)\n",
    "    \n",
    "    x = np.ones_like(b)\n",
    "    \n",
    "    ε_vec = np.empty(maxiters)\n",
    "    \n",
    "    while (k<maxiters) and (ε>tol):\n",
    "        x_pr = x+ ((b-A@x)/D)\n",
    "        ε_vec[k] = norm(x_pr-x,1e15)\n",
    "        ε=ε_vec[k]\n",
    "        k+=1\n",
    "        x= x_pr\n",
    "        \n",
    "    if (k<maxiters): print(\"Converged! k =\",k)\n",
    "        \n",
    "    if plot:\n",
    "        plt.plot(range(1,k+1),ε_vec[:k])\n",
    "        plt.semilogy()\n",
    "        plt.xlim(1,k)\n",
    "        plt.title(\"Jacobi Convergence\")\n",
    "        plt.xlabel(\"$k$\")\n",
    "        plt.ylabel(\"Abs Approx Err\")\n",
    "        plt.show()\n",
    "        \n",
    "    return x"
   ]
  },
  {
   "cell_type": "code",
   "execution_count": 47,
   "metadata": {},
   "outputs": [],
   "source": [
    "def diag_dom(n,num_entries=None):\n",
    "    \n",
    "    if num_entries == None:\n",
    "        num_entries = int(n**1.5)-n\n",
    "        \n",
    "    A = np.zeros((n,n))\n",
    "    rows = np.random.choice(np.arange(0,n),size=num_entries)\n",
    "    cols = np.random.choice(np.arange(0,n),size=num_entries)\n",
    "    data = np.random.randint(-4,4,size=num_entries)\n",
    "    \n",
    "    for i in range(num_entries): \n",
    "        A[rows[i],cols[i]]=data[i]\n",
    "    for i in range(n): \n",
    "        A[i,i] = np.sum(np.abs(A[i]))+1\n",
    "    \n",
    "    return A"
   ]
  },
  {
   "cell_type": "code",
   "execution_count": 48,
   "metadata": {},
   "outputs": [],
   "source": [
    "def test():\n",
    "    n=np.random.randint(1,10_000)\n",
    "    A=diag_dom(n)\n",
    "    b=np.random.random(n)\n",
    "    print(A,b)\n",
    "    \n",
    "    x_s = jacobi(A,b,plot=True)\n",
    "    print(x_s)"
   ]
  },
  {
   "cell_type": "code",
   "execution_count": 49,
   "metadata": {},
   "outputs": [
    {
     "name": "stdout",
     "output_type": "stream",
     "text": [
      "[[31.  0.  0. ...  0.  0.  0.]\n",
      " [ 0. 40.  0. ...  0.  0.  0.]\n",
      " [ 0.  0. 36. ...  0.  0.  0.]\n",
      " ...\n",
      " [ 0.  0.  0. ... 33.  0.  0.]\n",
      " [ 0.  0.  0. ...  0. 50.  0.]\n",
      " [ 0.  0.  0. ...  0.  0. 32.]] [8.88874664e-01 7.39456783e-01 6.77980574e-01 6.20659454e-02\n",
      " 1.66531926e-01 5.33772185e-02 6.78488221e-02 3.77235608e-02\n",
      " 1.76933215e-01 3.90681831e-01 2.85688563e-01 1.18175129e-01\n",
      " 9.85949045e-01 5.24647900e-01 2.48142724e-01 8.87284452e-01\n",
      " 3.55752684e-01 7.35809950e-02 4.96004748e-01 8.49228275e-01\n",
      " 8.49906283e-01 6.78340969e-01 2.48515596e-01 7.04579406e-01\n",
      " 9.62498129e-01 3.41405066e-01 6.63256136e-01 6.63825139e-01\n",
      " 7.79826130e-01 2.98564494e-01 2.66757344e-03 9.34370876e-01\n",
      " 2.03141691e-01 1.97255462e-01 2.88363988e-01 3.00126061e-01\n",
      " 2.06615323e-01 6.76297317e-01 7.03886423e-01 3.24041536e-01\n",
      " 9.82440847e-01 9.58364808e-01 1.91999451e-01 1.64331494e-01\n",
      " 7.93990571e-01 7.72364812e-01 3.81287625e-01 2.65144344e-01\n",
      " 7.53959040e-01 5.54476817e-01 7.46081748e-01 8.24512717e-01\n",
      " 5.53111891e-01 3.71730813e-01 2.01043739e-01 1.49253764e-01\n",
      " 8.19896481e-01 8.25779722e-01 6.58186234e-01 5.42190023e-01\n",
      " 3.30876326e-01 3.96015239e-01 9.00461905e-01 5.29959150e-04\n",
      " 5.85467832e-02 5.61148571e-01 9.63137462e-01 1.87741360e-01\n",
      " 7.32014103e-03 5.07668578e-01 5.54867454e-01 6.79605447e-01\n",
      " 9.40742365e-01 1.64789015e-01 8.51392698e-01 4.86554969e-01\n",
      " 5.47650915e-01 7.33317382e-01 4.63886042e-01 9.75626642e-01\n",
      " 3.17585073e-01 2.70214997e-01 4.03595680e-01 9.55594010e-01\n",
      " 2.66672769e-01 2.40923934e-02 1.58255311e-01 8.51821275e-01\n",
      " 2.60053038e-01 8.81020774e-01 9.96041197e-01 2.65368723e-01\n",
      " 7.77195186e-01 9.22800324e-01 4.87055072e-01 1.82760200e-01\n",
      " 5.47016867e-01 4.26354960e-01 8.23422032e-01 9.76267817e-01\n",
      " 1.77596000e-01 5.60766131e-01 8.76308045e-01 5.12245064e-01\n",
      " 2.39239377e-01 5.81160945e-01 2.46067038e-01 3.94427647e-01\n",
      " 8.41355509e-02 8.72447336e-01 7.36535026e-01 4.83969993e-01\n",
      " 1.24668048e-01 2.57683457e-01 3.55962205e-02 9.86345049e-01\n",
      " 6.75512418e-01 9.68721354e-02 4.85205183e-01 9.72696021e-01\n",
      " 9.80763617e-02 8.90825996e-01 1.61734985e-01 9.97481521e-01\n",
      " 1.34269293e-01 3.54762915e-01 9.67869882e-01 3.25913491e-01\n",
      " 5.08924810e-01 5.38306159e-01 9.23356207e-01 8.52186000e-02\n",
      " 9.91574403e-01 9.91482106e-01 9.44181726e-01 2.52226997e-01\n",
      " 5.11220673e-01 5.17667340e-01 1.58554926e-01 4.07943539e-01\n",
      " 6.59925663e-01 6.40825908e-01 9.88033555e-01 5.26943545e-01\n",
      " 8.74657091e-01 5.76824971e-01 9.12485679e-01 4.63243201e-01\n",
      " 9.13233950e-01 8.87586286e-01 8.81897570e-01 6.91413162e-01\n",
      " 3.44709174e-01 2.24085145e-01 8.84169884e-01 1.68996448e-01\n",
      " 2.36240754e-01 8.08057391e-01 3.14924657e-01 8.24123847e-01\n",
      " 5.24724744e-01 6.89491712e-01 8.81053201e-01 3.41925465e-01\n",
      " 4.80555900e-02 6.36471964e-01 7.82823366e-01 1.23848016e-01\n",
      " 5.84861661e-01 6.20240083e-01 3.71721136e-01 5.91564639e-01\n",
      " 2.92557967e-01 8.26968677e-01 7.81663234e-02 1.34397806e-01\n",
      " 5.34991693e-01 3.68322893e-01 1.76973625e-01 8.37860554e-01\n",
      " 6.99471859e-01 1.86318831e-01 3.81483938e-01 4.39794491e-01\n",
      " 2.50380698e-01 5.41407980e-01 7.29112703e-01 6.61282549e-01\n",
      " 1.45183507e-01 5.10396666e-01 7.70800590e-01 3.48299083e-01\n",
      " 3.35622942e-01 3.08288485e-01 4.84830917e-02 2.44699576e-01\n",
      " 2.57942192e-01 4.69497593e-01 6.73046471e-01 6.64358478e-01\n",
      " 2.53029683e-01 1.60163930e-01 6.14835209e-01 8.66637309e-01\n",
      " 4.40682545e-01 5.97582935e-01 1.51483370e-01 6.83666212e-01\n",
      " 7.98155783e-01 3.78813146e-01 1.24245909e-01 9.24349934e-01\n",
      " 6.35328688e-01 5.70319465e-02 4.94979193e-01 4.94693458e-01\n",
      " 4.67016667e-01 6.86567031e-01 6.92367887e-01 4.44324088e-02\n",
      " 4.28315449e-01 3.28474860e-01 6.25176813e-01 8.83035799e-01\n",
      " 9.95492504e-01 6.75927168e-01 9.70885292e-01 1.82964495e-02\n",
      " 3.80399576e-01 4.87414917e-01 7.43933215e-01 4.13126434e-01\n",
      " 7.15058796e-01 1.24783780e-01 5.03730204e-01 3.14923148e-01\n",
      " 5.68696892e-01 6.92888664e-01 2.00124498e-01 4.81876644e-01\n",
      " 4.15928760e-01 3.70712712e-01 1.34268528e-01 6.65872714e-01\n",
      " 4.25979405e-01 3.84346825e-02 8.87818880e-02 2.81331101e-01\n",
      " 2.71623843e-01 5.59353268e-01 4.45824910e-01 8.37813154e-01\n",
      " 7.26445138e-01 9.06902544e-01 6.07920151e-01 1.39861627e-01\n",
      " 5.75462264e-01 4.35658649e-02 3.78071123e-01 3.59182014e-01\n",
      " 7.80619584e-01 9.44230284e-01 7.11667816e-01 1.35363617e-01\n",
      " 7.78456637e-01 8.21644543e-01 7.01452884e-01 2.17499550e-01\n",
      " 8.88706750e-01 1.22691001e-01 1.09492631e-01 7.78023722e-01\n",
      " 2.81116393e-01 2.25609758e-01 8.90390477e-01 6.76615401e-01\n",
      " 5.19659929e-01 8.22799353e-01 3.64633573e-02 7.46713189e-01\n",
      " 7.35195021e-01 6.81586711e-01 5.65834312e-01 6.18756653e-01\n",
      " 4.43032007e-02 6.38857420e-01 8.57904709e-01 6.19771105e-01\n",
      " 1.45756176e-01 7.83982448e-01 6.52304618e-01 4.43469838e-01\n",
      " 9.08114471e-01 7.21455930e-01 4.93452314e-01 1.07920006e-01\n",
      " 8.70465069e-01 1.75033159e-01 5.10605358e-01 7.46294840e-01\n",
      " 2.88950599e-01 6.41228021e-01 2.45693540e-03 3.68269285e-02\n",
      " 3.93508165e-01 2.71952393e-01 6.12049748e-01 7.66297196e-01\n",
      " 5.07475009e-01 1.20384539e-01 3.75597585e-01]\n"
     ]
    },
    {
     "ename": "TypeError",
     "evalue": "float() argument must be a string or a number, not 'rv_frozen'",
     "output_type": "error",
     "traceback": [
      "\u001b[0;31m---------------------------------------------------------------------------\u001b[0m",
      "\u001b[0;31mTypeError\u001b[0m                                 Traceback (most recent call last)",
      "\u001b[0;32m<ipython-input-49-fbd55f77ab7c>\u001b[0m in \u001b[0;36m<module>\u001b[0;34m()\u001b[0m\n\u001b[0;32m----> 1\u001b[0;31m \u001b[0mtest\u001b[0m\u001b[0;34m(\u001b[0m\u001b[0;34m)\u001b[0m\u001b[0;34m\u001b[0m\u001b[0m\n\u001b[0m",
      "\u001b[0;32m<ipython-input-48-39ef04240963>\u001b[0m in \u001b[0;36mtest\u001b[0;34m()\u001b[0m\n\u001b[1;32m      5\u001b[0m     \u001b[0mprint\u001b[0m\u001b[0;34m(\u001b[0m\u001b[0mA\u001b[0m\u001b[0;34m,\u001b[0m\u001b[0mb\u001b[0m\u001b[0;34m)\u001b[0m\u001b[0;34m\u001b[0m\u001b[0m\n\u001b[1;32m      6\u001b[0m \u001b[0;34m\u001b[0m\u001b[0m\n\u001b[0;32m----> 7\u001b[0;31m     \u001b[0mx_s\u001b[0m \u001b[0;34m=\u001b[0m \u001b[0mjacobi\u001b[0m\u001b[0;34m(\u001b[0m\u001b[0mA\u001b[0m\u001b[0;34m,\u001b[0m\u001b[0mb\u001b[0m\u001b[0;34m,\u001b[0m\u001b[0mplot\u001b[0m\u001b[0;34m=\u001b[0m\u001b[0;32mTrue\u001b[0m\u001b[0;34m)\u001b[0m\u001b[0;34m\u001b[0m\u001b[0m\n\u001b[0m\u001b[1;32m      8\u001b[0m     \u001b[0mprint\u001b[0m\u001b[0;34m(\u001b[0m\u001b[0mx_s\u001b[0m\u001b[0;34m)\u001b[0m\u001b[0;34m\u001b[0m\u001b[0m\n",
      "\u001b[0;32m<ipython-input-46-6a6b789f990b>\u001b[0m in \u001b[0;36mjacobi\u001b[0;34m(A, b, tol, maxiters, plot)\u001b[0m\n\u001b[1;32m     10\u001b[0m     \u001b[0;32mwhile\u001b[0m \u001b[0;34m(\u001b[0m\u001b[0mk\u001b[0m\u001b[0;34m<\u001b[0m\u001b[0mmaxiters\u001b[0m\u001b[0;34m)\u001b[0m \u001b[0;32mand\u001b[0m \u001b[0;34m(\u001b[0m\u001b[0mε\u001b[0m\u001b[0;34m>\u001b[0m\u001b[0mtol\u001b[0m\u001b[0;34m)\u001b[0m\u001b[0;34m:\u001b[0m\u001b[0;34m\u001b[0m\u001b[0m\n\u001b[1;32m     11\u001b[0m         \u001b[0mx_pr\u001b[0m \u001b[0;34m=\u001b[0m \u001b[0mx\u001b[0m\u001b[0;34m+\u001b[0m \u001b[0;34m(\u001b[0m\u001b[0;34m(\u001b[0m\u001b[0mb\u001b[0m\u001b[0;34m-\u001b[0m\u001b[0mA\u001b[0m\u001b[0;34m@\u001b[0m\u001b[0mx\u001b[0m\u001b[0;34m)\u001b[0m\u001b[0;34m/\u001b[0m\u001b[0mD\u001b[0m\u001b[0;34m)\u001b[0m\u001b[0;34m\u001b[0m\u001b[0m\n\u001b[0;32m---> 12\u001b[0;31m         \u001b[0mε_vec\u001b[0m\u001b[0;34m[\u001b[0m\u001b[0mk\u001b[0m\u001b[0;34m]\u001b[0m \u001b[0;34m=\u001b[0m \u001b[0mnorm\u001b[0m\u001b[0;34m(\u001b[0m\u001b[0mx_pr\u001b[0m\u001b[0;34m-\u001b[0m\u001b[0mx\u001b[0m\u001b[0;34m,\u001b[0m\u001b[0;36m1e15\u001b[0m\u001b[0;34m)\u001b[0m\u001b[0;34m\u001b[0m\u001b[0m\n\u001b[0m\u001b[1;32m     13\u001b[0m         \u001b[0mε\u001b[0m\u001b[0;34m=\u001b[0m\u001b[0mε_vec\u001b[0m\u001b[0;34m[\u001b[0m\u001b[0mk\u001b[0m\u001b[0;34m]\u001b[0m\u001b[0;34m\u001b[0m\u001b[0m\n\u001b[1;32m     14\u001b[0m         \u001b[0mk\u001b[0m\u001b[0;34m+=\u001b[0m\u001b[0;36m1\u001b[0m\u001b[0;34m\u001b[0m\u001b[0m\n",
      "\u001b[0;31mTypeError\u001b[0m: float() argument must be a string or a number, not 'rv_frozen'"
     ]
    }
   ],
   "source": [
    "test()"
   ]
  },
  {
   "cell_type": "markdown",
   "metadata": {},
   "source": [
    "I couldn't fix this bug. :("
   ]
  },
  {
   "cell_type": "markdown",
   "metadata": {},
   "source": [
    "## Exercise 2. {-}"
   ]
  },
  {
   "cell_type": "markdown",
   "metadata": {},
   "source": [
    "See above."
   ]
  },
  {
   "cell_type": "markdown",
   "metadata": {},
   "source": [
    "## Exercise 3. {-}"
   ]
  },
  {
   "cell_type": "code",
   "execution_count": 58,
   "metadata": {},
   "outputs": [],
   "source": [
    "def gauss_seidel(A,b,tol=TOL,maxiters=MAXITERS,plot=False):\n",
    "    \n",
    "    ε=1e3\n",
    "    k=0\n",
    "    \n",
    "    x=np.ones_like(b)\n",
    "    \n",
    "    x_pr = x.copy()\n",
    "    \n",
    "    ε_vec=np.empty(maxiters)\n",
    "    \n",
    "    while (k<maxiters) and (ε<tol):\n",
    "        \n",
    "        for i in range(len(x)):\n",
    "            x_pr[i] = x_pr[i] + (1/A[i,i]) * (b[i]-A[i,:].T@x_pr)\n",
    "            \n",
    "        ε_vec[k] = norm(x_pr-x,1e15)\n",
    "        \n",
    "        ε=ε_vec[k]\n",
    "        \n",
    "        k+=1\n",
    "        \n",
    "        x=x_pr.copy()\n",
    "        \n",
    "    if k<maxiters: print(\"Converged at k =\",k)\n",
    "    \n",
    "    if plot:\n",
    "        \n",
    "        plt.plot(range(1,k+1),ε_vec[k])\n",
    "        plt.semilogy()\n",
    "        plt.xlim(1,k)\n",
    "        plt.title(\"Guass-Seidel Convergence\")\n",
    "        plt.xlabel(\"Iteration\")\n",
    "        plt.ylabel(\"Abs Approx Err\")\n",
    "        \n",
    "        plt.show()\n",
    "        \n",
    "    return x\n",
    "        \n",
    "        "
   ]
  },
  {
   "cell_type": "code",
   "execution_count": 59,
   "metadata": {},
   "outputs": [],
   "source": [
    "def test2():\n",
    "    n=np.random.randint(1,10_000)\n",
    "    A=diag_dom(n)\n",
    "    b=np.random.random(n)\n",
    "    print(A,b)\n",
    "    \n",
    "    x_s = gauss_seidel(A,b,plot=True)\n",
    "    print(x_s)"
   ]
  },
  {
   "cell_type": "code",
   "execution_count": 60,
   "metadata": {},
   "outputs": [
    {
     "name": "stdout",
     "output_type": "stream",
     "text": [
      "[[178.   0.   0. ...   0.   0.   0.]\n",
      " [ -3. 184.   0. ...   0.   0.   0.]\n",
      " [  0.   0. 141. ...   0.   0.   0.]\n",
      " ...\n",
      " [  0.   0.   0. ... 185.   0.   0.]\n",
      " [  0.   0.   0. ...   0. 141.   0.]\n",
      " [  0.   0.   0. ...  -4.   0. 160.]] [0.14056951 0.71223297 0.91450283 ... 0.39490839 0.59137012 0.05732009]\n",
      "Converged at k = 0\n"
     ]
    },
    {
     "ename": "ValueError",
     "evalue": "x and y must have same first dimension, but have shapes (0,) and (1,)",
     "output_type": "error",
     "traceback": [
      "\u001b[0;31m---------------------------------------------------------------------------\u001b[0m",
      "\u001b[0;31mValueError\u001b[0m                                Traceback (most recent call last)",
      "\u001b[0;32m<ipython-input-60-7b315abe3193>\u001b[0m in \u001b[0;36m<module>\u001b[0;34m()\u001b[0m\n\u001b[0;32m----> 1\u001b[0;31m \u001b[0mtest2\u001b[0m\u001b[0;34m(\u001b[0m\u001b[0;34m)\u001b[0m\u001b[0;34m\u001b[0m\u001b[0m\n\u001b[0m",
      "\u001b[0;32m<ipython-input-59-a8b543b4c470>\u001b[0m in \u001b[0;36mtest2\u001b[0;34m()\u001b[0m\n\u001b[1;32m      5\u001b[0m     \u001b[0mprint\u001b[0m\u001b[0;34m(\u001b[0m\u001b[0mA\u001b[0m\u001b[0;34m,\u001b[0m\u001b[0mb\u001b[0m\u001b[0;34m)\u001b[0m\u001b[0;34m\u001b[0m\u001b[0m\n\u001b[1;32m      6\u001b[0m \u001b[0;34m\u001b[0m\u001b[0m\n\u001b[0;32m----> 7\u001b[0;31m     \u001b[0mx_s\u001b[0m \u001b[0;34m=\u001b[0m \u001b[0mgauss_seidel\u001b[0m\u001b[0;34m(\u001b[0m\u001b[0mA\u001b[0m\u001b[0;34m,\u001b[0m\u001b[0mb\u001b[0m\u001b[0;34m,\u001b[0m\u001b[0mplot\u001b[0m\u001b[0;34m=\u001b[0m\u001b[0;32mTrue\u001b[0m\u001b[0;34m)\u001b[0m\u001b[0;34m\u001b[0m\u001b[0m\n\u001b[0m\u001b[1;32m      8\u001b[0m     \u001b[0mprint\u001b[0m\u001b[0;34m(\u001b[0m\u001b[0mx_s\u001b[0m\u001b[0;34m)\u001b[0m\u001b[0;34m\u001b[0m\u001b[0m\n",
      "\u001b[0;32m<ipython-input-58-4e319ae05f7d>\u001b[0m in \u001b[0;36mgauss_seidel\u001b[0;34m(A, b, tol, maxiters, plot)\u001b[0m\n\u001b[1;32m     27\u001b[0m     \u001b[0;32mif\u001b[0m \u001b[0mplot\u001b[0m\u001b[0;34m:\u001b[0m\u001b[0;34m\u001b[0m\u001b[0m\n\u001b[1;32m     28\u001b[0m \u001b[0;34m\u001b[0m\u001b[0m\n\u001b[0;32m---> 29\u001b[0;31m         \u001b[0mplt\u001b[0m\u001b[0;34m.\u001b[0m\u001b[0mplot\u001b[0m\u001b[0;34m(\u001b[0m\u001b[0mrange\u001b[0m\u001b[0;34m(\u001b[0m\u001b[0;36m1\u001b[0m\u001b[0;34m,\u001b[0m\u001b[0mk\u001b[0m\u001b[0;34m+\u001b[0m\u001b[0;36m1\u001b[0m\u001b[0;34m)\u001b[0m\u001b[0;34m,\u001b[0m\u001b[0mε_vec\u001b[0m\u001b[0;34m[\u001b[0m\u001b[0mk\u001b[0m\u001b[0;34m]\u001b[0m\u001b[0;34m)\u001b[0m\u001b[0;34m\u001b[0m\u001b[0m\n\u001b[0m\u001b[1;32m     30\u001b[0m         \u001b[0mplt\u001b[0m\u001b[0;34m.\u001b[0m\u001b[0msemilogy\u001b[0m\u001b[0;34m(\u001b[0m\u001b[0;34m)\u001b[0m\u001b[0;34m\u001b[0m\u001b[0m\n\u001b[1;32m     31\u001b[0m         \u001b[0mplt\u001b[0m\u001b[0;34m.\u001b[0m\u001b[0mxlim\u001b[0m\u001b[0;34m(\u001b[0m\u001b[0;36m1\u001b[0m\u001b[0;34m,\u001b[0m\u001b[0mk\u001b[0m\u001b[0;34m)\u001b[0m\u001b[0;34m\u001b[0m\u001b[0m\n",
      "\u001b[0;32m/anaconda3/lib/python3.6/site-packages/matplotlib/pyplot.py\u001b[0m in \u001b[0;36mplot\u001b[0;34m(*args, **kwargs)\u001b[0m\n\u001b[1;32m   3356\u001b[0m                       mplDeprecation)\n\u001b[1;32m   3357\u001b[0m     \u001b[0;32mtry\u001b[0m\u001b[0;34m:\u001b[0m\u001b[0;34m\u001b[0m\u001b[0m\n\u001b[0;32m-> 3358\u001b[0;31m         \u001b[0mret\u001b[0m \u001b[0;34m=\u001b[0m \u001b[0max\u001b[0m\u001b[0;34m.\u001b[0m\u001b[0mplot\u001b[0m\u001b[0;34m(\u001b[0m\u001b[0;34m*\u001b[0m\u001b[0margs\u001b[0m\u001b[0;34m,\u001b[0m \u001b[0;34m**\u001b[0m\u001b[0mkwargs\u001b[0m\u001b[0;34m)\u001b[0m\u001b[0;34m\u001b[0m\u001b[0m\n\u001b[0m\u001b[1;32m   3359\u001b[0m     \u001b[0;32mfinally\u001b[0m\u001b[0;34m:\u001b[0m\u001b[0;34m\u001b[0m\u001b[0m\n\u001b[1;32m   3360\u001b[0m         \u001b[0max\u001b[0m\u001b[0;34m.\u001b[0m\u001b[0m_hold\u001b[0m \u001b[0;34m=\u001b[0m \u001b[0mwashold\u001b[0m\u001b[0;34m\u001b[0m\u001b[0m\n",
      "\u001b[0;32m/anaconda3/lib/python3.6/site-packages/matplotlib/__init__.py\u001b[0m in \u001b[0;36minner\u001b[0;34m(ax, *args, **kwargs)\u001b[0m\n\u001b[1;32m   1853\u001b[0m                         \u001b[0;34m\"the Matplotlib list!)\"\u001b[0m \u001b[0;34m%\u001b[0m \u001b[0;34m(\u001b[0m\u001b[0mlabel_namer\u001b[0m\u001b[0;34m,\u001b[0m \u001b[0mfunc\u001b[0m\u001b[0;34m.\u001b[0m\u001b[0m__name__\u001b[0m\u001b[0;34m)\u001b[0m\u001b[0;34m,\u001b[0m\u001b[0;34m\u001b[0m\u001b[0m\n\u001b[1;32m   1854\u001b[0m                         RuntimeWarning, stacklevel=2)\n\u001b[0;32m-> 1855\u001b[0;31m             \u001b[0;32mreturn\u001b[0m \u001b[0mfunc\u001b[0m\u001b[0;34m(\u001b[0m\u001b[0max\u001b[0m\u001b[0;34m,\u001b[0m \u001b[0;34m*\u001b[0m\u001b[0margs\u001b[0m\u001b[0;34m,\u001b[0m \u001b[0;34m**\u001b[0m\u001b[0mkwargs\u001b[0m\u001b[0;34m)\u001b[0m\u001b[0;34m\u001b[0m\u001b[0m\n\u001b[0m\u001b[1;32m   1856\u001b[0m \u001b[0;34m\u001b[0m\u001b[0m\n\u001b[1;32m   1857\u001b[0m         inner.__doc__ = _add_data_doc(inner.__doc__,\n",
      "\u001b[0;32m/anaconda3/lib/python3.6/site-packages/matplotlib/axes/_axes.py\u001b[0m in \u001b[0;36mplot\u001b[0;34m(self, *args, **kwargs)\u001b[0m\n\u001b[1;32m   1525\u001b[0m         \u001b[0mkwargs\u001b[0m \u001b[0;34m=\u001b[0m \u001b[0mcbook\u001b[0m\u001b[0;34m.\u001b[0m\u001b[0mnormalize_kwargs\u001b[0m\u001b[0;34m(\u001b[0m\u001b[0mkwargs\u001b[0m\u001b[0;34m,\u001b[0m \u001b[0m_alias_map\u001b[0m\u001b[0;34m)\u001b[0m\u001b[0;34m\u001b[0m\u001b[0m\n\u001b[1;32m   1526\u001b[0m \u001b[0;34m\u001b[0m\u001b[0m\n\u001b[0;32m-> 1527\u001b[0;31m         \u001b[0;32mfor\u001b[0m \u001b[0mline\u001b[0m \u001b[0;32min\u001b[0m \u001b[0mself\u001b[0m\u001b[0;34m.\u001b[0m\u001b[0m_get_lines\u001b[0m\u001b[0;34m(\u001b[0m\u001b[0;34m*\u001b[0m\u001b[0margs\u001b[0m\u001b[0;34m,\u001b[0m \u001b[0;34m**\u001b[0m\u001b[0mkwargs\u001b[0m\u001b[0;34m)\u001b[0m\u001b[0;34m:\u001b[0m\u001b[0;34m\u001b[0m\u001b[0m\n\u001b[0m\u001b[1;32m   1528\u001b[0m             \u001b[0mself\u001b[0m\u001b[0;34m.\u001b[0m\u001b[0madd_line\u001b[0m\u001b[0;34m(\u001b[0m\u001b[0mline\u001b[0m\u001b[0;34m)\u001b[0m\u001b[0;34m\u001b[0m\u001b[0m\n\u001b[1;32m   1529\u001b[0m             \u001b[0mlines\u001b[0m\u001b[0;34m.\u001b[0m\u001b[0mappend\u001b[0m\u001b[0;34m(\u001b[0m\u001b[0mline\u001b[0m\u001b[0;34m)\u001b[0m\u001b[0;34m\u001b[0m\u001b[0m\n",
      "\u001b[0;32m/anaconda3/lib/python3.6/site-packages/matplotlib/axes/_base.py\u001b[0m in \u001b[0;36m_grab_next_args\u001b[0;34m(self, *args, **kwargs)\u001b[0m\n\u001b[1;32m    404\u001b[0m                 \u001b[0mthis\u001b[0m \u001b[0;34m+=\u001b[0m \u001b[0margs\u001b[0m\u001b[0;34m[\u001b[0m\u001b[0;36m0\u001b[0m\u001b[0;34m]\u001b[0m\u001b[0;34m,\u001b[0m\u001b[0;34m\u001b[0m\u001b[0m\n\u001b[1;32m    405\u001b[0m                 \u001b[0margs\u001b[0m \u001b[0;34m=\u001b[0m \u001b[0margs\u001b[0m\u001b[0;34m[\u001b[0m\u001b[0;36m1\u001b[0m\u001b[0;34m:\u001b[0m\u001b[0;34m]\u001b[0m\u001b[0;34m\u001b[0m\u001b[0m\n\u001b[0;32m--> 406\u001b[0;31m             \u001b[0;32mfor\u001b[0m \u001b[0mseg\u001b[0m \u001b[0;32min\u001b[0m \u001b[0mself\u001b[0m\u001b[0;34m.\u001b[0m\u001b[0m_plot_args\u001b[0m\u001b[0;34m(\u001b[0m\u001b[0mthis\u001b[0m\u001b[0;34m,\u001b[0m \u001b[0mkwargs\u001b[0m\u001b[0;34m)\u001b[0m\u001b[0;34m:\u001b[0m\u001b[0;34m\u001b[0m\u001b[0m\n\u001b[0m\u001b[1;32m    407\u001b[0m                 \u001b[0;32myield\u001b[0m \u001b[0mseg\u001b[0m\u001b[0;34m\u001b[0m\u001b[0m\n\u001b[1;32m    408\u001b[0m \u001b[0;34m\u001b[0m\u001b[0m\n",
      "\u001b[0;32m/anaconda3/lib/python3.6/site-packages/matplotlib/axes/_base.py\u001b[0m in \u001b[0;36m_plot_args\u001b[0;34m(self, tup, kwargs)\u001b[0m\n\u001b[1;32m    381\u001b[0m             \u001b[0mx\u001b[0m\u001b[0;34m,\u001b[0m \u001b[0my\u001b[0m \u001b[0;34m=\u001b[0m \u001b[0mindex_of\u001b[0m\u001b[0;34m(\u001b[0m\u001b[0mtup\u001b[0m\u001b[0;34m[\u001b[0m\u001b[0;34m-\u001b[0m\u001b[0;36m1\u001b[0m\u001b[0;34m]\u001b[0m\u001b[0;34m)\u001b[0m\u001b[0;34m\u001b[0m\u001b[0m\n\u001b[1;32m    382\u001b[0m \u001b[0;34m\u001b[0m\u001b[0m\n\u001b[0;32m--> 383\u001b[0;31m         \u001b[0mx\u001b[0m\u001b[0;34m,\u001b[0m \u001b[0my\u001b[0m \u001b[0;34m=\u001b[0m \u001b[0mself\u001b[0m\u001b[0;34m.\u001b[0m\u001b[0m_xy_from_xy\u001b[0m\u001b[0;34m(\u001b[0m\u001b[0mx\u001b[0m\u001b[0;34m,\u001b[0m \u001b[0my\u001b[0m\u001b[0;34m)\u001b[0m\u001b[0;34m\u001b[0m\u001b[0m\n\u001b[0m\u001b[1;32m    384\u001b[0m \u001b[0;34m\u001b[0m\u001b[0m\n\u001b[1;32m    385\u001b[0m         \u001b[0;32mif\u001b[0m \u001b[0mself\u001b[0m\u001b[0;34m.\u001b[0m\u001b[0mcommand\u001b[0m \u001b[0;34m==\u001b[0m \u001b[0;34m'plot'\u001b[0m\u001b[0;34m:\u001b[0m\u001b[0;34m\u001b[0m\u001b[0m\n",
      "\u001b[0;32m/anaconda3/lib/python3.6/site-packages/matplotlib/axes/_base.py\u001b[0m in \u001b[0;36m_xy_from_xy\u001b[0;34m(self, x, y)\u001b[0m\n\u001b[1;32m    240\u001b[0m         \u001b[0;32mif\u001b[0m \u001b[0mx\u001b[0m\u001b[0;34m.\u001b[0m\u001b[0mshape\u001b[0m\u001b[0;34m[\u001b[0m\u001b[0;36m0\u001b[0m\u001b[0;34m]\u001b[0m \u001b[0;34m!=\u001b[0m \u001b[0my\u001b[0m\u001b[0;34m.\u001b[0m\u001b[0mshape\u001b[0m\u001b[0;34m[\u001b[0m\u001b[0;36m0\u001b[0m\u001b[0;34m]\u001b[0m\u001b[0;34m:\u001b[0m\u001b[0;34m\u001b[0m\u001b[0m\n\u001b[1;32m    241\u001b[0m             raise ValueError(\"x and y must have same first dimension, but \"\n\u001b[0;32m--> 242\u001b[0;31m                              \"have shapes {} and {}\".format(x.shape, y.shape))\n\u001b[0m\u001b[1;32m    243\u001b[0m         \u001b[0;32mif\u001b[0m \u001b[0mx\u001b[0m\u001b[0;34m.\u001b[0m\u001b[0mndim\u001b[0m \u001b[0;34m>\u001b[0m \u001b[0;36m2\u001b[0m \u001b[0;32mor\u001b[0m \u001b[0my\u001b[0m\u001b[0;34m.\u001b[0m\u001b[0mndim\u001b[0m \u001b[0;34m>\u001b[0m \u001b[0;36m2\u001b[0m\u001b[0;34m:\u001b[0m\u001b[0;34m\u001b[0m\u001b[0m\n\u001b[1;32m    244\u001b[0m             raise ValueError(\"x and y can be no greater than 2-D, but have \"\n",
      "\u001b[0;31mValueError\u001b[0m: x and y must have same first dimension, but have shapes (0,) and (1,)"
     ]
    },
    {
     "data": {
      "image/png": "[encoded data removed]",
      "text/plain": [
       "<Figure size 432x288 with 1 Axes>"
      ]
     },
     "metadata": {},
     "output_type": "display_data"
    }
   ],
   "source": [
    "test2()"
   ]
  },
  {
   "cell_type": "markdown",
   "metadata": {},
   "source": [
    "Couldn't fix this one either :("
   ]
  },
  {
   "cell_type": "markdown",
   "metadata": {},
   "source": [
    "## Exercise 4. {-}"
   ]
  },
  {
   "cell_type": "code",
   "execution_count": 64,
   "metadata": {},
   "outputs": [],
   "source": [
    "def sparse_gauss_seidel(A,b,tol=TOL,maxiters=MAXITERS):\n",
    "    \n",
    "    ε=1000\n",
    "    k=0\n",
    "    \n",
    "    x=np.ones_like(b)\n",
    "    \n",
    "    x_pr = x.copy()\n",
    "    ε_vec = np.empty(maxiters)\n",
    "    \n",
    "    while (k<maxiters) and (ε>tol):\n",
    "        for i in range(len(x)):\n",
    "            beg_row=A.indptr[i]\n",
    "            end_row = A.indptr[i+1]\n",
    "            \n",
    "            A_ind = A.data[beg_row:end_row] @ x[A.ind[beg_row:end_row]]\n",
    "            x_pr[i] = x_pr[i]+(1/A[i,i])*(b[i]-A_ind)\n",
    "            \n",
    "        ε_vec[k] = norm(x_pr-x,1e15)\n",
    "        ε = ε_vec[k]\n",
    "        \n",
    "        k+=1\n",
    "        x = x_pr.copy()\n",
    "        \n",
    "    if (k<maxiters): print(\"Converged at k =\",k)\n",
    "    else: print(\"No Convergence!\")\n",
    "    \n",
    "    return x"
   ]
  },
  {
   "cell_type": "markdown",
   "metadata": {},
   "source": [
    "## Exercise 5. {-}"
   ]
  },
  {
   "cell_type": "code",
   "execution_count": 96,
   "metadata": {},
   "outputs": [],
   "source": [
    "def sor(A,b,ω,tol=TOL,maxiters=MAXITERS,plot=False,out=True):\n",
    "    \n",
    "    ε=1000\n",
    "    k=0\n",
    "    \n",
    "    x = np.ones_like(b)\n",
    "    \n",
    "    x_pr = x.copy()\n",
    "    \n",
    "    ε_vec = np.empty(maxiters)\n",
    "    \n",
    "    while (k<maxiters) and (ε>tol):\n",
    "        for i in range(len(x)):\n",
    "            x_pr[i] = x_pr[i]+(ω/A[i,i])*(b[i]-A[i,:].T@x_pr)  \n",
    "        \n",
    "        ε_vec[k] = norm(x_pr-x,1e15)\n",
    "        \n",
    "        ε=ε_vec[k]\n",
    "        \n",
    "        k+=1\n",
    "        \n",
    "        x = x_new.copy()\n",
    "        \n",
    "    if out:\n",
    "        if (k<maxiters): print(\"Converged at k =\",k)\n",
    "        else: print(\"No Convergence!\")\n",
    "        \n",
    "    return x,k,(k<maxiters)"
   ]
  },
  {
   "cell_type": "code",
   "execution_count": 97,
   "metadata": {},
   "outputs": [],
   "source": [
    "\n",
    "def test3():\n",
    "    n=np.random.randint(1,10_000)\n",
    "    \n",
    "    A=diag_dom(n)\n",
    "    b=np.random.random(n)\n",
    "    print(A,b)\n",
    "    \n",
    "    print(sor(A,b,1.5))"
   ]
  },
  {
   "cell_type": "code",
   "execution_count": 98,
   "metadata": {},
   "outputs": [
    {
     "name": "stdout",
     "output_type": "stream",
     "text": [
      "[[181.   0.   0. ...   0.   0.   0.]\n",
      " [  0. 203.   0. ...   0.   0.   0.]\n",
      " [  0.   0. 162. ...   0.   0.   0.]\n",
      " ...\n",
      " [  0.   0.   0. ... 154.   0.   0.]\n",
      " [  0.   0.   0. ...   0. 131.   0.]\n",
      " [  0.   0.   0. ...   0.   0. 182.]] [0.79491071 0.9724238  0.03890028 ... 0.29625166 0.58374908 0.95701192]\n"
     ]
    },
    {
     "ename": "TypeError",
     "evalue": "float() argument must be a string or a number, not 'rv_frozen'",
     "output_type": "error",
     "traceback": [
      "\u001b[0;31m---------------------------------------------------------------------------\u001b[0m",
      "\u001b[0;31mTypeError\u001b[0m                                 Traceback (most recent call last)",
      "\u001b[0;32m<ipython-input-98-5dea5f7ba8cb>\u001b[0m in \u001b[0;36m<module>\u001b[0;34m()\u001b[0m\n\u001b[0;32m----> 1\u001b[0;31m \u001b[0mtest3\u001b[0m\u001b[0;34m(\u001b[0m\u001b[0;34m)\u001b[0m\u001b[0;34m\u001b[0m\u001b[0m\n\u001b[0m",
      "\u001b[0;32m<ipython-input-97-8d54e787edf5>\u001b[0m in \u001b[0;36mtest3\u001b[0;34m()\u001b[0m\n\u001b[1;32m      7\u001b[0m     \u001b[0mprint\u001b[0m\u001b[0;34m(\u001b[0m\u001b[0mA\u001b[0m\u001b[0;34m,\u001b[0m\u001b[0mb\u001b[0m\u001b[0;34m)\u001b[0m\u001b[0;34m\u001b[0m\u001b[0m\n\u001b[1;32m      8\u001b[0m \u001b[0;34m\u001b[0m\u001b[0m\n\u001b[0;32m----> 9\u001b[0;31m     \u001b[0mprint\u001b[0m\u001b[0;34m(\u001b[0m\u001b[0msor\u001b[0m\u001b[0;34m(\u001b[0m\u001b[0mA\u001b[0m\u001b[0;34m,\u001b[0m\u001b[0mb\u001b[0m\u001b[0;34m,\u001b[0m\u001b[0;36m1.5\u001b[0m\u001b[0;34m)\u001b[0m\u001b[0;34m)\u001b[0m\u001b[0;34m\u001b[0m\u001b[0m\n\u001b[0m",
      "\u001b[0;32m<ipython-input-96-0f1ec0c1e606>\u001b[0m in \u001b[0;36msor\u001b[0;34m(A, b, ω, tol, maxiters, plot, out)\u001b[0m\n\u001b[1;32m     14\u001b[0m             \u001b[0mx_pr\u001b[0m\u001b[0;34m[\u001b[0m\u001b[0mi\u001b[0m\u001b[0;34m]\u001b[0m \u001b[0;34m=\u001b[0m \u001b[0mx_pr\u001b[0m\u001b[0;34m[\u001b[0m\u001b[0mi\u001b[0m\u001b[0;34m]\u001b[0m\u001b[0;34m+\u001b[0m\u001b[0;34m(\u001b[0m\u001b[0mω\u001b[0m\u001b[0;34m/\u001b[0m\u001b[0mA\u001b[0m\u001b[0;34m[\u001b[0m\u001b[0mi\u001b[0m\u001b[0;34m,\u001b[0m\u001b[0mi\u001b[0m\u001b[0;34m]\u001b[0m\u001b[0;34m)\u001b[0m\u001b[0;34m*\u001b[0m\u001b[0;34m(\u001b[0m\u001b[0mb\u001b[0m\u001b[0;34m[\u001b[0m\u001b[0mi\u001b[0m\u001b[0;34m]\u001b[0m\u001b[0;34m-\u001b[0m\u001b[0mA\u001b[0m\u001b[0;34m[\u001b[0m\u001b[0mi\u001b[0m\u001b[0;34m,\u001b[0m\u001b[0;34m:\u001b[0m\u001b[0;34m]\u001b[0m\u001b[0;34m.\u001b[0m\u001b[0mT\u001b[0m\u001b[0;34m@\u001b[0m\u001b[0mx_pr\u001b[0m\u001b[0;34m)\u001b[0m\u001b[0;34m\u001b[0m\u001b[0m\n\u001b[1;32m     15\u001b[0m \u001b[0;34m\u001b[0m\u001b[0m\n\u001b[0;32m---> 16\u001b[0;31m         \u001b[0mε_vec\u001b[0m\u001b[0;34m[\u001b[0m\u001b[0mk\u001b[0m\u001b[0;34m]\u001b[0m \u001b[0;34m=\u001b[0m \u001b[0mnorm\u001b[0m\u001b[0;34m(\u001b[0m\u001b[0mx_pr\u001b[0m\u001b[0;34m-\u001b[0m\u001b[0mx\u001b[0m\u001b[0;34m,\u001b[0m\u001b[0;36m1e15\u001b[0m\u001b[0;34m)\u001b[0m\u001b[0;34m\u001b[0m\u001b[0m\n\u001b[0m\u001b[1;32m     17\u001b[0m \u001b[0;34m\u001b[0m\u001b[0m\n\u001b[1;32m     18\u001b[0m         \u001b[0mε\u001b[0m\u001b[0;34m=\u001b[0m\u001b[0mε_vec\u001b[0m\u001b[0;34m[\u001b[0m\u001b[0mk\u001b[0m\u001b[0;34m]\u001b[0m\u001b[0;34m\u001b[0m\u001b[0m\n",
      "\u001b[0;31mTypeError\u001b[0m: float() argument must be a string or a number, not 'rv_frozen'"
     ]
    }
   ],
   "source": [
    "test3()"
   ]
  },
  {
   "cell_type": "markdown",
   "metadata": {},
   "source": [
    "Same issue :("
   ]
  },
  {
   "cell_type": "markdown",
   "metadata": {},
   "source": [
    "## Exercise 6. {-}"
   ]
  },
  {
   "cell_type": "code",
   "execution_count": 99,
   "metadata": {},
   "outputs": [],
   "source": [
    "def laplace_sor(n,ω,tol=TOL,maxiters=MAXITERS,plot=False,out=True):\n",
    "    \n",
    "    A = -4*np.eye(n**2)+np.eye(n**2,k=1)+np.eye(n**2,k=-1)+np.eye(n**2,k=-n)+np.eye(n**2,k=n)\n",
    "    b = np.zeros(n)\n",
    "    \n",
    "    b[0] = -100\n",
    "    b[-1] = -100\n",
    "    \n",
    "    b = np.tile(b,n)\n",
    "    \n",
    "    u_vec,ks,conv_bool = sor(A,b,ω,tol=tol,maxiters=maxiters,plot=plot,out=out)\n",
    "    u_vec = u_vec.reshape(n,n)\n",
    "\n",
    "    if plot:\n",
    "        plt.pcolormesh(u,cmap=\"viridis\")\n",
    "        plt.show()\n",
    "        \n",
    "    return u,ks,conv_bool"
   ]
  },
  {
   "cell_type": "code",
   "execution_count": 100,
   "metadata": {},
   "outputs": [],
   "source": [
    "def test4():\n",
    "    laplace_sor(50,2,plot=True)"
   ]
  },
  {
   "cell_type": "code",
   "execution_count": 101,
   "metadata": {},
   "outputs": [
    {
     "ename": "TypeError",
     "evalue": "float() argument must be a string or a number, not 'rv_frozen'",
     "output_type": "error",
     "traceback": [
      "\u001b[0;31m---------------------------------------------------------------------------\u001b[0m",
      "\u001b[0;31mTypeError\u001b[0m                                 Traceback (most recent call last)",
      "\u001b[0;32m<ipython-input-101-f342c205893c>\u001b[0m in \u001b[0;36m<module>\u001b[0;34m()\u001b[0m\n\u001b[0;32m----> 1\u001b[0;31m \u001b[0mtest4\u001b[0m\u001b[0;34m(\u001b[0m\u001b[0;34m)\u001b[0m\u001b[0;34m\u001b[0m\u001b[0m\n\u001b[0m",
      "\u001b[0;32m<ipython-input-100-1ff1f07e9f0d>\u001b[0m in \u001b[0;36mtest4\u001b[0;34m()\u001b[0m\n\u001b[1;32m      1\u001b[0m \u001b[0;32mdef\u001b[0m \u001b[0mtest4\u001b[0m\u001b[0;34m(\u001b[0m\u001b[0;34m)\u001b[0m\u001b[0;34m:\u001b[0m\u001b[0;34m\u001b[0m\u001b[0m\n\u001b[0;32m----> 2\u001b[0;31m     \u001b[0mlaplace_sor\u001b[0m\u001b[0;34m(\u001b[0m\u001b[0;36m50\u001b[0m\u001b[0;34m,\u001b[0m\u001b[0;36m2\u001b[0m\u001b[0;34m,\u001b[0m\u001b[0mplot\u001b[0m\u001b[0;34m=\u001b[0m\u001b[0;32mTrue\u001b[0m\u001b[0;34m)\u001b[0m\u001b[0;34m\u001b[0m\u001b[0m\n\u001b[0m",
      "\u001b[0;32m<ipython-input-99-6185c04a6ffa>\u001b[0m in \u001b[0;36mlaplace_sor\u001b[0;34m(n, ω, tol, maxiters, plot, out)\u001b[0m\n\u001b[1;32m      9\u001b[0m     \u001b[0mb\u001b[0m \u001b[0;34m=\u001b[0m \u001b[0mnp\u001b[0m\u001b[0;34m.\u001b[0m\u001b[0mtile\u001b[0m\u001b[0;34m(\u001b[0m\u001b[0mb\u001b[0m\u001b[0;34m,\u001b[0m\u001b[0mn\u001b[0m\u001b[0;34m)\u001b[0m\u001b[0;34m\u001b[0m\u001b[0m\n\u001b[1;32m     10\u001b[0m \u001b[0;34m\u001b[0m\u001b[0m\n\u001b[0;32m---> 11\u001b[0;31m     \u001b[0mu_vec\u001b[0m\u001b[0;34m,\u001b[0m\u001b[0mks\u001b[0m\u001b[0;34m,\u001b[0m\u001b[0mconv_bool\u001b[0m \u001b[0;34m=\u001b[0m \u001b[0msor\u001b[0m\u001b[0;34m(\u001b[0m\u001b[0mA\u001b[0m\u001b[0;34m,\u001b[0m\u001b[0mb\u001b[0m\u001b[0;34m,\u001b[0m\u001b[0mω\u001b[0m\u001b[0;34m,\u001b[0m\u001b[0mtol\u001b[0m\u001b[0;34m=\u001b[0m\u001b[0mtol\u001b[0m\u001b[0;34m,\u001b[0m\u001b[0mmaxiters\u001b[0m\u001b[0;34m=\u001b[0m\u001b[0mmaxiters\u001b[0m\u001b[0;34m,\u001b[0m\u001b[0mplot\u001b[0m\u001b[0;34m=\u001b[0m\u001b[0mplot\u001b[0m\u001b[0;34m,\u001b[0m\u001b[0mout\u001b[0m\u001b[0;34m=\u001b[0m\u001b[0mout\u001b[0m\u001b[0;34m)\u001b[0m\u001b[0;34m\u001b[0m\u001b[0m\n\u001b[0m\u001b[1;32m     12\u001b[0m     \u001b[0mu_vec\u001b[0m \u001b[0;34m=\u001b[0m \u001b[0mu_vec\u001b[0m\u001b[0;34m.\u001b[0m\u001b[0mreshape\u001b[0m\u001b[0;34m(\u001b[0m\u001b[0mn\u001b[0m\u001b[0;34m,\u001b[0m\u001b[0mn\u001b[0m\u001b[0;34m)\u001b[0m\u001b[0;34m\u001b[0m\u001b[0m\n\u001b[1;32m     13\u001b[0m \u001b[0;34m\u001b[0m\u001b[0m\n",
      "\u001b[0;32m<ipython-input-96-0f1ec0c1e606>\u001b[0m in \u001b[0;36msor\u001b[0;34m(A, b, ω, tol, maxiters, plot, out)\u001b[0m\n\u001b[1;32m     14\u001b[0m             \u001b[0mx_pr\u001b[0m\u001b[0;34m[\u001b[0m\u001b[0mi\u001b[0m\u001b[0;34m]\u001b[0m \u001b[0;34m=\u001b[0m \u001b[0mx_pr\u001b[0m\u001b[0;34m[\u001b[0m\u001b[0mi\u001b[0m\u001b[0;34m]\u001b[0m\u001b[0;34m+\u001b[0m\u001b[0;34m(\u001b[0m\u001b[0mω\u001b[0m\u001b[0;34m/\u001b[0m\u001b[0mA\u001b[0m\u001b[0;34m[\u001b[0m\u001b[0mi\u001b[0m\u001b[0;34m,\u001b[0m\u001b[0mi\u001b[0m\u001b[0;34m]\u001b[0m\u001b[0;34m)\u001b[0m\u001b[0;34m*\u001b[0m\u001b[0;34m(\u001b[0m\u001b[0mb\u001b[0m\u001b[0;34m[\u001b[0m\u001b[0mi\u001b[0m\u001b[0;34m]\u001b[0m\u001b[0;34m-\u001b[0m\u001b[0mA\u001b[0m\u001b[0;34m[\u001b[0m\u001b[0mi\u001b[0m\u001b[0;34m,\u001b[0m\u001b[0;34m:\u001b[0m\u001b[0;34m]\u001b[0m\u001b[0;34m.\u001b[0m\u001b[0mT\u001b[0m\u001b[0;34m@\u001b[0m\u001b[0mx_pr\u001b[0m\u001b[0;34m)\u001b[0m\u001b[0;34m\u001b[0m\u001b[0m\n\u001b[1;32m     15\u001b[0m \u001b[0;34m\u001b[0m\u001b[0m\n\u001b[0;32m---> 16\u001b[0;31m         \u001b[0mε_vec\u001b[0m\u001b[0;34m[\u001b[0m\u001b[0mk\u001b[0m\u001b[0;34m]\u001b[0m \u001b[0;34m=\u001b[0m \u001b[0mnorm\u001b[0m\u001b[0;34m(\u001b[0m\u001b[0mx_pr\u001b[0m\u001b[0;34m-\u001b[0m\u001b[0mx\u001b[0m\u001b[0;34m,\u001b[0m\u001b[0;36m1e15\u001b[0m\u001b[0;34m)\u001b[0m\u001b[0;34m\u001b[0m\u001b[0m\n\u001b[0m\u001b[1;32m     17\u001b[0m \u001b[0;34m\u001b[0m\u001b[0m\n\u001b[1;32m     18\u001b[0m         \u001b[0mε\u001b[0m\u001b[0;34m=\u001b[0m\u001b[0mε_vec\u001b[0m\u001b[0;34m[\u001b[0m\u001b[0mk\u001b[0m\u001b[0;34m]\u001b[0m\u001b[0;34m\u001b[0m\u001b[0m\n",
      "\u001b[0;31mTypeError\u001b[0m: float() argument must be a string or a number, not 'rv_frozen'"
     ]
    }
   ],
   "source": [
    "test4()"
   ]
  },
  {
   "cell_type": "markdown",
   "metadata": {},
   "source": [
    "_Same error again!_"
   ]
  },
  {
   "cell_type": "markdown",
   "metadata": {},
   "source": [
    "## Exercise 7. {-}"
   ]
  },
  {
   "cell_type": "code",
   "execution_count": 102,
   "metadata": {},
   "outputs": [],
   "source": [
    "def p7():\n",
    "    \n",
    "    ω_2 = np.linspace(1,1.95,20)\n",
    "    ks = np.nan*np.ones_like(ω_2)\n",
    "    n=20\n",
    "\n",
    "    for i in range(len(ω_2)):\n",
    "        s = laplace_sor(n,ω_2[i],tol=1e-2,maxiters=1000,out=False)\n",
    "        if s[2]: ks[i]=s[1]\n",
    "            \n",
    "    plt.plot(ω_2,ks)\n",
    "    plt.xlabel(\"$\\omega$\")\n",
    "    plt.ylabel(\"$k$\")\n",
    "    plt.title(\"relaxation\")\n",
    "    \n",
    "    plt.show()"
   ]
  },
  {
   "cell_type": "code",
   "execution_count": 103,
   "metadata": {
    "scrolled": true
   },
   "outputs": [
    {
     "ename": "TypeError",
     "evalue": "float() argument must be a string or a number, not 'rv_frozen'",
     "output_type": "error",
     "traceback": [
      "\u001b[0;31m---------------------------------------------------------------------------\u001b[0m",
      "\u001b[0;31mTypeError\u001b[0m                                 Traceback (most recent call last)",
      "\u001b[0;32m<ipython-input-103-78fbeaa3ff26>\u001b[0m in \u001b[0;36m<module>\u001b[0;34m()\u001b[0m\n\u001b[0;32m----> 1\u001b[0;31m \u001b[0mp7\u001b[0m\u001b[0;34m(\u001b[0m\u001b[0;34m)\u001b[0m\u001b[0;34m\u001b[0m\u001b[0m\n\u001b[0m",
      "\u001b[0;32m<ipython-input-102-62205716663e>\u001b[0m in \u001b[0;36mp7\u001b[0;34m()\u001b[0m\n\u001b[1;32m      6\u001b[0m \u001b[0;34m\u001b[0m\u001b[0m\n\u001b[1;32m      7\u001b[0m     \u001b[0;32mfor\u001b[0m \u001b[0mi\u001b[0m \u001b[0;32min\u001b[0m \u001b[0mrange\u001b[0m\u001b[0;34m(\u001b[0m\u001b[0mlen\u001b[0m\u001b[0;34m(\u001b[0m\u001b[0mω_2\u001b[0m\u001b[0;34m)\u001b[0m\u001b[0;34m)\u001b[0m\u001b[0;34m:\u001b[0m\u001b[0;34m\u001b[0m\u001b[0m\n\u001b[0;32m----> 8\u001b[0;31m         \u001b[0ms\u001b[0m \u001b[0;34m=\u001b[0m \u001b[0mlaplace_sor\u001b[0m\u001b[0;34m(\u001b[0m\u001b[0mn\u001b[0m\u001b[0;34m,\u001b[0m\u001b[0mω_2\u001b[0m\u001b[0;34m[\u001b[0m\u001b[0mi\u001b[0m\u001b[0;34m]\u001b[0m\u001b[0;34m,\u001b[0m\u001b[0mtol\u001b[0m\u001b[0;34m=\u001b[0m\u001b[0;36m1e-2\u001b[0m\u001b[0;34m,\u001b[0m\u001b[0mmaxiters\u001b[0m\u001b[0;34m=\u001b[0m\u001b[0;36m1000\u001b[0m\u001b[0;34m,\u001b[0m\u001b[0mout\u001b[0m\u001b[0;34m=\u001b[0m\u001b[0;32mFalse\u001b[0m\u001b[0;34m)\u001b[0m\u001b[0;34m\u001b[0m\u001b[0m\n\u001b[0m\u001b[1;32m      9\u001b[0m         \u001b[0;32mif\u001b[0m \u001b[0ms\u001b[0m\u001b[0;34m[\u001b[0m\u001b[0;36m2\u001b[0m\u001b[0;34m]\u001b[0m\u001b[0;34m:\u001b[0m \u001b[0mks\u001b[0m\u001b[0;34m[\u001b[0m\u001b[0mi\u001b[0m\u001b[0;34m]\u001b[0m\u001b[0;34m=\u001b[0m\u001b[0ms\u001b[0m\u001b[0;34m[\u001b[0m\u001b[0;36m1\u001b[0m\u001b[0;34m]\u001b[0m\u001b[0;34m\u001b[0m\u001b[0m\n\u001b[1;32m     10\u001b[0m \u001b[0;34m\u001b[0m\u001b[0m\n",
      "\u001b[0;32m<ipython-input-99-6185c04a6ffa>\u001b[0m in \u001b[0;36mlaplace_sor\u001b[0;34m(n, ω, tol, maxiters, plot, out)\u001b[0m\n\u001b[1;32m      9\u001b[0m     \u001b[0mb\u001b[0m \u001b[0;34m=\u001b[0m \u001b[0mnp\u001b[0m\u001b[0;34m.\u001b[0m\u001b[0mtile\u001b[0m\u001b[0;34m(\u001b[0m\u001b[0mb\u001b[0m\u001b[0;34m,\u001b[0m\u001b[0mn\u001b[0m\u001b[0;34m)\u001b[0m\u001b[0;34m\u001b[0m\u001b[0m\n\u001b[1;32m     10\u001b[0m \u001b[0;34m\u001b[0m\u001b[0m\n\u001b[0;32m---> 11\u001b[0;31m     \u001b[0mu_vec\u001b[0m\u001b[0;34m,\u001b[0m\u001b[0mks\u001b[0m\u001b[0;34m,\u001b[0m\u001b[0mconv_bool\u001b[0m \u001b[0;34m=\u001b[0m \u001b[0msor\u001b[0m\u001b[0;34m(\u001b[0m\u001b[0mA\u001b[0m\u001b[0;34m,\u001b[0m\u001b[0mb\u001b[0m\u001b[0;34m,\u001b[0m\u001b[0mω\u001b[0m\u001b[0;34m,\u001b[0m\u001b[0mtol\u001b[0m\u001b[0;34m=\u001b[0m\u001b[0mtol\u001b[0m\u001b[0;34m,\u001b[0m\u001b[0mmaxiters\u001b[0m\u001b[0;34m=\u001b[0m\u001b[0mmaxiters\u001b[0m\u001b[0;34m,\u001b[0m\u001b[0mplot\u001b[0m\u001b[0;34m=\u001b[0m\u001b[0mplot\u001b[0m\u001b[0;34m,\u001b[0m\u001b[0mout\u001b[0m\u001b[0;34m=\u001b[0m\u001b[0mout\u001b[0m\u001b[0;34m)\u001b[0m\u001b[0;34m\u001b[0m\u001b[0m\n\u001b[0m\u001b[1;32m     12\u001b[0m     \u001b[0mu_vec\u001b[0m \u001b[0;34m=\u001b[0m \u001b[0mu_vec\u001b[0m\u001b[0;34m.\u001b[0m\u001b[0mreshape\u001b[0m\u001b[0;34m(\u001b[0m\u001b[0mn\u001b[0m\u001b[0;34m,\u001b[0m\u001b[0mn\u001b[0m\u001b[0;34m)\u001b[0m\u001b[0;34m\u001b[0m\u001b[0m\n\u001b[1;32m     13\u001b[0m \u001b[0;34m\u001b[0m\u001b[0m\n",
      "\u001b[0;32m<ipython-input-96-0f1ec0c1e606>\u001b[0m in \u001b[0;36msor\u001b[0;34m(A, b, ω, tol, maxiters, plot, out)\u001b[0m\n\u001b[1;32m     14\u001b[0m             \u001b[0mx_pr\u001b[0m\u001b[0;34m[\u001b[0m\u001b[0mi\u001b[0m\u001b[0;34m]\u001b[0m \u001b[0;34m=\u001b[0m \u001b[0mx_pr\u001b[0m\u001b[0;34m[\u001b[0m\u001b[0mi\u001b[0m\u001b[0;34m]\u001b[0m\u001b[0;34m+\u001b[0m\u001b[0;34m(\u001b[0m\u001b[0mω\u001b[0m\u001b[0;34m/\u001b[0m\u001b[0mA\u001b[0m\u001b[0;34m[\u001b[0m\u001b[0mi\u001b[0m\u001b[0;34m,\u001b[0m\u001b[0mi\u001b[0m\u001b[0;34m]\u001b[0m\u001b[0;34m)\u001b[0m\u001b[0;34m*\u001b[0m\u001b[0;34m(\u001b[0m\u001b[0mb\u001b[0m\u001b[0;34m[\u001b[0m\u001b[0mi\u001b[0m\u001b[0;34m]\u001b[0m\u001b[0;34m-\u001b[0m\u001b[0mA\u001b[0m\u001b[0;34m[\u001b[0m\u001b[0mi\u001b[0m\u001b[0;34m,\u001b[0m\u001b[0;34m:\u001b[0m\u001b[0;34m]\u001b[0m\u001b[0;34m.\u001b[0m\u001b[0mT\u001b[0m\u001b[0;34m@\u001b[0m\u001b[0mx_pr\u001b[0m\u001b[0;34m)\u001b[0m\u001b[0;34m\u001b[0m\u001b[0m\n\u001b[1;32m     15\u001b[0m \u001b[0;34m\u001b[0m\u001b[0m\n\u001b[0;32m---> 16\u001b[0;31m         \u001b[0mε_vec\u001b[0m\u001b[0;34m[\u001b[0m\u001b[0mk\u001b[0m\u001b[0;34m]\u001b[0m \u001b[0;34m=\u001b[0m \u001b[0mnorm\u001b[0m\u001b[0;34m(\u001b[0m\u001b[0mx_pr\u001b[0m\u001b[0;34m-\u001b[0m\u001b[0mx\u001b[0m\u001b[0;34m,\u001b[0m\u001b[0;36m1e15\u001b[0m\u001b[0;34m)\u001b[0m\u001b[0;34m\u001b[0m\u001b[0m\n\u001b[0m\u001b[1;32m     17\u001b[0m \u001b[0;34m\u001b[0m\u001b[0m\n\u001b[1;32m     18\u001b[0m         \u001b[0mε\u001b[0m\u001b[0;34m=\u001b[0m\u001b[0mε_vec\u001b[0m\u001b[0;34m[\u001b[0m\u001b[0mk\u001b[0m\u001b[0;34m]\u001b[0m\u001b[0;34m\u001b[0m\u001b[0m\n",
      "\u001b[0;31mTypeError\u001b[0m: float() argument must be a string or a number, not 'rv_frozen'"
     ]
    }
   ],
   "source": [
    "p7()"
   ]
  },
  {
   "cell_type": "markdown",
   "metadata": {},
   "source": [
    "_Same error again..._"
   ]
  },
  {
   "cell_type": "markdown",
   "metadata": {},
   "source": [
    "_Did not have enough time to finish the rest of the assignment._"
   ]
  },
  {
   "cell_type": "code",
   "execution_count": null,
   "metadata": {},
   "outputs": [],
   "source": []
  }
 ],
 "metadata": {
  "kernelspec": {
   "display_name": "Python 3",
   "language": "python",
   "name": "python3"
  },
  "language_info": {
   "codemirror_mode": {
    "name": "ipython",
    "version": 3
   },
   "file_extension": ".py",
   "mimetype": "text/x-python",
   "name": "python",
   "nbconvert_exporter": "python",
   "pygments_lexer": "ipython3",
   "version": "3.6.5"
  }
 },
 "nbformat": 4,
 "nbformat_minor": 2
}
