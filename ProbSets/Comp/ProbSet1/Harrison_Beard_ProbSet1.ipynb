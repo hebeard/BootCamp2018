{
 "cells": [
  {
   "cell_type": "markdown",
   "metadata": {},
   "source": [
    "# Intro to NumPy"
   ]
  },
  {
   "cell_type": "markdown",
   "metadata": {},
   "source": [
    "Note: If any of the lines of code are too long to fit on the page, then please reference the $\\mathtt{.py}$ or the $\\mathtt{.tex}$ file with this same title, in this directory."
   ]
  },
  {
   "cell_type": "markdown",
   "metadata": {},
   "source": [
    "## Problem 1 {-}"
   ]
  },
  {
   "cell_type": "code",
   "execution_count": 3,
   "metadata": {},
   "outputs": [],
   "source": [
    "import numpy as np\n",
    "\n",
    "### PART 1: INTRO TO NUMPY\n",
    "\n",
    "# Problem 1\n",
    "def problem1_1():\n",
    "    A = np.array([[3, -1,  4], \n",
    "                  [1,  5, -9]])\n",
    "    B = np.array([[2,  6, -5,  3], \n",
    "                  [5, -8,  9,  7], \n",
    "                  [9, -3, -2, -3]])\n",
    "    return np.dot(A, B)"
   ]
  },
  {
   "cell_type": "markdown",
   "metadata": {},
   "source": [
    "## Problem 2 {-}"
   ]
  },
  {
   "cell_type": "code",
   "execution_count": 4,
   "metadata": {},
   "outputs": [],
   "source": [
    "# Problem 2\n",
    "def problem1_2():\n",
    "    A = np.array([[3,  1,  4],\n",
    "                  [1,  5,  9],\n",
    "                  [-5, 3,  1]])\n",
    "    ans = -1 * (np.dot(A, np.dot(A, A))) + 9 * np.dot(A, A) - 15 * A\n",
    "    return ans"
   ]
  },
  {
   "cell_type": "markdown",
   "metadata": {},
   "source": [
    "## Problem 3 {-}"
   ]
  },
  {
   "cell_type": "code",
   "execution_count": 5,
   "metadata": {},
   "outputs": [],
   "source": [
    "# Problem 3\n",
    "def problem1_3():\n",
    "    ones = np.ones((7,7))\n",
    "    A = np.triu(ones)\n",
    "    fives = np.full((7,7), 5) - 5 * np.eye(7)\n",
    "    negOnes = -1 * ones\n",
    "    B = np.triu(fives) + np.tril(negOnes)\n",
    "    ABA = np.dot(A, np.dot(B, A))\n",
    "    ABA = ABA.astype(np.int64)\n",
    "    return ABA"
   ]
  },
  {
   "cell_type": "markdown",
   "metadata": {},
   "source": [
    "## Problem 4 {-}"
   ]
  },
  {
   "cell_type": "code",
   "execution_count": 6,
   "metadata": {},
   "outputs": [],
   "source": [
    "# Problem 4\n",
    "def problem1_4(array):\n",
    "    arrayCopy = array\n",
    "    mask = arrayCopy < 0\n",
    "    arrayCopy[mask] = 0\n",
    "    return arrayCopy"
   ]
  },
  {
   "cell_type": "markdown",
   "metadata": {},
   "source": [
    "## Problem 5 {-}"
   ]
  },
  {
   "cell_type": "code",
   "execution_count": 7,
   "metadata": {},
   "outputs": [],
   "source": [
    "# Problem 5\n",
    "def problem1_5():\n",
    "    A = np.array([[0, 2 ,4],\n",
    "                  [1 ,3 ,5]])\n",
    "    B = np.full((3,3), 3)\n",
    "    B = np.tril(B)\n",
    "    C = -2 * np.eye(3)\n",
    "    row1 = np.hstack((np.zeros((3,3)), A.T, np.eye(3)))\n",
    "    row2 = np.hstack((A, np.zeros((2,2)), np.zeros((2,3))))\n",
    "    row3 = np.hstack((B, np.zeros((3,2)), C))\n",
    "    output = np.vstack((row1, row2, row3))\n",
    "    return output"
   ]
  },
  {
   "cell_type": "markdown",
   "metadata": {},
   "source": [
    "## Problem 6 {-}"
   ]
  },
  {
   "cell_type": "markdown",
   "metadata": {},
   "source": [
    "Transposing worked better than reshaping here."
   ]
  },
  {
   "cell_type": "code",
   "execution_count": 8,
   "metadata": {},
   "outputs": [],
   "source": [
    "# Problem 6\n",
    "def problem1_6(matrix):\n",
    "    return matrix / matrix.sum(axis=1).reshape((2,1))"
   ]
  },
  {
   "cell_type": "markdown",
   "metadata": {},
   "source": [
    "## Problem 7 {-}"
   ]
  },
  {
   "cell_type": "markdown",
   "metadata": {},
   "source": [
    "This is a natural extension to the provided example, for all the four directions."
   ]
  },
  {
   "cell_type": "code",
   "execution_count": 26,
   "metadata": {},
   "outputs": [],
   "source": [
    "# Problem 7\n",
    "def problem1_7():\n",
    "    grid = np.load(\"grid.npy\")\n",
    "    hMax  = np.max(grid[:,:-3]   * grid[:,1:-2]    * grid[:,2:-1]    * grid[:,3:])\n",
    "    vMax  = np.max(grid[:-3,:]   * grid[1:-2,:]    * grid[2:-1,:]    * grid[3:,:])\n",
    "    dMax  = np.max(grid[:-3,:-3] * grid[1:-2,1:-2] * grid[2:-1,2:-1] * grid[3:,3:])\n",
    "    idMax = np.max(grid[:-3,3:] * grid[1:-2,2:-1] * grid[2:-1,1:-2] * grid[3:,:-3])\n",
    "    gMax = max(hMax, vMax, dMax, idMax)\n",
    "    print(\"horizontal max: \" + str(hMax))\n",
    "    print(\"vertical max: \" + str(vMax))\n",
    "    print(\"diagonal (L to R, T to B) max: \" + str(dMax))\n",
    "    print(\"inverse-diagonal (R to L, T to B) max: \" + str(idMax))\n",
    "    print(\"global max: \" + str(gMax))\n",
    "    return gMax"
   ]
  },
  {
   "cell_type": "markdown",
   "metadata": {},
   "source": [
    "# Standard Library"
   ]
  },
  {
   "cell_type": "markdown",
   "metadata": {},
   "source": [
    "## Problem 1 {-}"
   ]
  },
  {
   "cell_type": "markdown",
   "metadata": {},
   "source": [
    "Returning in one line as a tuple, we have:"
   ]
  },
  {
   "cell_type": "code",
   "execution_count": 11,
   "metadata": {},
   "outputs": [],
   "source": [
    "### PART 2: STANDARD LIBRARY\n",
    "\n",
    "# Problem 1\n",
    "def problem2_1(L):\n",
    "    return (min(L), max(L), sum(L)/len(L)) # (min, max, avg)"
   ]
  },
  {
   "cell_type": "markdown",
   "metadata": {},
   "source": [
    "## Problem 2 {-}"
   ]
  },
  {
   "cell_type": "code",
   "execution_count": 58,
   "metadata": {},
   "outputs": [],
   "source": [
    "# Problem 2\n",
    "def problem2_2():\n",
    "    int_1 = 5\n",
    "    int_2 = int_1\n",
    "    int_2 += 1\n",
    "    print(\"Integers are mutable: \" + str(int_1 == int_2))\n",
    "\n",
    "    str_1 = \"hello\"\n",
    "    str_2 = str_1\n",
    "    str_2 += \" world\"\n",
    "    print(\"Strings are mutable: \" + str(str_1 == str_2))\n",
    "    \n",
    "    list_1 = [1,2,3]\n",
    "    list_2 = list_1\n",
    "    list_2 += [4]\n",
    "    print(\"Lists are mutable: \" + str(list_1 == list_2))\n",
    "\n",
    "    tuple_1 = (1,2,3)\n",
    "    tuple_2 = tuple_1\n",
    "    tuple_2 += (4,)\n",
    "    print(\"Tuples are mutable: \" + str(tuple_1 == tuple_2))\n",
    "\n",
    "    set_1 = {1,2,3}\n",
    "    set_2 = set_1\n",
    "    set_2.add(4)\n",
    "    print(\"Sets are mutable: \" + str(set_1 == set_2))"
   ]
  },
  {
   "cell_type": "markdown",
   "metadata": {},
   "source": [
    "The result:"
   ]
  },
  {
   "cell_type": "code",
   "execution_count": 59,
   "metadata": {},
   "outputs": [
    {
     "name": "stdout",
     "output_type": "stream",
     "text": [
      "Integers are mutable: False\n",
      "Strings are mutable: False\n",
      "Lists are mutable: True\n",
      "Tuples are mutable: False\n",
      "Sets are mutable: True\n"
     ]
    }
   ],
   "source": [
    "problem2_2()"
   ]
  },
  {
   "cell_type": "markdown",
   "metadata": {},
   "source": [
    "## Problem 3 {-}"
   ]
  },
  {
   "cell_type": "code",
   "execution_count": 69,
   "metadata": {},
   "outputs": [],
   "source": [
    "# Calculator.py\n",
    "\n",
    "from math import sqrt\n",
    "\n",
    "def add(a,b):\n",
    "    return a+b\n",
    "\n",
    "def mult(a,b):\n",
    "    return a*b\n",
    "\n",
    "if __name__==\"__main__\":\n",
    "    pass # in case I wanted to execute anything from the command line or interpreter, I would put it here.\n",
    "else:\n",
    "    pass # if it were imported, I would put it the execution code here."
   ]
  },
  {
   "cell_type": "markdown",
   "metadata": {},
   "source": [
    "Now, we implement $\\sqrt{a^2 + b^2}$:"
   ]
  },
  {
   "cell_type": "code",
   "execution_count": 70,
   "metadata": {},
   "outputs": [],
   "source": [
    "# Problem 3\n",
    "import calculator as c\n",
    "def problem2_3(a,b):\n",
    "    return c.sqrt(c.add(c.mult(a,a),c.mult(b,b)))"
   ]
  },
  {
   "cell_type": "markdown",
   "metadata": {},
   "source": [
    "Putting this to the test, we see that $\\sqrt{1^2 + 1^2}$ does ineed equal $\\sqrt{2}$:"
   ]
  },
  {
   "cell_type": "code",
   "execution_count": 72,
   "metadata": {},
   "outputs": [
    {
     "data": {
      "text/plain": [
       "1.4142135623730951"
      ]
     },
     "execution_count": 72,
     "metadata": {},
     "output_type": "execute_result"
    }
   ],
   "source": [
    "problem2_3(1,1)"
   ]
  },
  {
   "cell_type": "markdown",
   "metadata": {},
   "source": [
    "## Problem 4 {-}"
   ]
  },
  {
   "cell_type": "code",
   "execution_count": 39,
   "metadata": {},
   "outputs": [],
   "source": [
    "# Problem 4\n",
    "from itertools import combinations\n",
    "def problem2_4(A):\n",
    "    powerset = []\n",
    "    for i in range(len(A)+1):\n",
    "        subset = combinations(A,i)\n",
    "        powerset += subset\n",
    "    for j in range(len(powerset)):\n",
    "        powerset[j] = set(powerset[j])\n",
    "    return powerset"
   ]
  },
  {
   "cell_type": "markdown",
   "metadata": {},
   "source": [
    "Unfortunately, sets can't contain interables, so we must construct a $\\mathit{list}$ of sets. (Should we call it a power-list instead?)"
   ]
  },
  {
   "cell_type": "markdown",
   "metadata": {},
   "source": [
    "## Problem 5 {-}"
   ]
  },
  {
   "cell_type": "markdown",
   "metadata": {},
   "source": [
    "I decided to challenge myself and implement my own custom-made functions, rather than importing the provided $\\mathtt{box}$ module. See below."
   ]
  },
  {
   "cell_type": "code",
   "execution_count": null,
   "metadata": {},
   "outputs": [],
   "source": [
    "import box\n",
    "import time\n",
    "import sys\n",
    "import random\n",
    "from itertools import combinations\n",
    "\n",
    "def power(A):\n",
    "    \"\"\"\n",
    "    but no emptyset included, since that wouldn't help in this context.\n",
    "    \"\"\"\n",
    "    powerset = []\n",
    "    for i in range(1,len(A)+1):\n",
    "        subset = combinations(A,i)\n",
    "        powerset += subset\n",
    "    for j in range(len(powerset)):\n",
    "        powerset[j] = set(powerset[j])\n",
    "    return powerset\n",
    "\n",
    "def prompt(numbers, startTime, timeLimit, roll):\n",
    "    \"\"\"\n",
    "    Continually prompts the user for numbers to eliminate\n",
    "    \"\"\"\n",
    "    secondsRemaining = round(startTime + timeLimit - time.time(),2)\n",
    "    if secondsRemaining <= 0:\n",
    "        return \"out of time\"\n",
    "    print(\"Seconds left: \" + str(secondsRemaining))\n",
    "    entry = input(\"Numbers to eliminate: \")\n",
    "\n",
    "\n",
    "    numsToEliminate = []\n",
    "    shouldBeSpace = False\n",
    "\n",
    "    numbersAsStrings = []\n",
    "    for j in numbers:\n",
    "        numbersAsStrings.append(str(j))\n",
    "\n",
    "    numsToEliminateAsStrings = []\n",
    "\n",
    "    for i in entry:\n",
    "        if (i != \" \" and shouldBeSpace) or (i not in numbersAsStrings and not shouldBeSpace):\n",
    "            print(\"Invalid input\")\n",
    "            return \"invalid\"\n",
    "        elif not shouldBeSpace:\n",
    "            for k in numsToEliminate:\n",
    "                numsToEliminateAsStrings.append(str(k))\n",
    "            if i in numsToEliminateAsStrings:\n",
    "                print(\"Invalid input\")\n",
    "                return \"invalid\"\n",
    "            else:\n",
    "                numsToEliminate.append(int(i))\n",
    "\n",
    "        shouldBeSpace = not shouldBeSpace\n",
    "\n",
    "    if sum(numsToEliminate) != roll:\n",
    "        print(\"Invalid input\")\n",
    "        return \"invalid\"\n",
    "\n",
    "    return numsToEliminate\n",
    "\n",
    "\n",
    "def main():\n",
    "    \"\"\"\n",
    "    Runs the game. Needs two arguments: a player name and a time limit.\n",
    "    \"\"\"\n",
    "    playerName = sys.argv[1]\n",
    "    timeLimit = float(sys.argv[2])\n",
    "\n",
    "    numbers = set(range(1,10))\n",
    "\n",
    "    numsToEliminate = []\n",
    "\n",
    "    roll = 0\n",
    "\n",
    "    elapsedTime = 0.0\n",
    "\n",
    "    startTime = time.time()\n",
    "\n",
    "    lose = False\n",
    "\n",
    "    while (sum(numbers) > 0) and (not lose):\n",
    "        elapsedTime = time.time() - startTime\n",
    "\n",
    "        possibleChoices = power(numbers)\n",
    "        for i in range(len(possibleChoices)):\n",
    "            possibleChoices[i] = sum(possibleChoices[i])\n",
    "\n",
    "        if elapsedTime > timeLimit:\n",
    "            print(\"Game over!\")\n",
    "            lose = True\n",
    "            break\n",
    "\n",
    "        if sum(numbers) > 6:\n",
    "            roll = random.choice(list(range(1,7))) + random.choice(list(range(1,7)))            \n",
    "        else:\n",
    "            roll = random.choice(list(range(1,7)))\n",
    "\n",
    "        print(\"Numbers left: \" + str(numbers))\n",
    "        print(\"Roll: \" + str(roll))\n",
    "\n",
    "        if roll not in possibleChoices:\n",
    "            print(\"Game over!\\n\")\n",
    "            lose = True\n",
    "            break\n",
    "\n",
    "        invalid = True\n",
    "        while invalid:\n",
    "            numsToEliminate = prompt(numbers, startTime, timeLimit, roll)\n",
    "            print(\"\")\n",
    "            if numsToEliminate == \"invalid\":\n",
    "                invalid = True\n",
    "            elif numsToEliminate == \"out of time\":\n",
    "                print(\"Game over!\\n\")\n",
    "                lose = True\n",
    "                invalid = False\n",
    "            else:\n",
    "                invalid = False\n",
    "        \n",
    "        if not lose:\n",
    "            for i in numsToEliminate:\n",
    "                numbers.remove(i)\n",
    "            \n",
    "    \n",
    "    elapsedTime = time.time() - startTime\n",
    "\n",
    "    if sum(numbers) == 0:\n",
    "        print(\"Score for player \" + playerName + \": \" + str(sum(numbers)) + \" points\")\n",
    "        print(\"Time played: \" + str(round(elapsedTime,2)) + \" seconds\")\n",
    "        print(\"Congratulations!! You shut the box! :)\")\n",
    "\n",
    "    if lose:\n",
    "        print(\"Score for player \" + playerName + \": \" + str(sum(numbers)) + \" points\")\n",
    "        print(\"Time played: \" + str(round(elapsedTime,2)) + \" seconds\")\n",
    "        print(\"Better luck next time! >:)\")\n",
    "\n",
    "\n",
    "if __name__ == \"__main__\" and len(sys.argv) == 3:\n",
    "    main() # only run main() if called from command line or interpreter directly\n",
    "\n",
    "else:\n",
    "    print(\"Exactly two extra command line argument is required\")\n",
    "    print(\"System Arguments:\", sys.argv2)"
   ]
  },
  {
   "cell_type": "markdown",
   "metadata": {},
   "source": [
    "Although this script doesn't seem to work from the Jupyter notebook, it works perfectly when i run it through my shell command line. It's saved as $\\mathtt{standard}\\_\\mathtt{library.py}$ in this directory."
   ]
  },
  {
   "cell_type": "markdown",
   "metadata": {},
   "source": [
    "# Unit Testing"
   ]
  },
  {
   "cell_type": "markdown",
   "metadata": {},
   "source": [
    "## Problem 1 {-}"
   ]
  },
  {
   "cell_type": "markdown",
   "metadata": {},
   "source": [
    "Installing $\\mathtt{pytest}$ and some related packages, using the $\\mathtt{!}$ flag to run BASH:"
   ]
  },
  {
   "cell_type": "code",
   "execution_count": 316,
   "metadata": {
    "scrolled": true
   },
   "outputs": [
    {
     "name": "stdout",
     "output_type": "stream",
     "text": [
      "Requirement already satisfied: msgpack in /anaconda3/lib/python3.6/site-packages (0.5.6)\r\n"
     ]
    }
   ],
   "source": [
    "!pip install msgpack"
   ]
  },
  {
   "cell_type": "code",
   "execution_count": 329,
   "metadata": {
    "scrolled": false
   },
   "outputs": [
    {
     "name": "stdout",
     "output_type": "stream",
     "text": [
      "\n",
      "The following command must be run outside of the IPython shell:\n",
      "\n",
      "    $ pip install -U pytest\n",
      "\n",
      "The Python package manager (pip) can only be used from outside of IPython.\n",
      "Please reissue the `pip` command in a separate terminal or command prompt.\n",
      "\n",
      "See the Python documentation for more information on how to install packages:\n",
      "\n",
      "    https://docs.python.org/3/installing/\n"
     ]
    }
   ],
   "source": [
    "!pip install -U pytest"
   ]
  },
  {
   "cell_type": "raw",
   "metadata": {},
   "source": [
    "Original program:"
   ]
  },
  {
   "cell_type": "code",
   "execution_count": null,
   "metadata": {},
   "outputs": [],
   "source": [
    "# # smallest_factor.py\n",
    "\n",
    "# def smallest_factor(n):\n",
    "#     \"\"\"Return smallest prime factor of pos int n\"\"\"\n",
    "#     if n==1: return 1\n",
    "#     for i in range(2,int(n**.5)):\n",
    "#         if n % i == 0 : return i\n",
    "#     return n"
   ]
  },
  {
   "cell_type": "code",
   "execution_count": 91,
   "metadata": {
    "scrolled": true
   },
   "outputs": [
    {
     "name": "stdout",
     "output_type": "stream",
     "text": [
      "\u001b[1m============================= test session starts ==============================\u001b[0m\n",
      "platform darwin -- Python 3.6.5, pytest-3.6.2, py-1.5.3, pluggy-0.6.0\n",
      "rootdir: /Users/hbeard/Documents/GitHub/BootCamp2018/ProbSets/Comp/ProbSet1, inifile:\n",
      "plugins: remotedata-0.2.1, openfiles-0.3.0, doctestplus-0.1.3, cov-2.5.1, arraydiff-0.2\n",
      "collected 34 items                                                             \u001b[0m\u001b[1m\n",
      "\n",
      "test_fraction.py ........\u001b[36m                                                [ 23%]\u001b[0m\n",
      "test_month_length.py .......\u001b[36m                                             [ 44%]\u001b[0m\n",
      "test_operate.py .......\u001b[36m                                                  [ 64%]\u001b[0m\n",
      "test_setgame.py ......\u001b[36m                                                   [ 82%]\u001b[0m\n",
      "test_smallest_factor.py ......\u001b[36m                                           [100%]\u001b[0m\n",
      "\n",
      "\u001b[32m\u001b[1m========================== 34 passed in 0.13 seconds ===========================\u001b[0m\n"
     ]
    }
   ],
   "source": [
    "!py.test"
   ]
  },
  {
   "cell_type": "markdown",
   "metadata": {},
   "source": [
    "New, corrected program:"
   ]
  },
  {
   "cell_type": "code",
   "execution_count": null,
   "metadata": {},
   "outputs": [],
   "source": [
    "# # smallest_factor.py\n",
    "\n",
    "# def smallest_factor(n):\n",
    "#     \"\"\"Return smallest prime factor of pos int n\"\"\"\n",
    "#     if n==1: return 1\n",
    "#     for i in range(2,int(n**.5)+1):\n",
    "#         if n % i == 0 : return i\n",
    "#     return n"
   ]
  },
  {
   "cell_type": "markdown",
   "metadata": {},
   "source": [
    "What I did here was add one to the upper bound on the $\\mathtt{range()}$ function, since only having $\\mathtt{int(n**.5)}$ would mean that  $\\sqrt{n}$ would be set to $\\lfloor\\sqrt{n}\\rfloor$, which means that Python would index only up to $\\lfloor\\sqrt{n}\\rfloor - 1$; thus, a $\\mathtt{+1}$ was neeeded to justify for that error."
   ]
  },
  {
   "cell_type": "code",
   "execution_count": 344,
   "metadata": {
    "scrolled": false
   },
   "outputs": [
    {
     "name": "stdout",
     "output_type": "stream",
     "text": [
      "\u001b[1m============================= test session starts ==============================\u001b[0m\r\n",
      "platform darwin -- Python 3.6.5, pytest-3.6.2, py-1.5.3, pluggy-0.6.0\r\n",
      "rootdir: /Users/hbeard/Documents/GitHub/BootCamp2018/ProbSets/Comp/ProbSet1, inifile:\r\n",
      "plugins: remotedata-0.2.1, openfiles-0.3.0, doctestplus-0.1.3, arraydiff-0.2\r\n",
      "\u001b[1m\r",
      "collecting 0 items                                                             \u001b[0m\u001b[1m\r",
      "collecting 6 items                                                             \u001b[0m\u001b[1m\r",
      "collected 6 items                                                              \u001b[0m\r\n",
      "\r\n",
      "test_smallest_factor.py ......\u001b[36m                                           [100%]\u001b[0m\r\n",
      "\r\n",
      "\u001b[32m\u001b[1m=========================== 6 passed in 0.02 seconds ===========================\u001b[0m\r\n"
     ]
    }
   ],
   "source": [
    "!py.test"
   ]
  },
  {
   "cell_type": "markdown",
   "metadata": {},
   "source": [
    "Luckily, my correction works!"
   ]
  },
  {
   "cell_type": "markdown",
   "metadata": {},
   "source": [
    "## Problem 2 {-}"
   ]
  },
  {
   "cell_type": "markdown",
   "metadata": {},
   "source": [
    "Testing, we have"
   ]
  },
  {
   "cell_type": "code",
   "execution_count": 351,
   "metadata": {
    "scrolled": true
   },
   "outputs": [
    {
     "name": "stdout",
     "output_type": "stream",
     "text": [
      "\u001b[1m============================= test session starts ==============================\u001b[0m\n",
      "platform darwin -- Python 3.6.5, pytest-3.6.2, py-1.5.3, pluggy-0.6.0\n",
      "rootdir: /Users/hbeard/Documents/GitHub/BootCamp2018/ProbSets/Comp/ProbSet1, inifile:\n",
      "plugins: remotedata-0.2.1, openfiles-0.3.0, doctestplus-0.1.3, cov-2.5.1, arraydiff-0.2\n",
      "collected 6 items                                                              \u001b[0m\u001b[1m\n",
      "\n",
      "test_smallest_factor.py ......\u001b[36m                                           [100%]\u001b[0m\n",
      "\n",
      "---------- coverage: platform darwin, python 3.6.5-final-0 -----------\n",
      "Name                      Stmts   Miss  Cover\n",
      "---------------------------------------------\n",
      "smallest_factor.py            5      0   100%\n",
      "test_smallest_factor.py      13      0   100%\n",
      "---------------------------------------------\n",
      "TOTAL                        18      0   100%\n",
      "\n",
      "\n",
      "\u001b[32m\u001b[1m=========================== 6 passed in 0.05 seconds ===========================\u001b[0m\n"
     ]
    }
   ],
   "source": [
    "!py.test --cov"
   ]
  },
  {
   "cell_type": "markdown",
   "metadata": {},
   "source": [
    "I have 100% coverage, so I need not write additional test cases."
   ]
  },
  {
   "cell_type": "code",
   "execution_count": null,
   "metadata": {},
   "outputs": [],
   "source": [
    "# test_month_length.py\n",
    "\n",
    "import month_length as ml\n",
    "\n",
    "def test_30DayNonLeap():\n",
    "    assert ml.month_length(\"April\") == 30, \"failed on 30-day month \"+\\\n",
    "                                           \" on a non-leap year\"\n",
    "def test_31DayNonLeap():\n",
    "    assert ml.month_length(\"January\") == 31, \"failed on 31-day month \"+\\\n",
    "                                             \" on a non-leap year\"\n",
    "    \n",
    "def test_FebNonLeap():\n",
    "    assert ml.month_length(\"February\") == 28, \"failed on Februrary \"+\\\n",
    "                                               \" on a non-leap year\"\n",
    "\n",
    "def test_30DayLeap():\n",
    "    assert ml.month_length(\"April\",leap_year=True) == 30, \"failed on \"+\\\n",
    "                                            \"30-day month on a leap year\"\n",
    "\n",
    "def test_31DayLeap():\n",
    "    assert ml.month_length(\"January\",leap_year=True) == 31, \"failed on \"+\\\n",
    "                                           \"31-day month on a leap year\"\n",
    "    \n",
    "def test_FebLeap():\n",
    "    assert ml.month_length(\"February\",leap_year=True) == 29, \"failed on \"+\\\n",
    "                                                \"Februrary on a leap year\"\n",
    "\n",
    "def test_notAMonth():\n",
    "    assert ml.month_length(\"X\") == None, \"failed on something that is not a month\""
   ]
  },
  {
   "cell_type": "code",
   "execution_count": 372,
   "metadata": {},
   "outputs": [
    {
     "name": "stdout",
     "output_type": "stream",
     "text": [
      "\u001b[1m============================= test session starts ==============================\u001b[0m\n",
      "platform darwin -- Python 3.6.5, pytest-3.6.2, py-1.5.3, pluggy-0.6.0\n",
      "rootdir: /Users/hbeard/Documents/GitHub/BootCamp2018/ProbSets/Comp/ProbSet1, inifile:\n",
      "plugins: remotedata-0.2.1, openfiles-0.3.0, doctestplus-0.1.3, cov-2.5.1, arraydiff-0.2\n",
      "collected 13 items                                                             \u001b[0m\u001b[1m\n",
      "\n",
      "test_month_length.py .......\u001b[36m                                             [ 53%]\u001b[0m\n",
      "test_smallest_factor.py ......\u001b[36m                                           [100%]\u001b[0m\n",
      "\n",
      "---------- coverage: platform darwin, python 3.6.5-final-0 -----------\n",
      "Name                      Stmts   Miss  Cover\n",
      "---------------------------------------------\n",
      "month_length.py              10      0   100%\n",
      "smallest_factor.py            5      0   100%\n",
      "test_month_length.py         15      0   100%\n",
      "test_smallest_factor.py      13      0   100%\n",
      "---------------------------------------------\n",
      "TOTAL                        43      0   100%\n",
      "\n",
      "\n",
      "\u001b[32m\u001b[1m========================== 13 passed in 0.06 seconds ===========================\u001b[0m\n"
     ]
    }
   ],
   "source": [
    "!py.test --cov"
   ]
  },
  {
   "cell_type": "markdown",
   "metadata": {},
   "source": [
    "Looks like it worked!"
   ]
  },
  {
   "cell_type": "markdown",
   "metadata": {},
   "source": [
    "## Problem 3 {-}"
   ]
  },
  {
   "cell_type": "code",
   "execution_count": null,
   "metadata": {},
   "outputs": [],
   "source": [
    "# test_operate.py\n",
    "\n",
    "import operate as op\n",
    "import pytest\n",
    "\n",
    "def test_typeError():\n",
    "    with pytest.raises(TypeError) as excinfo:\n",
    "        op.operate(1,2,3)\n",
    "    assert excinfo.value.args[0] == \"oper must be a string\"\n",
    "    \n",
    "def test_add():\n",
    "    assert op.operate(8,4,\"+\") == 12, \"failed on '+' operation\"\n",
    "    \n",
    "def test_sub():\n",
    "    assert op.operate(8,4,\"-\") == 4, \"failed on '-' operation\"\n",
    "    \n",
    "def test_mul():\n",
    "    assert op.operate(8,4,\"*\") == 32, \"failed on '*' operation\"\n",
    "    \n",
    "def test_truediv():\n",
    "    assert op.operate(8,4,\"/\") == 2, \"failed on '/' operation\"\n",
    "    \n",
    "def test_zeroDivisionError():\n",
    "    with pytest.raises(ZeroDivisionError) as excinfo:\n",
    "        op.operate(1,0,\"/\")\n",
    "    assert excinfo.value.args[0] == \"division by zero is undefined\"\n",
    "    \n",
    "def test_valueError():\n",
    "    with pytest.raises(ValueError) as excinfo:\n",
    "        op.operate(1,2,\"hello\")\n",
    "    assert excinfo.value.args[0] == \"oper must be one of '+', '/', '-', or '*'\""
   ]
  },
  {
   "cell_type": "code",
   "execution_count": 380,
   "metadata": {},
   "outputs": [
    {
     "name": "stdout",
     "output_type": "stream",
     "text": [
      "\u001b[1m============================= test session starts ==============================\u001b[0m\n",
      "platform darwin -- Python 3.6.5, pytest-3.6.2, py-1.5.3, pluggy-0.6.0\n",
      "rootdir: /Users/hbeard/Documents/GitHub/BootCamp2018/ProbSets/Comp/ProbSet1, inifile:\n",
      "plugins: remotedata-0.2.1, openfiles-0.3.0, doctestplus-0.1.3, cov-2.5.1, arraydiff-0.2\n",
      "collected 20 items                                                             \u001b[0m\u001b[1m\n",
      "\n",
      "test_month_length.py .......\u001b[36m                                             [ 35%]\u001b[0m\n",
      "test_operate.py .......\u001b[36m                                                  [ 70%]\u001b[0m\n",
      "test_smallest_factor.py ......\u001b[36m                                           [100%]\u001b[0m\n",
      "\n",
      "---------- coverage: platform darwin, python 3.6.5-final-0 -----------\n",
      "Name                      Stmts   Miss  Cover\n",
      "---------------------------------------------\n",
      "month_length.py              10      0   100%\n",
      "operate.py                   14      0   100%\n",
      "smallest_factor.py            5      0   100%\n",
      "test_month_length.py         15      0   100%\n",
      "test_operate.py              22      0   100%\n",
      "test_smallest_factor.py      13      0   100%\n",
      "---------------------------------------------\n",
      "TOTAL                        79      0   100%\n",
      "\n",
      "\n",
      "\u001b[32m\u001b[1m========================== 20 passed in 0.08 seconds ===========================\u001b[0m\n"
     ]
    }
   ],
   "source": [
    "!py.test --cov"
   ]
  },
  {
   "cell_type": "code",
   "execution_count": 379,
   "metadata": {},
   "outputs": [
    {
     "name": "stdout",
     "output_type": "stream",
     "text": [
      "\u001b[1m============================= test session starts ==============================\u001b[0m\n",
      "platform darwin -- Python 3.6.5, pytest-3.6.2, py-1.5.3, pluggy-0.6.0\n",
      "rootdir: /Users/hbeard/Documents/GitHub/BootCamp2018/ProbSets/Comp/ProbSet1, inifile:\n",
      "plugins: remotedata-0.2.1, openfiles-0.3.0, doctestplus-0.1.3, cov-2.5.1, arraydiff-0.2\n",
      "collected 20 items                                                             \u001b[0m\u001b[1m\n",
      "\n",
      "test_month_length.py .......\u001b[36m                                             [ 35%]\u001b[0m\n",
      "test_operate.py .......\u001b[36m                                                  [ 70%]\u001b[0m\n",
      "test_smallest_factor.py ......\u001b[36m                                           [100%]\u001b[0m\n",
      "\n",
      "---------- coverage: platform darwin, python 3.6.5-final-0 -----------\n",
      "Coverage HTML written to dir htmlcov\n",
      "\n",
      "\n",
      "\u001b[32m\u001b[1m========================== 20 passed in 0.12 seconds ===========================\u001b[0m\n"
     ]
    }
   ],
   "source": [
    "!py.test --cov-report html --cov"
   ]
  },
  {
   "cell_type": "markdown",
   "metadata": {},
   "source": [
    "It looks like it all worked!"
   ]
  },
  {
   "cell_type": "markdown",
   "metadata": {},
   "source": [
    "## Problem 4 {-}"
   ]
  },
  {
   "cell_type": "markdown",
   "metadata": {},
   "source": [
    "First of all, the two errors were in $\\_\\_\\mathtt{add}\\_\\_\\mathtt{()}$ and $\\_\\_\\mathtt{sub}\\_\\_\\mathtt{()}$."
   ]
  },
  {
   "cell_type": "code",
   "execution_count": null,
   "metadata": {},
   "outputs": [],
   "source": [
    "# fraction.py\n",
    "\n",
    "class Fraction(object):\n",
    "    \"\"\"Reduced fraction class with integer numerator and denominator.\"\"\"\n",
    "    def __init__(self, numerator, denominator):\n",
    "        if denominator == 0:\n",
    "            raise ZeroDivisionError(\"denominator cannot be zero\")\n",
    "        elif type(numerator) is not int or type(denominator) is not int:\n",
    "            raise TypeError(\"numerator and denominator must be integers\")\n",
    "        def gcd(a,b):\n",
    "            while b != 0:\n",
    "                a, b = b, a % b\n",
    "            return a\n",
    "        common_factor = gcd(numerator, denominator)\n",
    "        self.numer = numerator // common_factor\n",
    "        self.denom = denominator // common_factor\n",
    "    def __str__(self):\n",
    "        if self.denom != 1:\n",
    "            return \"{} / {}\".format(self.numer, self.denom)\n",
    "        else:\n",
    "            return str(self.numer)\n",
    "    def __float__(self):\n",
    "        return self.numer / self.denom\n",
    "    def __eq__(self, other):\n",
    "        if type(other) is Fraction:\n",
    "            return self.numer==other.numer and self.denom==other.denom\n",
    "        else:\n",
    "            return float(self) == other\n",
    "    def __add__(self, other):\n",
    "        return Fraction(self.numer*other.denom + self.denom*other.numer, self.denom*other.denom)\n",
    "    def __sub__(self, other):\n",
    "        return Fraction(self.numer*other.denom - self.denom*other.numer,\n",
    "    self.denom*other.denom)\n",
    "    def __mul__(self, other):\n",
    "        return Fraction(self.numer*other.numer, self.denom*other.denom)\n",
    "    def __truediv__(self, other):\n",
    "        if self.denom*other.numer == 0:\n",
    "            raise ZeroDivisionError(\"cannot divide by zero\")\n",
    "        return Fraction(self.numer*other.denom, self.denom*other.numer)"
   ]
  },
  {
   "cell_type": "code",
   "execution_count": null,
   "metadata": {},
   "outputs": [],
   "source": [
    "# test_fraction.py\n",
    "\n",
    "import fraction as fr\n",
    "\n",
    "import pytest\n",
    "\n",
    "@pytest.fixture\n",
    "def set_up_fractions():\n",
    "    \"\"\"\n",
    "    Sets up sample fractions for use in the tests.\n",
    "    \"\"\"\n",
    "    frac_1_3 = fr.Fraction(1, 3)\n",
    "    frac_1_2 = fr.Fraction(1, 2)\n",
    "    frac_n2_3 = fr.Fraction(-2, 3)\n",
    "    return frac_1_3, frac_1_2, frac_n2_3\n",
    "\n",
    "def test_fraction_init(set_up_fractions):\n",
    "    \"\"\"\n",
    "    Tests the initialization of Fraction objects.\n",
    "    \"\"\"\n",
    "    frac_1_3, frac_1_2, frac_n2_3 = set_up_fractions\n",
    "    assert frac_1_3.numer == 1\n",
    "    assert frac_1_2.denom == 2\n",
    "    assert frac_n2_3.numer == -2\n",
    "    frac = fr.Fraction(30, 42) # 30/42 reduces to 5/7.\n",
    "    assert frac.numer == 5\n",
    "    assert frac.denom == 7\n",
    "    with pytest.raises(ZeroDivisionError) as excinfo:\n",
    "        fr.Fraction(1,0)\n",
    "    assert excinfo.value.args[0] == \"denominator cannot be zero\"\n",
    "    with pytest.raises(TypeError) as excinfo:\n",
    "        fr.Fraction(1,\"2\")\n",
    "    assert excinfo.value.args[0] == \"numerator and denominator must be integers\"\n",
    "    \n",
    "def test_fraction_str(set_up_fractions):\n",
    "    \"\"\"\n",
    "    Tests the __str__() magic method\n",
    "    \"\"\"\n",
    "    frac_1_3, frac_1_2, frac_n2_3 = set_up_fractions\n",
    "    assert str(frac_1_3) == \"1 / 3\"\n",
    "    assert str(frac_1_2) == \"1 / 2\"\n",
    "    assert str(frac_n2_3) == \"-2 / 3\"\n",
    "    assert str(fr.Fraction(2,1)) == \"2\"\n",
    "    \n",
    "def test_fraction_float(set_up_fractions):\n",
    "    \"\"\"\n",
    "    Tests the __float__() magic method\n",
    "    \"\"\"\n",
    "    frac_1_3, frac_1_2, frac_n2_3 = set_up_fractions\n",
    "    assert float(frac_1_3) == 1 / 3.\n",
    "    assert float(frac_1_2) == .5\n",
    "    assert float(frac_n2_3) == -2 / 3.\n",
    "    assert float(frac_1_3) == frac_1_3.numer / frac_1_3.denom\n",
    "    \n",
    "def test_fraction_eq(set_up_fractions):\n",
    "    \"\"\"\n",
    "    Tests the __eq__() magic method\n",
    "    \"\"\"\n",
    "    frac_1_3, frac_1_2, frac_n2_3 = set_up_fractions\n",
    "    assert frac_1_2 == fr.Fraction(1, 2)\n",
    "    assert frac_1_3 == fr.Fraction(2, 6)\n",
    "    assert frac_n2_3 == fr.Fraction(8, -12)\n",
    "    other = fr.Fraction(1, 2)\n",
    "    assert (frac_1_2 == other) == (frac_1_2.numer == other.numer) and \\\n",
    "           (frac_1_2.denom == other.denom)\n",
    "    assert (frac_1_2 == .5) == (float(frac_1_2) == .5)\n",
    "    \n",
    "def test_fraction_add(set_up_fractions):\n",
    "    \"\"\"\n",
    "    Tests the __add__() magic method\n",
    "    \"\"\"\n",
    "    frac_1_3, frac_1_2, frac_n2_3 = set_up_fractions\n",
    "    assert frac_1_2 + frac_1_3 == fr.Fraction(frac_1_2.numer * frac_1_3.denom + \\\n",
    "                                              frac_1_2.denom * frac_1_3.numer, \\\n",
    "                                              frac_1_2.denom * frac_1_3.denom)\n",
    "    assert frac_n2_3 + frac_1_2 == fr.Fraction(frac_n2_3.numer * frac_1_2.denom + \\\n",
    "                                              frac_n2_3.denom * frac_1_2.numer, \\\n",
    "                                              frac_n2_3.denom * frac_1_2.denom)\n",
    "    \n",
    "def test_fraction_sub(set_up_fractions):\n",
    "    \"\"\"\n",
    "    Tests the __sub__() magic method\n",
    "    \"\"\"\n",
    "    frac_1_3, frac_1_2, frac_n2_3 = set_up_fractions\n",
    "    assert frac_1_2 - frac_1_3 == fr.Fraction(frac_1_2.numer * frac_1_3.denom - \\\n",
    "                                              frac_1_2.denom * frac_1_3.numer, \\\n",
    "                                              frac_1_2.denom * frac_1_3.denom)\n",
    "    assert frac_n2_3 - frac_1_2 == fr.Fraction(frac_n2_3.numer * frac_1_2.denom - \\\n",
    "                                              frac_n2_3.denom * frac_1_2.numer, \\\n",
    "                                              frac_n2_3.denom * frac_1_2.denom)\n",
    "    \n",
    "def test_fraction_mul(set_up_fractions):\n",
    "    \"\"\"\n",
    "    Tests the __mul__() magic method\n",
    "    \"\"\"\n",
    "    frac_1_3, frac_1_2, frac_n2_3 = set_up_fractions\n",
    "    assert frac_1_2 * frac_1_3 == fr.Fraction(frac_1_2.numer * frac_1_3.numer, \\\n",
    "                                              frac_1_2.denom * frac_1_3.denom)\n",
    "    assert frac_n2_3 * frac_1_2 == fr.Fraction(frac_n2_3.numer * frac_1_2.numer, \\\n",
    "                                              frac_n2_3.denom * frac_1_2.denom)\n",
    "\n",
    "def test_fraction_truediv(set_up_fractions):\n",
    "    \"\"\"\n",
    "    Tests the __truediv__() magic method\n",
    "    \"\"\"\n",
    "    frac_1_3, frac_1_2, frac_n2_3 = set_up_fractions\n",
    "    assert frac_1_2 / frac_1_3 == fr.Fraction(frac_1_2.numer * frac_1_3.denom, \\\n",
    "                                              frac_1_2.denom * frac_1_3.numer)\n",
    "    assert frac_n2_3 / frac_1_2 == fr.Fraction(frac_n2_3.numer * frac_1_2.denom, \\\n",
    "                                              frac_n2_3.denom * frac_1_2.numer)\n",
    "    with pytest.raises(ZeroDivisionError) as excinfo:\n",
    "        frac_1_3 / fr.Fraction(0,1)\n",
    "    assert excinfo.value.args[0] == \"cannot divide by zero\""
   ]
  },
  {
   "cell_type": "code",
   "execution_count": 398,
   "metadata": {
    "scrolled": false
   },
   "outputs": [
    {
     "name": "stdout",
     "output_type": "stream",
     "text": [
      "\u001b[1m============================= test session starts ==============================\u001b[0m\n",
      "platform darwin -- Python 3.6.5, pytest-3.6.2, py-1.5.3, pluggy-0.6.0\n",
      "rootdir: /Users/hbeard/Documents/GitHub/BootCamp2018/ProbSets/Comp/ProbSet1, inifile:\n",
      "plugins: remotedata-0.2.1, openfiles-0.3.0, doctestplus-0.1.3, cov-2.5.1, arraydiff-0.2\n",
      "collected 28 items                                                             \u001b[0m\u001b[1m\n",
      "\n",
      "test_fraction.py ........\u001b[36m                                                [ 28%]\u001b[0m\n",
      "test_month_length.py .......\u001b[36m                                             [ 53%]\u001b[0m\n",
      "test_operate.py .......\u001b[36m                                                  [ 78%]\u001b[0m\n",
      "test_smallest_factor.py ......\u001b[36m                                           [100%]\u001b[0m\n",
      "\n",
      "---------- coverage: platform darwin, python 3.6.5-final-0 -----------\n",
      "Name                      Stmts   Miss  Cover\n",
      "---------------------------------------------\n",
      "fraction.py                  33      0   100%\n",
      "month_length.py              10      0   100%\n",
      "operate.py                   14      0   100%\n",
      "smallest_factor.py            5      0   100%\n",
      "test_fraction.py             60      0   100%\n",
      "test_month_length.py         15      0   100%\n",
      "test_operate.py              22      0   100%\n",
      "test_smallest_factor.py      13      0   100%\n",
      "---------------------------------------------\n",
      "TOTAL                       172      0   100%\n",
      "\n",
      "\n",
      "\u001b[32m\u001b[1m========================== 28 passed in 0.27 seconds ===========================\u001b[0m\n"
     ]
    }
   ],
   "source": [
    "!py.test --cov"
   ]
  },
  {
   "cell_type": "code",
   "execution_count": 399,
   "metadata": {
    "scrolled": true
   },
   "outputs": [
    {
     "name": "stdout",
     "output_type": "stream",
     "text": [
      "\u001b[1m============================= test session starts ==============================\u001b[0m\n",
      "platform darwin -- Python 3.6.5, pytest-3.6.2, py-1.5.3, pluggy-0.6.0\n",
      "rootdir: /Users/hbeard/Documents/GitHub/BootCamp2018/ProbSets/Comp/ProbSet1, inifile:\n",
      "plugins: remotedata-0.2.1, openfiles-0.3.0, doctestplus-0.1.3, cov-2.5.1, arraydiff-0.2\n",
      "collected 28 items                                                             \u001b[0m\u001b[1m\u001b[1m\n",
      "\n",
      "test_fraction.py ........\u001b[36m                                                [ 28%]\u001b[0m\n",
      "test_month_length.py .......\u001b[36m                                             [ 53%]\u001b[0m\n",
      "test_operate.py .......\u001b[36m                                                  [ 78%]\u001b[0m\n",
      "test_smallest_factor.py ......\u001b[36m                                           [100%]\u001b[0m\n",
      "\n",
      "---------- coverage: platform darwin, python 3.6.5-final-0 -----------\n",
      "Coverage HTML written to dir htmlcov\n",
      "\n",
      "\n",
      "\u001b[32m\u001b[1m========================== 28 passed in 0.37 seconds ===========================\u001b[0m\n"
     ]
    }
   ],
   "source": [
    "!py.test --cov-report html --cov"
   ]
  },
  {
   "cell_type": "markdown",
   "metadata": {},
   "source": [
    "Looks like the tests were effective!"
   ]
  },
  {
   "cell_type": "markdown",
   "metadata": {},
   "source": [
    "## Problem 5 {-}"
   ]
  },
  {
   "cell_type": "markdown",
   "metadata": {},
   "source": [
    "Here is the unit testing file:"
   ]
  },
  {
   "cell_type": "code",
   "execution_count": null,
   "metadata": {},
   "outputs": [],
   "source": [
    "# test_setgame.py\n",
    "\n",
    "import setgame as s\n",
    "\n",
    "from itertools import combinations\n",
    "\n",
    "import pytest\n",
    "\n",
    "@pytest.fixture\n",
    "def set_up_cards():\n",
    "    \"\"\"\n",
    "    Sets up exemplary hands that could be helpful for unit testing.\n",
    "    \"\"\"\n",
    "    cards_1 = [\"0000\",\"0001\",\"0002\",\"0010\",\n",
    "               \"0011\",\"0012\",\"0020\",\"0021\",\n",
    "               \"0022\",\"0100\",\"0101\",\"0102\"]\n",
    "    cards_2 = [\"1000\",\"1001\",\"1002\",\"1010\",\n",
    "               \"1011\",\"1012\",\"1020\",\"1021\",\n",
    "               \"1022\",\"1100\",\"1101\",\"1102\"]\n",
    "    cards_3 = [\"2000\",\"2001\",\"2002\",\"2010\",\n",
    "               \"2011\",\"2012\",\"2020\",\"2021\",\n",
    "               \"2022\",\"2100\",\"2101\",\"2102\"]\n",
    "    return cards_1, cards_2, cards_3\n",
    "\n",
    "\n",
    "def test_count_sets_ve1():\n",
    "    \"\"\"\n",
    "    Tests for the first kind of ValueError. - using fewer than 12 cards.\n",
    "    \"\"\"\n",
    "    with pytest.raises(ValueError) as excinfo:\n",
    "        s.count_sets([\"0000\"])\n",
    "    assert excinfo.value.args[0] == \"Please enter a list of exactly 12 unique cards, each with 4 digits, each of which being either 0, 1, or 2.\"\n",
    "    \n",
    "def test_count_sets_ve2(set_up_cards):\n",
    "    \"\"\"\n",
    "    Tests for the second kind of ValueError. - using non-unique cards.\n",
    "    \"\"\"\n",
    "    cards_1, cards_2, cards_3 = set_up_cards   \n",
    "    with pytest.raises(ValueError) as excinfo:\n",
    "        s.count_sets([\"0000\",\"0000\",\"0002\",\"0010\",\n",
    "               \"0011\",\"0012\",\"0020\",\"0021\",\n",
    "               \"0022\",\"0100\",\"0101\",\"0102\"])\n",
    "    assert excinfo.value.args[0] == \"Please enter a list of exactly 12 unique cards, each with 4 digits, each of which being either 0, 1, or 2.\"\n",
    "    \n",
    "def test_count_sets_ve3(set_up_cards):\n",
    "    \"\"\"\n",
    "    Tests for the third kind of ValueError. - using strings that aren't four chars long.\n",
    "    \"\"\"\n",
    "    cards_1, cards_2, cards_3 = set_up_cards\n",
    "    with pytest.raises(ValueError) as excinfo:\n",
    "        s.count_sets([\"000\",\"001\",\"002\",\"000\",\n",
    "               \"001\",\"12\",\"000\",\"001\",\n",
    "               \"022\",\"000\",\"0101\",\"00\"])\n",
    "    assert excinfo.value.args[0] == \"Please enter a list of exactly 12 unique cards, each with 4 digits, each of which being either 0, 1, or 2.\"\n",
    "    \n",
    "def test_count_sets_ve4(set_up_cards):\n",
    "    \"\"\"\n",
    "    Tests for the fourth kind of ValueError. - using a digit that's not a 0, 1, or 2.\n",
    "    \"\"\"\n",
    "    cards_1, cards_2, cards_3 = set_up_cards\n",
    "    with pytest.raises(ValueError) as excinfo:\n",
    "        s.count_sets([\"5000\",\"0001\",\"0002\",\"0010\",\n",
    "               \"0011\",\"0012\",\"0020\",\"0021\",\n",
    "               \"0022\",\"0100\",\"0101\",\"0102\"])\n",
    "    assert excinfo.value.args[0] == \"Please enter a list of exactly 12 unique cards, each with 4 digits, each of which being either 0, 1, or 2.\"\n",
    "    \n",
    "\n",
    "def test_count_sets_counting(set_up_cards):\n",
    "    \"\"\"\n",
    "    Tests the count_sets function\n",
    "    \"\"\"\n",
    "    cards_1, cards_2, cards_3 = set_up_cards\n",
    "    sets_1 = 0\n",
    "    sets_2 = 0\n",
    "    sets_3 = 0\n",
    "    for i in combinations(cards_1,3):\n",
    "        if s.is_set(i[0],i[1],i[2]):\n",
    "            sets_1+=1\n",
    "    for i in combinations(cards_2,3):\n",
    "        if s.is_set(i[0],i[1],i[2]):\n",
    "            sets_2+=1\n",
    "    for i in combinations(cards_3,3):\n",
    "        if s.is_set(i[0],i[1],i[2]):\n",
    "            sets_3+=1\n",
    "    \n",
    "    assert s.count_sets(cards_1) == sets_1, \"failed at counting sets\"\n",
    "    assert s.count_sets(cards_2) == sets_2, \"failed at counting sets\"\n",
    "    assert s.count_sets(cards_3) == sets_3, \"failed at counting sets\"\n",
    "    \n",
    "\n",
    "def test_is_set():\n",
    "    \"\"\"\n",
    "    Tests the is_set function\n",
    "    \"\"\"\n",
    "    abc_1 = [\"1001\",\"1001\",\"2002\"] # not a set\n",
    "    abc_2 = [\"1001\",\"1001\",\"2001\"] # not a set\n",
    "    abc_3 = [\"0000\",\"0001\",\"1001\"] # not a set\n",
    "    isset1, isset2, isset3 = True, True, True\n",
    "    for i in range(4):\n",
    "        \n",
    "        print(\"1\")\n",
    "        print(set([abc_1[0][i], abc_1[1][i], abc_1[2][i]]))\n",
    "        if len(set([abc_1[0][i], abc_1[1][i], abc_1[2][i]])) not in [1,3]:\n",
    "            isset1 = False\n",
    "        \n",
    "        print(\"2\")\n",
    "        print(set([abc_2[0][i], abc_2[1][i], abc_2[2][i]]))\n",
    "        if len(set([abc_2[0][i], abc_2[1][i], abc_2[2][i]])) not in [1,3]:\n",
    "            isset2 = False\n",
    "        \n",
    "        print(\"3\")\n",
    "        print(set([abc_3[0][i], abc_3[1][i], abc_3[2][i]]))\n",
    "        if len(set([abc_3[0][i], abc_3[1][i], abc_3[2][i]])) not in [1,3]:\n",
    "            isset3 = False\n",
    "    assert s.is_set(abc_1[0],abc_1[1],abc_1[2]) == isset1, \"failed at determining if a set\"\n",
    "    assert s.is_set(abc_2[0],abc_2[1],abc_2[2]) == isset2, \"failed at determining if a set\"\n",
    "    assert s.is_set(abc_3[0],abc_3[1],abc_3[2]) == isset3, \"failed at determining if a set\""
   ]
  },
  {
   "cell_type": "markdown",
   "metadata": {},
   "source": [
    "## Problem 6 {-}"
   ]
  },
  {
   "cell_type": "markdown",
   "metadata": {},
   "source": [
    "And here is the implementation:"
   ]
  },
  {
   "cell_type": "code",
   "execution_count": null,
   "metadata": {},
   "outputs": [],
   "source": [
    "# setgame.py\n",
    "\n",
    "from itertools import combinations\n",
    "\n",
    "def count_sets(cards):\n",
    "    \"\"\"Return the number of sets in the provided Set hand.\n",
    "    Parameters:\n",
    "    cards (list(str)) a list of twelve cards as 4-bit integers in\n",
    "    base 3 as strings, such as [\"1022\", \"1122\", ..., \"1020\"].\n",
    "    Returns:\n",
    "    (int) The number of sets in the hand.\n",
    "    Raises:\n",
    "    ValueError: if the list does not contain a valid Set hand, meaning\n",
    "    - there are not exactly 12 cards,\n",
    "    - the cards are not all unique,\n",
    "    - one or more cards does not have exactly 4 digits, or\n",
    "    - one or more cards has a character other than 0, 1, or 2.\n",
    "    \"\"\"\n",
    "    for i in cards:\n",
    "        if len(i) != 4:\n",
    "            raise ValueError(\"Please enter a list of exactly 12 unique \"+\\\n",
    "                         \"cards, each with 4 digits, each of which being either 0, 1, or 2.\")\n",
    "        for j in i:\n",
    "            if j not in str(list(range(3))):\n",
    "                raise ValueError(\"Please enter a list of exactly 12 unique \"+\\\n",
    "                         \"cards, each with 4 digits, each of which being either 0, 1, or 2.\")\n",
    "    if len(cards) != 12 or len(set(cards)) != len(cards):\n",
    "        raise ValueError(\"Please enter a list of exactly 12 unique \"+\\\n",
    "                         \"cards, each with 4 digits, each of which being either 0, 1, or 2.\")\n",
    "    count = 0\n",
    "    for i in list(combinations(cards,3)):\n",
    "        if is_set(i[0],i[1],i[2]):\n",
    "            count+=1        \n",
    "    return count\n",
    "\n",
    "def is_set(a, b, c):\n",
    "    \"\"\"Determine if the cards a, b, and c constitute a set.\n",
    "    Parameters:\n",
    "    a, b, c (str): string representations of 4-bit integers in base 3.\n",
    "    For example, \"1022\", \"1122\", and \"1020\" (which is not a set).\n",
    "    Returns:\n",
    "    True if a, b, and c form a set, meaning the ith digit of a, b,\n",
    "    and c are either the same or all different for i=1,2,3,4.\n",
    "    False if a, b, and c do not form a set.\n",
    "    \"\"\"\n",
    "    for i in range(4):\n",
    "        if len(set([a[i], b[i], c[i]])) not in [1,3]:\n",
    "            return False\n",
    "    return True"
   ]
  },
  {
   "cell_type": "markdown",
   "metadata": {},
   "source": [
    "Let's test our implementation using $\\mathtt{!py.test}$. It looks like it's a success!"
   ]
  },
  {
   "cell_type": "code",
   "execution_count": 56,
   "metadata": {
    "scrolled": true
   },
   "outputs": [
    {
     "name": "stdout",
     "output_type": "stream",
     "text": [
      "\u001b[1m============================= test session starts ==============================\u001b[0m\n",
      "platform darwin -- Python 3.6.5, pytest-3.6.2, py-1.5.3, pluggy-0.6.0\n",
      "rootdir: /Users/hbeard/Documents/GitHub/BootCamp2018/ProbSets/Comp/ProbSet1, inifile:\n",
      "plugins: remotedata-0.2.1, openfiles-0.3.0, doctestplus-0.1.3, cov-2.5.1, arraydiff-0.2\n",
      "collected 34 items                                                             \u001b[0m\u001b[1m\u001b[1m\n",
      "\n",
      "test_fraction.py ........\u001b[36m                                                [ 23%]\u001b[0m\n",
      "test_month_length.py .......\u001b[36m                                             [ 44%]\u001b[0m\n",
      "test_operate.py .......\u001b[36m                                                  [ 64%]\u001b[0m\n",
      "test_setgame.py ......\u001b[36m                                                   [ 82%]\u001b[0m\n",
      "test_smallest_factor.py ......\u001b[36m                                           [100%]\u001b[0m\n",
      "\n",
      "\u001b[32m\u001b[1m========================== 34 passed in 0.22 seconds ===========================\u001b[0m\n"
     ]
    }
   ],
   "source": [
    "!py.test"
   ]
  },
  {
   "cell_type": "code",
   "execution_count": 54,
   "metadata": {
    "scrolled": true
   },
   "outputs": [
    {
     "name": "stdout",
     "output_type": "stream",
     "text": [
      "\u001b[1m============================= test session starts ==============================\u001b[0m\n",
      "platform darwin -- Python 3.6.5, pytest-3.6.2, py-1.5.3, pluggy-0.6.0\n",
      "rootdir: /Users/hbeard/Documents/GitHub/BootCamp2018/ProbSets/Comp/ProbSet1, inifile:\n",
      "plugins: remotedata-0.2.1, openfiles-0.3.0, doctestplus-0.1.3, cov-2.5.1, arraydiff-0.2\n",
      "collected 34 items                                                             \u001b[0m\u001b[1m\n",
      "\n",
      "test_fraction.py ........\u001b[36m                                                [ 23%]\u001b[0m\n",
      "test_month_length.py .......\u001b[36m                                             [ 44%]\u001b[0m\n",
      "test_operate.py .......\u001b[36m                                                  [ 64%]\u001b[0m\n",
      "test_setgame.py ......\u001b[36m                                                   [ 82%]\u001b[0m\n",
      "test_smallest_factor.py ......\u001b[36m                                           [100%]\u001b[0m\n",
      "\n",
      "---------- coverage: platform darwin, python 3.6.5-final-0 -----------\n",
      "Name                      Stmts   Miss  Cover\n",
      "---------------------------------------------\n",
      "fraction.py                  33      0   100%\n",
      "month_length.py              10      0   100%\n",
      "operate.py                   14      0   100%\n",
      "setgame.py                   20      0   100%\n",
      "smallest_factor.py            5      0   100%\n",
      "test_fraction.py             60      0   100%\n",
      "test_month_length.py         15      0   100%\n",
      "test_operate.py              22      0   100%\n",
      "test_setgame.py              65      0   100%\n",
      "test_smallest_factor.py      13      0   100%\n",
      "---------------------------------------------\n",
      "TOTAL                       257      0   100%\n",
      "\n",
      "\n",
      "\u001b[32m\u001b[1m========================== 34 passed in 0.18 seconds ===========================\u001b[0m\n"
     ]
    }
   ],
   "source": [
    "!py.test --cov"
   ]
  },
  {
   "cell_type": "code",
   "execution_count": 55,
   "metadata": {
    "scrolled": false
   },
   "outputs": [
    {
     "name": "stdout",
     "output_type": "stream",
     "text": [
      "\u001b[1m============================= test session starts ==============================\u001b[0m\n",
      "platform darwin -- Python 3.6.5, pytest-3.6.2, py-1.5.3, pluggy-0.6.0\n",
      "rootdir: /Users/hbeard/Documents/GitHub/BootCamp2018/ProbSets/Comp/ProbSet1, inifile:\n",
      "plugins: remotedata-0.2.1, openfiles-0.3.0, doctestplus-0.1.3, cov-2.5.1, arraydiff-0.2\n",
      "collected 34 items                                                             \u001b[0m\u001b[1m\n",
      "\n",
      "test_fraction.py ........\u001b[36m                                                [ 23%]\u001b[0m\n",
      "test_month_length.py .......\u001b[36m                                             [ 44%]\u001b[0m\n",
      "test_operate.py .......\u001b[36m                                                  [ 64%]\u001b[0m\n",
      "test_setgame.py ......\u001b[36m                                                   [ 82%]\u001b[0m\n",
      "test_smallest_factor.py ......\u001b[36m                                           [100%]\u001b[0m\n",
      "\n",
      "---------- coverage: platform darwin, python 3.6.5-final-0 -----------\n",
      "Coverage HTML written to dir htmlcov\n",
      "\n",
      "\n",
      "\u001b[32m\u001b[1m========================== 34 passed in 0.18 seconds ===========================\u001b[0m\n"
     ]
    }
   ],
   "source": [
    "!py.test --cov-report html --cov"
   ]
  },
  {
   "cell_type": "markdown",
   "metadata": {},
   "source": [
    "# Object Oriented Programming"
   ]
  },
  {
   "cell_type": "markdown",
   "metadata": {},
   "source": [
    "## Problem 1 {-}"
   ]
  },
  {
   "cell_type": "code",
   "execution_count": 94,
   "metadata": {},
   "outputs": [],
   "source": [
    "class Backpack:\n",
    "    \"\"\"\n",
    "    A backpack object class. Has a name, color, maximum size,\n",
    "    and a list of contents.\n",
    "    \n",
    "    Attributes:\n",
    "        name (str): the name of the backpack's owner.\n",
    "        color (str): the color of the backpack.\n",
    "        max_size (int): the maximum amount of items in \n",
    "                        the 'contents' attribute.\n",
    "        contents (list): the contents of the backpack.\n",
    "    \"\"\"\n",
    "    def __init__(self, name, color, max_size = 5):\n",
    "        \"\"\"\n",
    "        Set the name and initialize and empty list of contents\n",
    "        of the backpack.\n",
    "        \n",
    "        Params:\n",
    "            name (str): the name of the backpack's owner.\n",
    "            color (str): the color of the backpack.\n",
    "            max_size (int): the maximum amount of items in \n",
    "                            the 'contents' attribute.\n",
    "        \"\"\"\n",
    "        self.name = name\n",
    "        self.color = color\n",
    "        self.max_size = max_size\n",
    "        self.contents = []\n",
    "        \n",
    "    def put(self, item):\n",
    "        \"\"\"\n",
    "        Adds an 'item' to the backpack's list of contents by\n",
    "        appending the 'contents' list by that item.\n",
    "        \"\"\"\n",
    "        if len(self.contents) + 1 > self.max_size:\n",
    "            print(\"No Room!\")\n",
    "        else:\n",
    "            self.contents.append(item)\n",
    "            \n",
    "    def dump(self):\n",
    "        \"\"\"\n",
    "        Empties the backpack entirely; resets 'contents'\n",
    "        back to the empty list [].\n",
    "        \"\"\"\n",
    "        self.contents = []\n",
    "    \n",
    "    def take(self, item):\n",
    "        \"\"\"\n",
    "        Remove 'item' from the backpack's list of contents.\n",
    "        \"\"\"\n",
    "        self.contents.remove(item)"
   ]
  },
  {
   "cell_type": "markdown",
   "metadata": {},
   "source": [
    "Testing to see if it works:"
   ]
  },
  {
   "cell_type": "code",
   "execution_count": 97,
   "metadata": {},
   "outputs": [],
   "source": [
    "def test_backpack():\n",
    "    testpack = Backpack(\"Barry\",\"black\")\n",
    "    if testpack.name != \"Barry\":\n",
    "        print(\"Backpack.name assigned incorrectly\")\n",
    "    for item in [\"pencil\",\"pen\",\"paper\",\"computer\"]:\n",
    "        testpack.put(item)\n",
    "    print(\"Contents:\",testpack.contents)\n",
    "    print(testpack.max_size)\n",
    "    testpack.put(\"binder\")\n",
    "    testpack.put(\"giraffe\") # no room for one more item\n",
    "    testpack.take(\"paper\")\n",
    "    print(testpack.contents)\n",
    "    testpack.dump()\n",
    "    print(testpack.contents)"
   ]
  },
  {
   "cell_type": "code",
   "execution_count": 98,
   "metadata": {},
   "outputs": [
    {
     "name": "stdout",
     "output_type": "stream",
     "text": [
      "Contents: ['pencil', 'pen', 'paper', 'computer']\n",
      "5\n",
      "No Room!\n",
      "['pencil', 'pen', 'computer', 'binder']\n",
      "[]\n"
     ]
    }
   ],
   "source": [
    "test_backpack()"
   ]
  },
  {
   "cell_type": "markdown",
   "metadata": {},
   "source": [
    "## Problem 2 {-}"
   ]
  },
  {
   "cell_type": "code",
   "execution_count": null,
   "metadata": {},
   "outputs": [],
   "source": [
    "class Jetpack (Backpack):\n",
    "    \"\"\"\n",
    "    A jetpack subclass of Backpack. \n",
    "    Has a name, color, max size, fuel, and a list of contents.\n",
    "    \n",
    "    Attributes:\n",
    "        name (str): the name of the backpack's owner.\n",
    "        color (str): the color of the backpack.\n",
    "        max_size (int): the maximum amount of items in \n",
    "                        the 'contents' attribute.\n",
    "        fuel (int): amount of fuel in the jetpack (to be used\n",
    "                    for flying)\n",
    "        contents (list): the contents of the backpack.\n",
    "    \"\"\"\n",
    "    def __init__(self, name, color, max_size = 2, fuel = 10):\n",
    "        \"\"\"\n",
    "        Constructs a jetpack object by initializing name and color.\n",
    "        Keyword arguments include max_size and fuel. Contents attribute\n",
    "        is also initialized.\n",
    "\n",
    "        Params:\n",
    "            name (str): the name of the person who owns the jetpack.\n",
    "            color (str): the color of the jetpack.\n",
    "            max_size (int): the maximum number of contents in the jetpack.\n",
    "            fuel (int): the amount of fuel in the jetpack.\n",
    "        \"\"\"\n",
    "        self.name = name\n",
    "        self.color = color\n",
    "        self.max_size = max_size\n",
    "        self.fuel = fuel\n",
    "        self.contents = []\n",
    "    def fly(self, fuel_burn):\n",
    "        \"\"\"\n",
    "        Accepts an amount of fuel to be burned and decreases\n",
    "        the fuel attribute by that amount.\n",
    "        \n",
    "        Params:\n",
    "            fuel_burn (int): amount of fuel to be burned for the flight.\n",
    "        \"\"\"\n",
    "        if fuel_burn > self.fuel:\n",
    "            print(\"Not enough fuel!\")\n",
    "        else:\n",
    "            self.fuel -= fuel_burn\n",
    "    def dump(self):\n",
    "        \"\"\"\n",
    "        Completely empites the contents and fuel attributes.\n",
    "        \"\"\"\n",
    "        self.contents = []\n",
    "        self.fuel = 0"
   ]
  },
  {
   "cell_type": "markdown",
   "metadata": {},
   "source": [
    "## Problem 3 {-}"
   ]
  },
  {
   "cell_type": "code",
   "execution_count": 9,
   "metadata": {},
   "outputs": [],
   "source": [
    "class Backpack:\n",
    "    \"\"\"\n",
    "    A backpack object class. Has a name, color, maximum size,\n",
    "    and a list of contents.\n",
    "    \n",
    "    Attributes:\n",
    "        name (str): the name of the backpack's owner.\n",
    "        color (str): the color of the backpack.\n",
    "        max_size (int): the maximum amount of items in \n",
    "                        the 'contents' attribute.\n",
    "        contents (list): the contents of the backpack.\n",
    "    \"\"\"\n",
    "    def __init__(self, name, color, max_size = 5):\n",
    "        \"\"\"\n",
    "        Set the name and initialize and empty list of contents\n",
    "        of the backpack.\n",
    "        \n",
    "        Params:\n",
    "            name (str): the name of the backpack's owner.\n",
    "            color (str): the color of the backpack.\n",
    "            max_size (int): the maximum amount of items in \n",
    "                            the 'contents' attribute.\n",
    "        \"\"\"\n",
    "        self.name = name\n",
    "        self.color = color\n",
    "        self.max_size = max_size\n",
    "        self.contents = []\n",
    "        \n",
    "    def put(self, item):\n",
    "        \"\"\"\n",
    "        Adds an 'item' to the backpack's list of contents by\n",
    "        appending the 'contents' list by that item.\n",
    "        \"\"\"\n",
    "        if len(self.contents) + 1 > self.max_size:\n",
    "            print(\"No Room!\")\n",
    "        else:\n",
    "            self.contents.append(item)\n",
    "            \n",
    "    def dump(self):\n",
    "        \"\"\"\n",
    "        Empties the backpack entirely; resets 'contents'\n",
    "        back to the empty list [].\n",
    "        \"\"\"\n",
    "        self.contents = []\n",
    "    \n",
    "    def take(self, item):\n",
    "        \"\"\"\n",
    "        Remove 'item' from the backpack's list of contents.\n",
    "        \"\"\"\n",
    "        self.contents.remove(item)\n",
    "    def __eq__(self, other):\n",
    "        \"\"\"\n",
    "        Returns True if and only if the name, color, and\n",
    "        contents of another Backpack object (taken in as an\n",
    "        argument) are equal to its own name, color, and contents.\n",
    "        \n",
    "        Params:\n",
    "            other (Backpack object): another backpack that we're \n",
    "                                     interested in comparing our\n",
    "                                     own backpack's attributes to.            \n",
    "        \"\"\"\n",
    "        return self.name == other.name and \\\n",
    "               self.color == other.color and \\\n",
    "               self.contents == other.contents\n",
    "    def __str__(self):\n",
    "        \"\"\"\n",
    "        Returns a string summary of attributes about the\n",
    "        specific instantiation of this Backpack.\n",
    "        \"\"\"\n",
    "        s  = \"Owner: \\t\\t\"  + str(self.name) + \"\\n\"\n",
    "        s += \"Color: \\t\\t\"  + str(self.color) + \"\\n\"\n",
    "        s += \"Size: \\t\\t\"   + str(len(self.contents)) + \"\\n\"\n",
    "        s += \"Max Size: \\t\" + str(self.max_size) + \"\\n\"\n",
    "        s += \"Contents: \\t\" + str(self.contents)\n",
    "        return s"
   ]
  },
  {
   "cell_type": "markdown",
   "metadata": {},
   "source": [
    "## Problem 4 {-}"
   ]
  },
  {
   "cell_type": "code",
   "execution_count": 79,
   "metadata": {},
   "outputs": [],
   "source": [
    "from math import sqrt\n",
    "\n",
    "class ComplexNumber:\n",
    "    \"\"\"\n",
    "    ComplexNumber class. Contains real and imaginary parts, both floats or ints (unless coerced to float).\n",
    "    Params: real (the real part), and imag (the imaginary part)\n",
    "    \"\"\"\n",
    "    def __init__(self, real, imag):\n",
    "        \"\"\"\n",
    "        Initializes an object with real and imaginary parts, specified as arguments.\n",
    "        \"\"\"\n",
    "        self.real = real\n",
    "        self.imag = imag\n",
    "    def conjugate(self):\n",
    "        \"\"\"\n",
    "        Returns the complex conjugate of the number.\n",
    "        \"\"\"\n",
    "        return ComplexNumber(self.real, -1 * self.imag)\n",
    "    def __str__(self):\n",
    "        \"\"\"\n",
    "        If we call print(z) for ComplexNumber z, we should get (Re(z)+/-Im(z)j) for Re(z)!=0 and Im(z)j otherwise.\n",
    "        \"\"\"\n",
    "        if self.real == 0:\n",
    "            return str(self.imag) + \"j\"\n",
    "        elif self.imag >= 0:\n",
    "            return \"(\" + str(self.real) + \"+\" + str(abs(self.imag)) + \"j)\"\n",
    "        elif self.imag < 0:\n",
    "            return \"(\" + str(self.real) + \"-\" + str(abs(self.imag)) + \"j)\"\n",
    "    def __abs__(self):\n",
    "        \"\"\"\n",
    "        Returns the 'norm' of the complex number, defined as \\sqrt{ \\Re(z)^2 + \\Im(z)^2}.\n",
    "        \"\"\"\n",
    "        return sqrt(self.real ** 2 + self.imag ** 2)\n",
    "    def __eq__(self, other):\n",
    "        \"\"\"\n",
    "        Defines an equals magic method. z1 == z2 iff Re(z1)==Re(z2) and Im(z1)==Im(z2).\n",
    "        \"\"\"\n",
    "        return self.real == other.real and self.imag == other.imag\n",
    "    def __add__(self, other):\n",
    "        \"\"\"\n",
    "        Defines an addition magic method. Adds component-wise\n",
    "        \"\"\"\n",
    "        return ComplexNumber(self.real + other.real, self.imag + other.imag)\n",
    "    def __sub__(self, other):\n",
    "        \"\"\"\n",
    "        Defines a subtraction magic method. Subtracts component-wise\n",
    "        \"\"\"\n",
    "        return ComplexNumber(self.real - other.real, self.imag - other.imag)\n",
    "    def __mul__(self, other):\n",
    "        \"\"\"\n",
    "        FOIL: (a+bi)*(c+di) = ac + adi + bic + bidi\n",
    "                            = ac + adi + bic - bd\n",
    "                            = (ac - bd) + (ad + bc)i\n",
    "                            = ComplexNumber(ac-bd, ad+bc)\n",
    "        \"\"\"\n",
    "        re = self.real * other.real - self.imag * other.imag\n",
    "        im = self.real * other.imag + self.imag * other.real\n",
    "        return ComplexNumber(re, im)\n",
    "    def __truediv__(self, other):\n",
    "        \"\"\"\n",
    "        Multiply by conj: \n",
    "            (a+bi)/(c+di) = (a+bi)/(c+di)*(c-di)/(c-di)\n",
    "                          = ...\n",
    "                          = ((ac+bd)/(c^2+d^2)) + ((bc-ad)/(c^2+d^2))i\n",
    "        \"\"\"\n",
    "        n = self.__mul__(other.conjugate())\n",
    "        d = other.__mul__(other.conjugate())\n",
    "        return ComplexNumber(n.real / d.real, n.imag / d.real)"
   ]
  },
  {
   "cell_type": "markdown",
   "metadata": {},
   "source": [
    "Below is the testing function:"
   ]
  },
  {
   "cell_type": "code",
   "execution_count": 111,
   "metadata": {},
   "outputs": [],
   "source": [
    "def test_ComplexNumber(a,b,c,d):\n",
    "    \"\"\"\n",
    "    Tests the ComplexNumber class construction to see if all the defined methods work as expected.\n",
    "    \"\"\"\n",
    "    success = True    \n",
    "    py_cnum, my_cnum = complex(a,b), ComplexNumber(a,b)\n",
    "    py_cnum2, my_cnum2 = complex(c,d), ComplexNumber(c,d)\n",
    "    \n",
    "    # Validate the constructor.\n",
    "    if my_cnum.real != a or my_cnum.imag != b:\n",
    "        print(\"__init__() set self.real and self.imag incorrectly\")\n",
    "        success = False\n",
    "        \n",
    "    # Validate conjugate() by checking the new number's imag attribute.\n",
    "    if py_cnum.conjugate().imag != my_cnum.conjugate().imag:\n",
    "        print(\"conjugate() failed for\", py_cnum)\n",
    "        success = False\n",
    "    \n",
    "    # Validate __str__().\n",
    "    if str(py_cnum) != str(my_cnum):\n",
    "        print(\"__str__() failed for\", py_cnum)\n",
    "        success = False\n",
    "        \n",
    "    # Validate __abs__().\n",
    "    if abs(py_cnum) != abs(my_cnum):\n",
    "        print(\"__abs__() failed for\", py_cnum)\n",
    "        success = False\n",
    "    \n",
    "    # Validate __eq__().\n",
    "    if (complex(a,b) == py_cnum) != (ComplexNumber(a,b) == my_cnum):\n",
    "        print(\"__eq__() failed for\", py_cnum)\n",
    "        success = False\n",
    "    \n",
    "    # Validate __add__():\n",
    "    if my_cnum + my_cnum2 != py_cnum + py_cnum2:\n",
    "        print(\"__add__() failed for\", py_cnum)\n",
    "        success = False\n",
    "        \n",
    "    # Validate __sub__():\n",
    "    if my_cnum - my_cnum2 != py_cnum - py_cnum2:\n",
    "        print(\"__sub__() failed for\", py_cnum)\n",
    "        success = False\n",
    "        \n",
    "    # Validate __mul__():\n",
    "    if my_cnum * my_cnum2 != py_cnum * py_cnum2:\n",
    "        print(\"__mul__() failed for\", py_cnum)\n",
    "        success = False\n",
    "        \n",
    "    # Validate __truediv__():\n",
    "    if my_cnum2.real == 0 and my_cnum2.imag == 0:\n",
    "        pass # avoiding dividing by zero error\n",
    "    else:\n",
    "        my_quotient = my_cnum / my_cnum2\n",
    "        py_quotient = py_cnum / py_cnum2\n",
    "        if    (round(my_quotient.real,8) != round(py_quotient.real,8)) \\\n",
    "           or (round(my_quotient.imag,8) != round(py_quotient.imag,8)) :\n",
    "            # rounded to avoid round-off error\n",
    "            print(\"__truediv__() failed for\", py_cnum)\n",
    "            success = False\n",
    "        \n",
    "    return success"
   ]
  },
  {
   "cell_type": "code",
   "execution_count": 112,
   "metadata": {},
   "outputs": [
    {
     "name": "stdout",
     "output_type": "stream",
     "text": [
      "It works!\n"
     ]
    }
   ],
   "source": [
    "successes = []\n",
    "for i in range(-5,6):\n",
    "    for j in range(-5,6):\n",
    "        for k in range(-5,6):\n",
    "            for l in range(-5,6):\n",
    "                successes.append(test_ComplexNumber(i,j,k,l))\n",
    "if(all(successes) == True):\n",
    "    print(\"It works!\")\n",
    "else:\n",
    "    print(\"It failed :(\")"
   ]
  },
  {
   "cell_type": "markdown",
   "metadata": {},
   "source": [
    "As we can see, it looks like it worked!"
   ]
  },
  {
   "cell_type": "markdown",
   "metadata": {},
   "source": [
    "# Exceptions and File I/O"
   ]
  },
  {
   "cell_type": "markdown",
   "metadata": {},
   "source": [
    "## Problem 1 {-}"
   ]
  },
  {
   "cell_type": "code",
   "execution_count": 141,
   "metadata": {},
   "outputs": [],
   "source": [
    "def arithmagic():\n",
    "    \"\"\"\n",
    "    Prompts user for related sequences of 3-digit integers, eventually arriving at 1089. \n",
    "    Tests each time to see if user enters valid entries. If not, we raise a ValueError.\n",
    "    \"\"\"\n",
    "    step_1 = input(\"Enter a 3-digit number where the first \" \n",
    "                 + \"and last digits differ by 2 or more: \")\n",
    "    if any(list(step_1)) not in list(range(0,10)) or len(str(step_1)) != 3:\n",
    "        raise ValueError(\"Must be a 3-digit integer.\")\n",
    "    if abs(int(str(step_1)[0]) - int(str(step_1)[-1])) < 2:\n",
    "        raise ValueError(\"First and last digits must differ \" \n",
    "                       + \"by at least 2.\")\n",
    "        \n",
    "    step_2 = input(\"Enter the reverse of the first number, \" \n",
    "                 + \"obtained by reading it backwards: \")\n",
    "    if str(step_2)[::-1] != str(step_1):\n",
    "        raise ValueError(\"Must be the reverse of the first number.\")\n",
    "    \n",
    "    step_3 = input(\"Enter the positive difference of these \" \n",
    "                 + \"numbers: \")\n",
    "    if int(step_3) != abs(int(step_1) - int(step_2)):\n",
    "        raise ValueError(\"Must be the positive difference of \" \n",
    "                       + \"the first two numbers.\")\n",
    "    \n",
    "    step_4 = input(\"Enter the reverse of the previous result: \")\n",
    "    if str(step_4)[::-1] != str(step_3):\n",
    "        raise ValueError(\"Must be the reverse of the third number.\")\n",
    "        \n",
    "    print((str(step_3) + \"+\" + str(step_4) + \"= 1089 (ta-da!)\"))"
   ]
  },
  {
   "cell_type": "markdown",
   "metadata": {},
   "source": [
    "## Problem 2 {-}"
   ]
  },
  {
   "cell_type": "code",
   "execution_count": 151,
   "metadata": {},
   "outputs": [],
   "source": [
    "from random import choice\n",
    "def random_walk(max_iters=1e3):\n",
    "    \"\"\"\n",
    "    Returns a random walk (int) for 1e3 max iterations.\n",
    "    \"\"\"\n",
    "    walk=0\n",
    "    directions=[1,-1]\n",
    "    for i in range(int(max_iters)):\n",
    "        walk+=choice(directions)\n",
    "    return walk"
   ]
  },
  {
   "cell_type": "code",
   "execution_count": 161,
   "metadata": {},
   "outputs": [],
   "source": [
    "from random import choice\n",
    "def random_walk(max_iters=1e10):\n",
    "    \"\"\"\n",
    "    Returns a random walk (int) for 1e3 max iterations.\n",
    "    Aborts and reports the iteration and walk amounts if ^C is entered by user before completion of calculation.\n",
    "    \"\"\"\n",
    "    iteration = 0\n",
    "    try:\n",
    "        walk=0\n",
    "        directions=[1,-1]\n",
    "        for i in range(int(max_iters)):\n",
    "            walk+=choice(directions)\n",
    "            iteration += 1\n",
    "    except KeyboardInterrupt:\n",
    "        print(\"Process interrupted at iteration \" + str(iteration))\n",
    "    else:\n",
    "        print(\"Process completed\")\n",
    "    finally:\n",
    "        return walk"
   ]
  },
  {
   "cell_type": "markdown",
   "metadata": {},
   "source": [
    "## Problem 3 {-}"
   ]
  },
  {
   "cell_type": "code",
   "execution_count": 99,
   "metadata": {},
   "outputs": [],
   "source": [
    "class ContentFilter:\n",
    "    def __init__(self, file):\n",
    "        \"\"\"\n",
    "        Reads context of text file, repeaitng until a valid name is entered, in a while loop with a try-except block.\n",
    "        \"\"\"\n",
    "        error = True\n",
    "        while error:\n",
    "            try:\n",
    "                with open(file,\"r\") as f:\n",
    "                    pass\n",
    "            except:\n",
    "                file = input(\"Please enter a valid file name: \")\n",
    "            else:\n",
    "                error = False\n",
    "        with open(file,\"r\") as f:\n",
    "            self.name = f.name\n",
    "            self.contents = f.read()\n",
    "        print(\"File is closed: \", f.closed)"
   ]
  },
  {
   "cell_type": "markdown",
   "metadata": {},
   "source": [
    "Let's put it to the test with some samples:"
   ]
  },
  {
   "cell_type": "code",
   "execution_count": 100,
   "metadata": {},
   "outputs": [
    {
     "name": "stdout",
     "output_type": "stream",
     "text": [
      "File is closed:  True\n",
      "Name:  file.txt\n",
      "Contents: This is the file text.\n",
      "\n",
      "THIS IS SOME MORE TEXT.\n",
      "blah blah blah\n",
      "\n",
      "\n",
      "still testing\n",
      "\n",
      "This is the last line.\n"
     ]
    }
   ],
   "source": [
    "c = ContentFilter(\"file.txt\")\n",
    "print(\"Name: \",c.name)\n",
    "print(\"Contents:\",c.contents)"
   ]
  },
  {
   "cell_type": "code",
   "execution_count": 101,
   "metadata": {},
   "outputs": [
    {
     "name": "stdout",
     "output_type": "stream",
     "text": [
      "Please enter a valid file name: still-not-a-file.txt\n",
      "Please enter a valid file name: file.txt\n",
      "File is closed:  True\n",
      "Name:  file.txt\n",
      "Contents: This is the file text.\n",
      "\n",
      "THIS IS SOME MORE TEXT.\n",
      "blah blah blah\n",
      "\n",
      "\n",
      "still testing\n",
      "\n",
      "This is the last line.\n"
     ]
    }
   ],
   "source": [
    "c = ContentFilter(\"not-a-file.txt\")\n",
    "print(\"Name: \",c.name)\n",
    "print(\"Contents:\",c.contents)"
   ]
  },
  {
   "cell_type": "markdown",
   "metadata": {},
   "source": [
    "## Problem 4 {-}"
   ]
  },
  {
   "cell_type": "markdown",
   "metadata": {},
   "source": [
    "Putting it all together, we have the more expanded $\\mathtt{ContentFilter}$ class:"
   ]
  },
  {
   "cell_type": "code",
   "execution_count": 314,
   "metadata": {},
   "outputs": [],
   "source": [
    "class ContentFilter:\n",
    "    \"\"\"\n",
    "    Defines a ContentFilter class, with attributes name and contents (of the file), and a few methods that manipulate\n",
    "    the contents of the file. the only Param is the file name, assumed to be in the same directory.\n",
    "    \"\"\"\n",
    "    def __init__(self, file):\n",
    "        \"\"\"\n",
    "        Instantiates a ContentFilter object, attached to the file specified by the 'file' argument.\n",
    "        \"\"\"\n",
    "        error = True\n",
    "        while error:\n",
    "            try:\n",
    "                with open(file,\"r\") as f:\n",
    "                    pass\n",
    "            except:\n",
    "                file = input(\"Please enter a valid file name: \")\n",
    "            else:\n",
    "                error = False\n",
    "        with open(file,\"r\") as f:\n",
    "            self.name = f.name\n",
    "            self.contents = f.read()\n",
    "\n",
    "    def uniform(self, other_file, mode = \"w\", case = \"upper\"):\n",
    "        \"\"\"\n",
    "        Copies all the text in the underlying file and converts to the same case, then writing\n",
    "        to another file, specified in the argument. Defaults to uppercase.\n",
    "        Can specify writing mode (writing, writing new, or appending). Defaults to writing.\n",
    "        \"\"\"\n",
    "        try:\n",
    "            if mode not in [\"w\",\"x\",\"a\"]:\n",
    "                raise ValueError(\"Please specify only 'w', 'x', or 'a'.\")\n",
    "            if case not in [\"upper\",\"lower\"]:\n",
    "                raise ValueError(\"Please specify only 'upper' or 'lower'\")\n",
    "        except ValueError as e:\n",
    "            print(\"ValueError:\",e)\n",
    "        else:\n",
    "            if case == \"upper\":\n",
    "                with open(other_file, mode) as o_f:\n",
    "                    o_f.write(self.contents.upper())\n",
    "            elif case == \"lower\":\n",
    "                with open(other_file, mode) as o_f:\n",
    "                    o_f.write(self.contents.lower())\n",
    "    \n",
    "    def reverse(self, other_file, mode = \"w\", unit = \"line\"):\n",
    "        \"\"\"\n",
    "        Copies all the text in the underlying file and reverses it, then writing\n",
    "        to another file, specified in the argument. Can either reverse word-by-word with fixed lines, \n",
    "        or can reverse line-by-line with fixed words. Defaults to reversing line-by-line.\n",
    "        Can specify writing mode (writing, writing new, or appending). Defaults to writing.\n",
    "        \"\"\"\n",
    "        try:\n",
    "            if mode not in [\"w\",\"x\",\"a\"]:\n",
    "                raise ValueError(\"Please specify only 'w', 'x', or 'a'.\")\n",
    "            if unit not in [\"line\",\"word\"]:\n",
    "                raise ValueError(\"Please specify only 'line' or 'word'\")\n",
    "        except ValueError as e:\n",
    "            print(\"ValueError:\",e)\n",
    "        else:\n",
    "            if unit == \"line\":\n",
    "                with open(other_file, mode) as o_f:\n",
    "                    lines = []\n",
    "                    for i in self.contents.split(\"\\n\")[::-1]:\n",
    "                        lines.append(i + \"\\n\")\n",
    "                    o_f.writelines(lines)\n",
    "            elif unit == \"word\":\n",
    "                with open(other_file, mode) as o_f:\n",
    "                    for i in self.contents.split(\"\\n\"):\n",
    "                        words = \"\"\n",
    "                        for j in i.split(\" \")[::-1]:\n",
    "                            words += j + \" \"\n",
    "                        o_f.write(words + \"\\n\")\n",
    "        \n",
    "    def transpose(self, other_file, mode=\"w\"):\n",
    "        \"\"\"\n",
    "        Assuming an equal number of words per line.\n",
    "        Copies all the text in the underlying file and \"transposes\" it (where each word separated by \" \" or \"\\n\"\n",
    "        is a \"cell\" in matrix), then writing to another file, specified in the argument. \n",
    "        Can specify writing mode (writing, writing new, or appending). Defaults to writing.\n",
    "        \"\"\"\n",
    "        try:\n",
    "            if mode not in [\"w\",\"x\",\"a\"]:\n",
    "                raise ValueError(\"Please specify only 'w', 'x', or 'a'.\")\n",
    "        except ValueError as e:\n",
    "            print(\"ValueError:\",e)\n",
    "        else:\n",
    "            rows = self.contents.split(\"\\n\")\n",
    "            cols = []\n",
    "            row = []\n",
    "            for i in rows:\n",
    "                row.append(i.split(\" \"))\n",
    "            for i in range(len(rows)):\n",
    "                rows[i] = row[i]\n",
    "            for j in range(len(rows[0])): \n",
    "                col = \"\"\n",
    "                # assuming same number of words per line\n",
    "                for i in rows:\n",
    "                    col += i[j] + \" \"\n",
    "                cols.append(col)\n",
    "                                \n",
    "            transposed = \"\"\n",
    "            \n",
    "            for j in cols:\n",
    "                transposed += j + \"\\n\"\n",
    "                \n",
    "            with open(other_file, mode) as o_f:\n",
    "                o_f.write(transposed)"
   ]
  }
 ],
 "metadata": {
  "kernelspec": {
   "display_name": "Python 3",
   "language": "python",
   "name": "python3"
  },
  "language_info": {
   "codemirror_mode": {
    "name": "ipython",
    "version": 3
   },
   "file_extension": ".py",
   "mimetype": "text/x-python",
   "name": "python",
   "nbconvert_exporter": "python",
   "pygments_lexer": "ipython3",
   "version": "3.6.5"
  }
 },
 "nbformat": 4,
 "nbformat_minor": 2
}
