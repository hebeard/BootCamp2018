{
 "cells": [
  {
   "cell_type": "markdown",
   "metadata": {},
   "source": [
    "# Intro to NumPy"
   ]
  },
  {
   "cell_type": "markdown",
   "metadata": {},
   "source": [
    "include docstrings everywhere on this doc and also the other py files!! also add name at the end and fix up the Python script"
   ]
  },
  {
   "cell_type": "markdown",
   "metadata": {},
   "source": [
    "## Problem 1"
   ]
  },
  {
   "cell_type": "code",
   "execution_count": 3,
   "metadata": {},
   "outputs": [],
   "source": [
    "import numpy as np\n",
    "\n",
    "### PART 1: INTRO TO NUMPY\n",
    "\n",
    "# Problem 1\n",
    "def problem1_1():\n",
    "    A = np.array([[3, -1,  4], \n",
    "                  [1,  5, -9]])\n",
    "    B = np.array([[2,  6, -5,  3], \n",
    "                  [5, -8,  9,  7], \n",
    "                  [9, -3, -2, -3]])\n",
    "    return np.dot(A, B)"
   ]
  },
  {
   "cell_type": "markdown",
   "metadata": {},
   "source": [
    "## Problem 2"
   ]
  },
  {
   "cell_type": "code",
   "execution_count": 4,
   "metadata": {},
   "outputs": [],
   "source": [
    "# Problem 2\n",
    "def problem1_2():\n",
    "    A = np.array([[3,  1,  4],\n",
    "                  [1,  5,  9],\n",
    "                  [-5, 3,  1]])\n",
    "    ans = -1 * (np.dot(A, np.dot(A, A))) + 9 * np.dot(A, A) - 15 * A\n",
    "    return ans"
   ]
  },
  {
   "cell_type": "markdown",
   "metadata": {},
   "source": [
    "## Problem 3"
   ]
  },
  {
   "cell_type": "code",
   "execution_count": 5,
   "metadata": {},
   "outputs": [],
   "source": [
    "# Problem 3\n",
    "def problem1_3():\n",
    "    ones = np.ones((7,7))\n",
    "    A = np.triu(ones)\n",
    "    fives = np.full((7,7), 5) - 5 * np.eye(7)\n",
    "    negOnes = -1 * ones\n",
    "    B = np.triu(fives) + np.tril(negOnes)\n",
    "    ABA = np.dot(A, np.dot(B, A))\n",
    "    ABA = ABA.astype(np.int64)\n",
    "    return ABA"
   ]
  },
  {
   "cell_type": "markdown",
   "metadata": {},
   "source": [
    "## Problem 4"
   ]
  },
  {
   "cell_type": "code",
   "execution_count": 6,
   "metadata": {},
   "outputs": [],
   "source": [
    "# Problem 4\n",
    "def problem1_4(array):\n",
    "    arrayCopy = array\n",
    "    mask = arrayCopy < 0\n",
    "    arrayCopy[mask] = 0\n",
    "    return arrayCopy"
   ]
  },
  {
   "cell_type": "markdown",
   "metadata": {},
   "source": [
    "## Problem 5"
   ]
  },
  {
   "cell_type": "code",
   "execution_count": 7,
   "metadata": {},
   "outputs": [],
   "source": [
    "# Problem 5\n",
    "def problem1_5():\n",
    "    A = np.array([[0, 2 ,4],\n",
    "                  [1 ,3 ,5]])\n",
    "    B = np.full((3,3), 3)\n",
    "    B = np.tril(B)\n",
    "    C = -2 * np.eye(3)\n",
    "    row1 = np.hstack((np.zeros((3,3)), A.T, np.eye(3)))\n",
    "    row2 = np.hstack((A, np.zeros((2,2)), np.zeros((2,3))))\n",
    "    row3 = np.hstack((B, np.zeros((3,2)), C))\n",
    "    output = np.vstack((row1, row2, row3))\n",
    "    return output"
   ]
  },
  {
   "cell_type": "markdown",
   "metadata": {},
   "source": [
    "## Problem 6"
   ]
  },
  {
   "cell_type": "code",
   "execution_count": 8,
   "metadata": {},
   "outputs": [],
   "source": [
    "# Problem 6\n",
    "def problem1_6(matrix):\n",
    "    return matrix / matrix.sum(axis=1).reshape((2,1))"
   ]
  },
  {
   "cell_type": "markdown",
   "metadata": {},
   "source": [
    "## Problem 7"
   ]
  },
  {
   "cell_type": "code",
   "execution_count": 26,
   "metadata": {},
   "outputs": [],
   "source": [
    "# Problem 7\n",
    "def problem1_7():\n",
    "    grid = np.load(\"grid.npy\")\n",
    "    hMax  = np.max(grid[:,:-3]   * grid[:,1:-2]    * grid[:,2:-1]    * grid[:,3:])\n",
    "    vMax  = np.max(grid[:-3,:]   * grid[1:-2,:]    * grid[2:-1,:]    * grid[3:,:])\n",
    "    dMax  = np.max(grid[:-3,:-3] * grid[1:-2,1:-2] * grid[2:-1,2:-1] * grid[3:,3:])\n",
    "    idMax = np.max(grid[:-3,3:] * grid[1:-2,2:-1] * grid[2:-1,1:-2] * grid[3:,:-3])\n",
    "    gMax = max(hMax, vMax, dMax, idMax)\n",
    "    print(\"horizontal max: \" + str(hMax))\n",
    "    print(\"vertical max: \" + str(vMax))\n",
    "    print(\"diagonal (L to R, T to B) max: \" + str(dMax))\n",
    "    print(\"inverse-diagonal (R to L, T to B) max: \" + str(idMax))\n",
    "    print(\"global max: \" + str(gMax))\n",
    "    return gMax\n",
    "    \n",
    "    # multiply element-wise version of a shifted-down (and right, and diag, and i-diag), 3 times, and find the max of the resultant matrix"
   ]
  },
  {
   "cell_type": "markdown",
   "metadata": {},
   "source": [
    "# Standard Library"
   ]
  },
  {
   "cell_type": "markdown",
   "metadata": {},
   "source": [
    "## Problem 1"
   ]
  },
  {
   "cell_type": "code",
   "execution_count": 11,
   "metadata": {},
   "outputs": [],
   "source": [
    "### PART 2: STANDARD LIBRARY\n",
    "\n",
    "# Problem 1\n",
    "def problem2_1(L):\n",
    "    return (min(L), max(L), sum(L)/len(L)) # (min, max, avg)"
   ]
  },
  {
   "cell_type": "markdown",
   "metadata": {},
   "source": [
    "## Problem 2"
   ]
  },
  {
   "cell_type": "code",
   "execution_count": 12,
   "metadata": {},
   "outputs": [],
   "source": [
    "# Problem 2\n",
    "def problem2_2():\n",
    "    int_1 = 5\n",
    "    int_2 = int_1\n",
    "    int_2 += 1\n",
    "    print(\"Integers are mutable: \" + str(int_1 == int_2))\n",
    "\n",
    "    str_1 = \"hello\"\n",
    "    str_2 = str_1\n",
    "    str_2 += \" world\"\n",
    "    print(\"Strings are mutable: \" + str(str_1 == str_2))\n",
    "    \n",
    "    list_1 = [1,2,3]\n",
    "    list_2 = list_1\n",
    "    list_2 += [4]\n",
    "    print(\"Lists are mutable: \" + str(list_1 == list_2))\n",
    "\n",
    "    tuple_1 = (1,2,3)\n",
    "    tuple_2 = tuple_1\n",
    "    tuple_2 += (4,)\n",
    "    print(\"Tuples are mutable: \" + str(tuple_1 == tuple_2))\n",
    "\n",
    "    set_1 = {1,2,3}\n",
    "    set_2 = set_1\n",
    "    set_2.add(4)\n",
    "    print(\"Sets are mutable: \" + str(set_1 == set_2))"
   ]
  },
  {
   "cell_type": "markdown",
   "metadata": {},
   "source": [
    "## Problem 3"
   ]
  },
  {
   "cell_type": "code",
   "execution_count": null,
   "metadata": {},
   "outputs": [],
   "source": [
    "# Calculator.py\n",
    "\n",
    "from math import sqrt\n",
    "\n",
    "def add(a,b):\n",
    "    return a+b\n",
    "\n",
    "def mult(a,b):\n",
    "    return a*b\n",
    "\n",
    "if __name__ == \"__main__\":\n",
    "    main()"
   ]
  },
  {
   "cell_type": "code",
   "execution_count": 13,
   "metadata": {},
   "outputs": [],
   "source": [
    "# Problem 3\n",
    "import calculator as c\n",
    "def problem2_3(a,b):\n",
    "    return c.sqrt(c.add(c.mult(a,a),c.mult(b,b)))"
   ]
  },
  {
   "cell_type": "markdown",
   "metadata": {},
   "source": [
    "## Problem 4"
   ]
  },
  {
   "cell_type": "code",
   "execution_count": 39,
   "metadata": {},
   "outputs": [],
   "source": [
    "# Problem 4\n",
    "from itertools import combinations\n",
    "def problem2_4(A):\n",
    "    powerset = []\n",
    "    for i in range(len(A)+1):\n",
    "        subset = combinations(A,i)\n",
    "        powerset += subset\n",
    "    for j in range(len(powerset)):\n",
    "        powerset[j] = set(powerset[j])\n",
    "    return powerset"
   ]
  },
  {
   "cell_type": "markdown",
   "metadata": {},
   "source": [
    "explain why it doesnt work for sets of sets - bc cant include iterables in sets"
   ]
  },
  {
   "cell_type": "markdown",
   "metadata": {},
   "source": [
    "## Problem 5"
   ]
  },
  {
   "cell_type": "code",
   "execution_count": null,
   "metadata": {},
   "outputs": [],
   "source": [
    "# Problem 5\n",
    "# see standard_library.py"
   ]
  },
  {
   "cell_type": "markdown",
   "metadata": {},
   "source": [
    "Continue working on standard_library module!!! Including docstrings, comments, and INCLUDE THE BOX MODULE IN IT!!! SEE EXISTING COMMENTS\n",
    "\n",
    "Edit script so that there are no lines that go off the page!!!"
   ]
  },
  {
   "cell_type": "markdown",
   "metadata": {},
   "source": [
    "# Unit Testing"
   ]
  },
  {
   "cell_type": "code",
   "execution_count": 80,
   "metadata": {
    "scrolled": true
   },
   "outputs": [
    {
     "name": "stdout",
     "output_type": "stream",
     "text": [
      "Requirement already satisfied: msgpack in /anaconda3/lib/python3.6/site-packages (0.5.6)\r\n"
     ]
    }
   ],
   "source": [
    "!pip install msgpack"
   ]
  },
  {
   "cell_type": "code",
   "execution_count": 117,
   "metadata": {
    "scrolled": true
   },
   "outputs": [
    {
     "name": "stdout",
     "output_type": "stream",
     "text": [
      "Requirement already up-to-date: pytest in /anaconda3/lib/python3.6/site-packages (3.6.2)\n",
      "Requirement not upgraded as not directly required: six>=1.10.0 in /anaconda3/lib/python3.6/site-packages (from pytest) (1.11.0)\n",
      "Requirement not upgraded as not directly required: atomicwrites>=1.0 in /anaconda3/lib/python3.6/site-packages (from pytest) (1.1.5)\n",
      "Requirement not upgraded as not directly required: attrs>=17.4.0 in /anaconda3/lib/python3.6/site-packages (from pytest) (18.1.0)\n",
      "Requirement not upgraded as not directly required: setuptools in /anaconda3/lib/python3.6/site-packages (from pytest) (39.1.0)\n",
      "Requirement not upgraded as not directly required: py>=1.5.0 in /anaconda3/lib/python3.6/site-packages (from pytest) (1.5.3)\n",
      "Requirement not upgraded as not directly required: pluggy<0.7,>=0.5 in /anaconda3/lib/python3.6/site-packages (from pytest) (0.6.0)\n",
      "Requirement not upgraded as not directly required: more-itertools>=4.0.0 in /anaconda3/lib/python3.6/site-packages (from pytest) (4.1.0)\n"
     ]
    }
   ],
   "source": [
    "!pip install -U pytest"
   ]
  },
  {
   "cell_type": "code",
   "execution_count": 114,
   "metadata": {},
   "outputs": [],
   "source": [
    "import pytest"
   ]
  },
  {
   "cell_type": "code",
   "execution_count": 118,
   "metadata": {
    "scrolled": true
   },
   "outputs": [
    {
     "ename": "SyntaxError",
     "evalue": "invalid syntax (<ipython-input-118-61be696ed5c7>, line 1)",
     "output_type": "error",
     "traceback": [
      "\u001b[0;36m  File \u001b[0;32m\"<ipython-input-118-61be696ed5c7>\"\u001b[0;36m, line \u001b[0;32m1\u001b[0m\n\u001b[0;31m    python -m pytest test_smallest_factor.py\u001b[0m\n\u001b[0m                   ^\u001b[0m\n\u001b[0;31mSyntaxError\u001b[0m\u001b[0;31m:\u001b[0m invalid syntax\n"
     ]
    }
   ],
   "source": [
    "python -m pytest test_smallest_factor.py"
   ]
  },
  {
   "cell_type": "code",
   "execution_count": null,
   "metadata": {},
   "outputs": [],
   "source": []
  },
  {
   "cell_type": "code",
   "execution_count": null,
   "metadata": {},
   "outputs": [],
   "source": []
  },
  {
   "cell_type": "code",
   "execution_count": null,
   "metadata": {},
   "outputs": [],
   "source": []
  },
  {
   "cell_type": "code",
   "execution_count": null,
   "metadata": {},
   "outputs": [],
   "source": []
  },
  {
   "cell_type": "code",
   "execution_count": null,
   "metadata": {},
   "outputs": [],
   "source": []
  },
  {
   "cell_type": "markdown",
   "metadata": {},
   "source": [
    "# Object Oriented Programming"
   ]
  },
  {
   "cell_type": "code",
   "execution_count": 130,
   "metadata": {},
   "outputs": [],
   "source": [
    "class Backpack:\n",
    "    \"\"\"\n",
    "    A backpack object class. Has a name, color, maximum size,\n",
    "    and a list of contents.\n",
    "    \n",
    "    Attributes:\n",
    "        name (str): the name of the backpack's owner.\n",
    "        color (str): the color of the backpack.\n",
    "        max_size (int): the maximum amount of items in \n",
    "                        the 'contents' attribute.\n",
    "        contents (list): the contents of the backpack.\n",
    "    \"\"\"\n",
    "    def __init__(self, name, color, max_size = 5):\n",
    "        \"\"\"\n",
    "        Set the name and initialize and empty list of contents\n",
    "        of the backpack.\n",
    "        \n",
    "        Params:\n",
    "            name (str): the name of the backpack's owner.\n",
    "            color (str): the color of the backpack.\n",
    "            max_size (int): the maximum amount of items in \n",
    "                            the 'contents' attribute.\n",
    "        \"\"\"\n",
    "        self.name = name\n",
    "        self.color = color\n",
    "        self.max_size = max_size\n",
    "        self.contents = []\n",
    "        \n",
    "    def put(self, item):\n",
    "        \"\"\"\n",
    "        Adds an 'item' to the backpack's list of contents by\n",
    "        appending the 'contents' list by that item.\n",
    "        \"\"\"\n",
    "        if len(self.contents) + 1 > self.max_size:\n",
    "            print(\"No Room!\")\n",
    "        else:\n",
    "            self.contents.append(item)\n",
    "            \n",
    "    def dump(self):\n",
    "        \"\"\"\n",
    "        Empties the backpack entirely; resets 'contents'\n",
    "        back to the empty list [].\n",
    "        \"\"\"\n",
    "        self.contents = []\n",
    "    \n",
    "    def take(self, item):\n",
    "        \"\"\"\n",
    "        Remove 'item' from the backpack's list of contents.\n",
    "        \"\"\"\n",
    "        self.contents.remove(item)"
   ]
  },
  {
   "cell_type": "code",
   "execution_count": 131,
   "metadata": {},
   "outputs": [],
   "source": [
    "def test_backpack():\n",
    "    testpack = Backpack(\"Barry\",\"black\")\n",
    "    if testpack.name != \"Barry\":\n",
    "        print(\"Backpack.name assigned incorrectly\")\n",
    "    for item in [\"pencil\",\"pen\",\"paper\",\"computer\"]:\n",
    "        testpack.put(item)\n",
    "    print(\"Contents:\",testpack.contents)"
   ]
  },
  {
   "cell_type": "code",
   "execution_count": 132,
   "metadata": {},
   "outputs": [
    {
     "name": "stdout",
     "output_type": "stream",
     "text": [
      "Contents: ['pencil', 'pen', 'paper', 'computer']\n"
     ]
    }
   ],
   "source": [
    "test_backpack()"
   ]
  },
  {
   "cell_type": "code",
   "execution_count": null,
   "metadata": {},
   "outputs": [],
   "source": [
    "class Knapsack(Backpack):\n",
    "    \"\"\"\n",
    "    A Knapsack object class. Inherits from the Backpack class.\n",
    "    A knapsack is smaller than a backpack and can be tied closed.\n",
    "    \n",
    "    Attributes:\n",
    "        name (str): the name of the knapsack's owner.\n",
    "        color (str): the color of the knapsack.\n",
    "        max_size (int): the max number of items that can fit inside.\n",
    "        contents (list): the contents of the backpack.\n",
    "        closed (bool): whether or not the knapsack is tied shut.\n",
    "    \"\"\"\n",
    "    def __init__(self, name, color, max_size=3):\n",
    "        \"\"\"\n",
    "        Use the Backpack constructor to initialize the name, color,\n",
    "        and max_size attributes. A knapsack only holds 3 items by default.\n",
    "        \n",
    "        Params:\n",
    "            name (str): the name of the knapsack's owner.\n",
    "            color (str): the color of the knapsack.\n",
    "            max_size (int): the max number of items that can fit inside.\n",
    "        \"\"\"\n",
    "        Backpack.__init__(self, name, color, max_size)\n",
    "        self.closed = True"
   ]
  },
  {
   "cell_type": "code",
   "execution_count": null,
   "metadata": {},
   "outputs": [],
   "source": [
    "class Knapsack (Backpack):\n",
    "    def put(self, item):\n",
    "        if self.closed:\n",
    "            print(\"I'm closed!\")\n",
    "        else:\n",
    "            Backpack. put(self, item)\n",
    "    def take(self, item):\n",
    "        if self.closed:\n",
    "            print(\"I'm closed!\")\n",
    "        else:\n",
    "            Backpack.take(self, item)\n",
    "    def weight(self):\n",
    "        return sum([len(str(item)) for item in self.contents])"
   ]
  },
  {
   "cell_type": "code",
   "execution_count": null,
   "metadata": {},
   "outputs": [],
   "source": [
    "class Jetpack (Backpack):\n",
    "    def __init__(self, name, color, max_size = 2, fuel = 10):\n",
    "        self.name = name\n",
    "        self.color = color\n",
    "        self.max_size = max_size\n",
    "        self.fuel = fuel\n",
    "    def fly(self, fuel_burn):\n",
    "        "
   ]
  },
  {
   "cell_type": "code",
   "execution_count": null,
   "metadata": {},
   "outputs": [],
   "source": []
  },
  {
   "cell_type": "code",
   "execution_count": null,
   "metadata": {},
   "outputs": [],
   "source": []
  },
  {
   "cell_type": "code",
   "execution_count": null,
   "metadata": {},
   "outputs": [],
   "source": []
  },
  {
   "cell_type": "code",
   "execution_count": null,
   "metadata": {},
   "outputs": [],
   "source": []
  },
  {
   "cell_type": "code",
   "execution_count": null,
   "metadata": {},
   "outputs": [],
   "source": []
  },
  {
   "cell_type": "code",
   "execution_count": null,
   "metadata": {},
   "outputs": [],
   "source": []
  },
  {
   "cell_type": "code",
   "execution_count": null,
   "metadata": {},
   "outputs": [],
   "source": []
  },
  {
   "cell_type": "code",
   "execution_count": null,
   "metadata": {},
   "outputs": [],
   "source": []
  },
  {
   "cell_type": "code",
   "execution_count": null,
   "metadata": {},
   "outputs": [],
   "source": []
  },
  {
   "cell_type": "code",
   "execution_count": null,
   "metadata": {},
   "outputs": [],
   "source": []
  },
  {
   "cell_type": "markdown",
   "metadata": {},
   "source": [
    "# Exceptions and File I/O"
   ]
  },
  {
   "cell_type": "code",
   "execution_count": null,
   "metadata": {},
   "outputs": [],
   "source": []
  },
  {
   "cell_type": "code",
   "execution_count": null,
   "metadata": {},
   "outputs": [],
   "source": []
  },
  {
   "cell_type": "code",
   "execution_count": null,
   "metadata": {},
   "outputs": [],
   "source": []
  },
  {
   "cell_type": "code",
   "execution_count": null,
   "metadata": {},
   "outputs": [],
   "source": []
  },
  {
   "cell_type": "code",
   "execution_count": null,
   "metadata": {},
   "outputs": [],
   "source": []
  }
 ],
 "metadata": {
  "kernelspec": {
   "display_name": "Python 3",
   "language": "python",
   "name": "python3"
  },
  "language_info": {
   "codemirror_mode": {
    "name": "ipython",
    "version": 3
   },
   "file_extension": ".py",
   "mimetype": "text/x-python",
   "name": "python",
   "nbconvert_exporter": "python",
   "pygments_lexer": "ipython3",
   "version": "3.6.5"
  }
 },
 "nbformat": 4,
 "nbformat_minor": 2
}
